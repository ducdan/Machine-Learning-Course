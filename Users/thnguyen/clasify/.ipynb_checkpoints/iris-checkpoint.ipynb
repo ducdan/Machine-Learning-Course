{
 "cells": [
  {
   "cell_type": "code",
   "execution_count": 1,
   "metadata": {
    "collapsed": true
   },
   "outputs": [],
   "source": [
    "import pandas as pd\n",
    "import numpy as np\n",
    "import matplotlib.pyplot as plt"
   ]
  },
  {
   "cell_type": "code",
   "execution_count": 2,
   "metadata": {
    "scrolled": true
   },
   "outputs": [
    {
     "name": "stdout",
     "output_type": "stream",
     "text": [
      "   Sepal_length  Sepal_width  Petal_length  Petal_width Species\n",
      "0           4.9          3.0           1.4          0.2  setosa\n",
      "1           4.7          3.2           1.3          0.2  setosa\n",
      "2           4.6          3.1           1.5          0.2  setosa\n",
      "3           5.0          3.6           1.4          0.3  setosa\n",
      "4           5.4          3.9           1.7          0.4  setosa\n",
      "       Sepal_length  Sepal_width  Petal_length  Petal_width\n",
      "count    148.000000   148.000000    148.000000   148.000000\n",
      "mean       5.835811     3.054730      3.758108     1.199324\n",
      "std        0.817164     0.437266      1.756001     0.756693\n",
      "min        4.300000     2.000000      1.000000     0.100000\n",
      "25%        5.100000     2.800000      1.600000     0.300000\n",
      "50%        5.800000     3.000000      4.350000     1.300000\n",
      "75%        6.400000     3.300000      5.100000     1.800000\n",
      "max        7.900000     4.400000      6.900000     2.500000\n"
     ]
    }
   ],
   "source": [
    "data=pd.read_csv(\"iris_dataset.txt\", sep = \"\\t\")\n",
    "print(data.head(5))\n",
    "print(data.describe())"
   ]
  },
  {
   "cell_type": "code",
   "execution_count": 3,
   "metadata": {},
   "outputs": [
    {
     "data": {
      "text/html": [
       "<div>\n",
       "<style>\n",
       "    .dataframe thead tr:only-child th {\n",
       "        text-align: right;\n",
       "    }\n",
       "\n",
       "    .dataframe thead th {\n",
       "        text-align: left;\n",
       "    }\n",
       "\n",
       "    .dataframe tbody tr th {\n",
       "        vertical-align: top;\n",
       "    }\n",
       "</style>\n",
       "<table border=\"1\" class=\"dataframe\">\n",
       "  <thead>\n",
       "    <tr style=\"text-align: right;\">\n",
       "      <th></th>\n",
       "      <th>Sepal_length</th>\n",
       "      <th>Sepal_width</th>\n",
       "      <th>Petal_length</th>\n",
       "      <th>Petal_width</th>\n",
       "      <th>Species</th>\n",
       "      <th>spec_num</th>\n",
       "    </tr>\n",
       "  </thead>\n",
       "  <tbody>\n",
       "    <tr>\n",
       "      <th>0</th>\n",
       "      <td>4.9</td>\n",
       "      <td>3.0</td>\n",
       "      <td>1.4</td>\n",
       "      <td>0.2</td>\n",
       "      <td>setosa</td>\n",
       "      <td>0</td>\n",
       "    </tr>\n",
       "    <tr>\n",
       "      <th>1</th>\n",
       "      <td>4.7</td>\n",
       "      <td>3.2</td>\n",
       "      <td>1.3</td>\n",
       "      <td>0.2</td>\n",
       "      <td>setosa</td>\n",
       "      <td>0</td>\n",
       "    </tr>\n",
       "    <tr>\n",
       "      <th>2</th>\n",
       "      <td>4.6</td>\n",
       "      <td>3.1</td>\n",
       "      <td>1.5</td>\n",
       "      <td>0.2</td>\n",
       "      <td>setosa</td>\n",
       "      <td>0</td>\n",
       "    </tr>\n",
       "    <tr>\n",
       "      <th>3</th>\n",
       "      <td>5.0</td>\n",
       "      <td>3.6</td>\n",
       "      <td>1.4</td>\n",
       "      <td>0.3</td>\n",
       "      <td>setosa</td>\n",
       "      <td>0</td>\n",
       "    </tr>\n",
       "    <tr>\n",
       "      <th>4</th>\n",
       "      <td>5.4</td>\n",
       "      <td>3.9</td>\n",
       "      <td>1.7</td>\n",
       "      <td>0.4</td>\n",
       "      <td>setosa</td>\n",
       "      <td>0</td>\n",
       "    </tr>\n",
       "  </tbody>\n",
       "</table>\n",
       "</div>"
      ],
      "text/plain": [
       "   Sepal_length  Sepal_width  Petal_length  Petal_width Species  spec_num\n",
       "0           4.9          3.0           1.4          0.2  setosa         0\n",
       "1           4.7          3.2           1.3          0.2  setosa         0\n",
       "2           4.6          3.1           1.5          0.2  setosa         0\n",
       "3           5.0          3.6           1.4          0.3  setosa         0\n",
       "4           5.4          3.9           1.7          0.4  setosa         0"
      ]
     },
     "execution_count": 3,
     "metadata": {},
     "output_type": "execute_result"
    }
   ],
   "source": [
    "data['spec_num'] = pd.factorize(data.Species)[0]\n",
    "data.head(5)\n",
    "# data['spec_num'].value_counts()"
   ]
  },
  {
   "cell_type": "code",
   "execution_count": 4,
   "metadata": {},
   "outputs": [
    {
     "data": {
      "text/plain": [
       "Index(['Sepal_length', 'Sepal_width', 'Petal_length', 'Petal_width', 'Species',\n",
       "       'spec_num'],\n",
       "      dtype='object')"
      ]
     },
     "execution_count": 4,
     "metadata": {},
     "output_type": "execute_result"
    }
   ],
   "source": [
    "data.columns"
   ]
  },
  {
   "cell_type": "code",
   "execution_count": 5,
   "metadata": {},
   "outputs": [
    {
     "data": {
      "text/plain": [
       "Sepal_length    44\n",
       "Sepal_width     44\n",
       "Petal_length    44\n",
       "Petal_width     44\n",
       "Species         44\n",
       "spec_num        44\n",
       "dtype: int64"
      ]
     },
     "execution_count": 5,
     "metadata": {},
     "output_type": "execute_result"
    }
   ],
   "source": [
    "train=data.sample(frac=0.7,random_state=200)\n",
    "test=data.drop(train.index)\n",
    "test.count()"
   ]
  },
  {
   "cell_type": "code",
   "execution_count": 6,
   "metadata": {
    "scrolled": false
   },
   "outputs": [
    {
     "data": {
      "image/png": "[encoded data removed]",
      "text/plain": [
       "<matplotlib.figure.Figure at 0x9e1fda0>"
      ]
     },
     "metadata": {},
     "output_type": "display_data"
    },
    {
     "data": {
      "image/png": "[encoded data removed]",
      "text/plain": [
       "<matplotlib.figure.Figure at 0xa264be0>"
      ]
     },
     "metadata": {},
     "output_type": "display_data"
    }
   ],
   "source": [
    "setosa = data[data.spec_num.isin([0])] \n",
    "versicolor = data[data.spec_num.isin([1])] \n",
    "virginica = data[data.spec_num.isin([2])] \n",
    "\n",
    "fig1, ax1 = plt.subplots(figsize=(10,6))  \n",
    "ax1.scatter(setosa.Sepal_length,setosa.Sepal_width, s=50, c='b', marker='o', label='setosa') \n",
    "ax1.scatter(versicolor.Sepal_length,versicolor.Sepal_width, s=50, c='r', marker='x', label='versicolor')  \n",
    "ax1.scatter(virginica.Sepal_length,virginica.Sepal_width, s=50, c='y', marker='+', label='virginica')  \n",
    "ax1.set_xlabel('Sepal_length')  \n",
    "ax1.set_ylabel('Sepal_width') \n",
    "\n",
    "\n",
    "fig2, ax2 = plt.subplots(figsize=(10,6))  \n",
    "ax2.scatter(setosa.Petal_length,setosa.Petal_width, s=50, c='b', marker='o', label='setosa') \n",
    "ax2.scatter(versicolor.Petal_length,versicolor.Petal_width, s=50, c='r', marker='x', label='versicolor')  \n",
    "ax2.scatter(virginica.Petal_length,virginica.Petal_width, s=50, c='y', marker='+', label='virginica')  \n",
    "ax2.set_xlabel('Petal_length')  \n",
    "ax2.set_ylabel('Petal_width') \n",
    "plt.show()"
   ]
  },
  {
   "cell_type": "markdown",
   "metadata": {},
   "source": [
    "<h1> Logistic model </h1>"
   ]
  },
  {
   "cell_type": "code",
   "execution_count": 7,
   "metadata": {
    "collapsed": true
   },
   "outputs": [],
   "source": [
    "from sklearn import linear_model"
   ]
  },
  {
   "cell_type": "code",
   "execution_count": 8,
   "metadata": {
    "collapsed": true
   },
   "outputs": [],
   "source": [
    "logistic=linear_model.LogisticRegression(C=1,max_iter=1000)"
   ]
  },
  {
   "cell_type": "code",
   "execution_count": 9,
   "metadata": {
    "scrolled": true
   },
   "outputs": [
    {
     "name": "stdout",
     "output_type": "stream",
     "text": [
      "LogisticRegression(C=1, class_weight=None, dual=False, fit_intercept=True,\n",
      "          intercept_scaling=1, max_iter=1000, multi_class='ovr', n_jobs=1,\n",
      "          penalty='l2', random_state=None, solver='liblinear', tol=0.0001,\n",
      "          verbose=0, warm_start=False)\n",
      "[[ 0.39193685  1.31387343 -2.09307921 -0.97074736]\n",
      " [ 0.26433054 -1.25724594  0.60147956 -1.24173156]\n",
      " [-1.4369203  -1.33953432  2.10461311  2.14841494]]\n",
      "[ 0.25844916  0.74301636 -1.00486791]\n"
     ]
    }
   ],
   "source": [
    "model = logistic.fit(train[['Sepal_length', 'Sepal_width', 'Petal_length', 'Petal_width']],train['spec_num'])\n",
    "print(model)\n",
    "print(model.coef_)\n",
    "print(model.intercept_)"
   ]
  },
  {
   "cell_type": "markdown",
   "metadata": {},
   "source": [
    "<h2>Run cross validation the logistic model</h2>"
   ]
  },
  {
   "cell_type": "code",
   "execution_count": 10,
   "metadata": {
    "collapsed": true
   },
   "outputs": [],
   "source": [
    "data['predict']=model.predict(data[['Sepal_length', 'Sepal_width', 'Petal_length', 'Petal_width']])\n",
    "data['diff'] = np.where(data['spec_num'] == data['predict'], 1, 0)\n",
    "data['diff'].value_counts()\n",
    "data['diff'].unique()\n",
    "predict = data[data['diff'] == 0]\n"
   ]
  },
  {
   "cell_type": "code",
   "execution_count": 11,
   "metadata": {
    "scrolled": false
   },
   "outputs": [
    {
     "data": {
      "image/png": "[encoded data removed]",
      "text/plain": [
       "<matplotlib.figure.Figure at 0xc2af3c8>"
      ]
     },
     "metadata": {},
     "output_type": "display_data"
    }
   ],
   "source": [
    "fig, ax = plt.subplots(figsize=(10,6))  \n",
    "ax.scatter(setosa['Petal_width'], setosa['Petal_length'], s=50, c='b', marker='+', label='setosa')  \n",
    "ax.scatter(versicolor['Petal_width'], versicolor['Petal_length'], s=50, c='r', marker='x', label='versicolor')\n",
    "ax.scatter(virginica['Petal_width'], virginica['Petal_length'], s=50, c='y', marker='+', label='virginica')\n",
    "ax.scatter(predict['Petal_width'], predict['Petal_length'], s=100, c='g', marker='o', label='Diff')  \n",
    "ax.set_xlabel('Petal_width')  \n",
    "ax.set_ylabel('Petal_length') \n",
    "plt.show()"
   ]
  },
  {
   "cell_type": "code",
   "execution_count": 12,
   "metadata": {
    "collapsed": true
   },
   "outputs": [],
   "source": [
    "from sklearn.model_selection import cross_val_predict\n",
    "from sklearn.metrics import classification_report"
   ]
  },
  {
   "cell_type": "code",
   "execution_count": 13,
   "metadata": {},
   "outputs": [
    {
     "name": "stdout",
     "output_type": "stream",
     "text": [
      "             precision    recall  f1-score   support\n",
      "\n",
      "          0       1.00      1.00      1.00        49\n",
      "          1       0.96      0.90      0.93        50\n",
      "          2       0.90      0.96      0.93        49\n",
      "\n",
      "avg / total       0.95      0.95      0.95       148\n",
      "\n"
     ]
    }
   ],
   "source": [
    "y = data.spec_num\n",
    "predicted = cross_val_predict(logistic, data[['Sepal_length', 'Sepal_width', 'Petal_length', 'Petal_width']], y, cv=10)\n",
    "print (classification_report(data['spec_num'], predicted))"
   ]
  },
  {
   "cell_type": "markdown",
   "metadata": {},
   "source": [
    "<h1> Decision Tree Classifier </h1>"
   ]
  },
  {
   "cell_type": "code",
   "execution_count": 19,
   "metadata": {},
   "outputs": [],
   "source": [
    "from sklearn.tree import DecisionTreeClassifier, export_graphviz\n",
    "import graphviz"
   ]
  },
  {
   "cell_type": "code",
   "execution_count": 21,
   "metadata": {},
   "outputs": [
    {
     "data": {
      "text/plain": [
       "DecisionTreeClassifier(class_weight=None, criterion='gini', max_depth=None,\n",
       "            max_features=None, max_leaf_nodes=None,\n",
       "            min_impurity_split=1e-07, min_samples_leaf=1,\n",
       "            min_samples_split=20, min_weight_fraction_leaf=0.0,\n",
       "            presort=False, random_state=99, splitter='best')"
      ]
     },
     "execution_count": 21,
     "metadata": {},
     "output_type": "execute_result"
    }
   ],
   "source": [
    "features = ['Sepal_length', 'Sepal_width', 'Petal_length', 'Petal_width']\n",
    "X= train[['Sepal_length', 'Sepal_width', 'Petal_length', 'Petal_width']]\n",
    "y = train['spec_num']\n",
    "dt = DecisionTreeClassifier(min_samples_split=20, random_state=99)\n",
    "dt.fit(X, y)"
   ]
  },
  {
   "cell_type": "code",
   "execution_count": 22,
   "metadata": {},
   "outputs": [
    {
     "data": {
      "image/svg+xml": [
       "<?xml version=\"1.0\" encoding=\"UTF-8\" standalone=\"no\"?>\r\n",
       "<!DOCTYPE svg PUBLIC \"-//W3C//DTD SVG 1.1//EN\"\r\n",
       " \"http://www.w3.org/Graphics/SVG/1.1/DTD/svg11.dtd\">\r\n",
       "<!-- Generated by graphviz version 2.38.0 (20140413.2041)\r\n",
       " -->\r\n",
       "<!-- Title: Tree Pages: 1 -->\r\n",
       "<svg width=\"486pt\" height=\"552pt\"\r\n",
       " viewBox=\"0.00 0.00 486.00 552.00\" xmlns=\"http://www.w3.org/2000/svg\" xmlns:xlink=\"http://www.w3.org/1999/xlink\">\r\n",
       "<g id=\"graph0\" class=\"graph\" transform=\"scale(1 1) rotate(0) translate(4 548)\">\r\n",
       "<title>Tree</title>\r\n",
       "<polygon fill=\"white\" stroke=\"none\" points=\"-4,4 -4,-548 482,-548 482,4 -4,4\"/>\r\n",
       "<!-- 0 -->\r\n",
       "<g id=\"node1\" class=\"node\"><title>0</title>\r\n",
       "<path fill=\"#39e581\" fill-opacity=\"0.015686\" stroke=\"black\" d=\"M192,-544C192,-544 77,-544 77,-544 71,-544 65,-538 65,-532 65,-532 65,-473 65,-473 65,-467 71,-461 77,-461 77,-461 192,-461 192,-461 198,-461 204,-467 204,-473 204,-473 204,-532 204,-532 204,-538 198,-544 192,-544\"/>\r\n",
       "<text text-anchor=\"start\" x=\"73\" y=\"-528.8\" font-family=\"Helvetica,sans-Serif\" font-size=\"14.00\">Petal_length ≤ 2.45</text>\r\n",
       "<text text-anchor=\"start\" x=\"93\" y=\"-513.8\" font-family=\"Helvetica,sans-Serif\" font-size=\"14.00\">gini = 0.6662</text>\r\n",
       "<text text-anchor=\"start\" x=\"87\" y=\"-498.8\" font-family=\"Helvetica,sans-Serif\" font-size=\"14.00\">samples = 104</text>\r\n",
       "<text text-anchor=\"start\" x=\"74\" y=\"-483.8\" font-family=\"Helvetica,sans-Serif\" font-size=\"14.00\">value = [33, 36, 35]</text>\r\n",
       "<text text-anchor=\"start\" x=\"105.5\" y=\"-468.8\" font-family=\"Helvetica,sans-Serif\" font-size=\"14.00\">class = p</text>\r\n",
       "</g>\r\n",
       "<!-- 1 -->\r\n",
       "<g id=\"node2\" class=\"node\"><title>1</title>\r\n",
       "<path fill=\"#e58139\" stroke=\"black\" d=\"M109,-417.5C109,-417.5 12,-417.5 12,-417.5 6,-417.5 0,-411.5 0,-405.5 0,-405.5 0,-361.5 0,-361.5 0,-355.5 6,-349.5 12,-349.5 12,-349.5 109,-349.5 109,-349.5 115,-349.5 121,-355.5 121,-361.5 121,-361.5 121,-405.5 121,-405.5 121,-411.5 115,-417.5 109,-417.5\"/>\r\n",
       "<text text-anchor=\"start\" x=\"31.5\" y=\"-402.3\" font-family=\"Helvetica,sans-Serif\" font-size=\"14.00\">gini = 0.0</text>\r\n",
       "<text text-anchor=\"start\" x=\"17\" y=\"-387.3\" font-family=\"Helvetica,sans-Serif\" font-size=\"14.00\">samples = 33</text>\r\n",
       "<text text-anchor=\"start\" x=\"8\" y=\"-372.3\" font-family=\"Helvetica,sans-Serif\" font-size=\"14.00\">value = [33, 0, 0]</text>\r\n",
       "<text text-anchor=\"start\" x=\"32\" y=\"-357.3\" font-family=\"Helvetica,sans-Serif\" font-size=\"14.00\">class = s</text>\r\n",
       "</g>\r\n",
       "<!-- 0&#45;&gt;1 -->\r\n",
       "<g id=\"edge1\" class=\"edge\"><title>0&#45;&gt;1</title>\r\n",
       "<path fill=\"none\" stroke=\"black\" d=\"M108.826,-460.907C101.777,-449.763 94.1214,-437.658 87.0256,-426.439\"/>\r\n",
       "<polygon fill=\"black\" stroke=\"black\" points=\"89.7808,-424.248 81.4774,-417.667 83.8648,-427.989 89.7808,-424.248\"/>\r\n",
       "<text text-anchor=\"middle\" x=\"75.9865\" y=\"-438.356\" font-family=\"Helvetica,sans-Serif\" font-size=\"14.00\">True</text>\r\n",
       "</g>\r\n",
       "<!-- 2 -->\r\n",
       "<g id=\"node3\" class=\"node\"><title>2</title>\r\n",
       "<path fill=\"#39e581\" fill-opacity=\"0.027451\" stroke=\"black\" d=\"M266,-425C266,-425 151,-425 151,-425 145,-425 139,-419 139,-413 139,-413 139,-354 139,-354 139,-348 145,-342 151,-342 151,-342 266,-342 266,-342 272,-342 278,-348 278,-354 278,-354 278,-413 278,-413 278,-419 272,-425 266,-425\"/>\r\n",
       "<text text-anchor=\"start\" x=\"147\" y=\"-409.8\" font-family=\"Helvetica,sans-Serif\" font-size=\"14.00\">Petal_length ≤ 4.75</text>\r\n",
       "<text text-anchor=\"start\" x=\"167\" y=\"-394.8\" font-family=\"Helvetica,sans-Serif\" font-size=\"14.00\">gini = 0.4999</text>\r\n",
       "<text text-anchor=\"start\" x=\"165\" y=\"-379.8\" font-family=\"Helvetica,sans-Serif\" font-size=\"14.00\">samples = 71</text>\r\n",
       "<text text-anchor=\"start\" x=\"152\" y=\"-364.8\" font-family=\"Helvetica,sans-Serif\" font-size=\"14.00\">value = [0, 36, 35]</text>\r\n",
       "<text text-anchor=\"start\" x=\"179.5\" y=\"-349.8\" font-family=\"Helvetica,sans-Serif\" font-size=\"14.00\">class = p</text>\r\n",
       "</g>\r\n",
       "<!-- 0&#45;&gt;2 -->\r\n",
       "<g id=\"edge2\" class=\"edge\"><title>0&#45;&gt;2</title>\r\n",
       "<path fill=\"none\" stroke=\"black\" d=\"M160.174,-460.907C165.742,-452.105 171.688,-442.703 177.438,-433.612\"/>\r\n",
       "<polygon fill=\"black\" stroke=\"black\" points=\"180.484,-435.343 182.871,-425.021 174.568,-431.601 180.484,-435.343\"/>\r\n",
       "<text text-anchor=\"middle\" x=\"188.362\" y=\"-445.71\" font-family=\"Helvetica,sans-Serif\" font-size=\"14.00\">False</text>\r\n",
       "</g>\r\n",
       "<!-- 3 -->\r\n",
       "<g id=\"node4\" class=\"node\"><title>3</title>\r\n",
       "<path fill=\"#39e581\" stroke=\"black\" d=\"M186,-298.5C186,-298.5 89,-298.5 89,-298.5 83,-298.5 77,-292.5 77,-286.5 77,-286.5 77,-242.5 77,-242.5 77,-236.5 83,-230.5 89,-230.5 89,-230.5 186,-230.5 186,-230.5 192,-230.5 198,-236.5 198,-242.5 198,-242.5 198,-286.5 198,-286.5 198,-292.5 192,-298.5 186,-298.5\"/>\r\n",
       "<text text-anchor=\"start\" x=\"108.5\" y=\"-283.3\" font-family=\"Helvetica,sans-Serif\" font-size=\"14.00\">gini = 0.0</text>\r\n",
       "<text text-anchor=\"start\" x=\"94\" y=\"-268.3\" font-family=\"Helvetica,sans-Serif\" font-size=\"14.00\">samples = 32</text>\r\n",
       "<text text-anchor=\"start\" x=\"85\" y=\"-253.3\" font-family=\"Helvetica,sans-Serif\" font-size=\"14.00\">value = [0, 32, 0]</text>\r\n",
       "<text text-anchor=\"start\" x=\"108.5\" y=\"-238.3\" font-family=\"Helvetica,sans-Serif\" font-size=\"14.00\">class = p</text>\r\n",
       "</g>\r\n",
       "<!-- 2&#45;&gt;3 -->\r\n",
       "<g id=\"edge3\" class=\"edge\"><title>2&#45;&gt;3</title>\r\n",
       "<path fill=\"none\" stroke=\"black\" d=\"M183.867,-341.907C177.104,-330.763 169.758,-318.658 162.95,-307.439\"/>\r\n",
       "<polygon fill=\"black\" stroke=\"black\" points=\"165.807,-305.4 157.627,-298.667 159.823,-309.032 165.807,-305.4\"/>\r\n",
       "</g>\r\n",
       "<!-- 4 -->\r\n",
       "<g id=\"node5\" class=\"node\"><title>4</title>\r\n",
       "<path fill=\"#8139e5\" fill-opacity=\"0.886275\" stroke=\"black\" d=\"M329,-306C329,-306 228,-306 228,-306 222,-306 216,-300 216,-294 216,-294 216,-235 216,-235 216,-229 222,-223 228,-223 228,-223 329,-223 329,-223 335,-223 341,-229 341,-235 341,-235 341,-294 341,-294 341,-300 335,-306 329,-306\"/>\r\n",
       "<text text-anchor=\"start\" x=\"224\" y=\"-290.8\" font-family=\"Helvetica,sans-Serif\" font-size=\"14.00\">Petal_width ≤ 1.7</text>\r\n",
       "<text text-anchor=\"start\" x=\"237\" y=\"-275.8\" font-family=\"Helvetica,sans-Serif\" font-size=\"14.00\">gini = 0.1841</text>\r\n",
       "<text text-anchor=\"start\" x=\"235\" y=\"-260.8\" font-family=\"Helvetica,sans-Serif\" font-size=\"14.00\">samples = 39</text>\r\n",
       "<text text-anchor=\"start\" x=\"226\" y=\"-245.8\" font-family=\"Helvetica,sans-Serif\" font-size=\"14.00\">value = [0, 4, 35]</text>\r\n",
       "<text text-anchor=\"start\" x=\"249.5\" y=\"-230.8\" font-family=\"Helvetica,sans-Serif\" font-size=\"14.00\">class = e</text>\r\n",
       "</g>\r\n",
       "<!-- 2&#45;&gt;4 -->\r\n",
       "<g id=\"edge4\" class=\"edge\"><title>2&#45;&gt;4</title>\r\n",
       "<path fill=\"none\" stroke=\"black\" d=\"M232.786,-341.907C238.053,-333.105 243.678,-323.703 249.117,-314.612\"/>\r\n",
       "<polygon fill=\"black\" stroke=\"black\" points=\"252.126,-316.399 254.257,-306.021 246.119,-312.805 252.126,-316.399\"/>\r\n",
       "</g>\r\n",
       "<!-- 5 -->\r\n",
       "<g id=\"node6\" class=\"node\"><title>5</title>\r\n",
       "<path fill=\"none\" stroke=\"black\" d=\"M251,-179.5C251,-179.5 162,-179.5 162,-179.5 156,-179.5 150,-173.5 150,-167.5 150,-167.5 150,-123.5 150,-123.5 150,-117.5 156,-111.5 162,-111.5 162,-111.5 251,-111.5 251,-111.5 257,-111.5 263,-117.5 263,-123.5 263,-123.5 263,-167.5 263,-167.5 263,-173.5 257,-179.5 251,-179.5\"/>\r\n",
       "<text text-anchor=\"start\" x=\"177.5\" y=\"-164.3\" font-family=\"Helvetica,sans-Serif\" font-size=\"14.00\">gini = 0.5</text>\r\n",
       "<text text-anchor=\"start\" x=\"167\" y=\"-149.3\" font-family=\"Helvetica,sans-Serif\" font-size=\"14.00\">samples = 6</text>\r\n",
       "<text text-anchor=\"start\" x=\"158\" y=\"-134.3\" font-family=\"Helvetica,sans-Serif\" font-size=\"14.00\">value = [0, 3, 3]</text>\r\n",
       "<text text-anchor=\"start\" x=\"177.5\" y=\"-119.3\" font-family=\"Helvetica,sans-Serif\" font-size=\"14.00\">class = p</text>\r\n",
       "</g>\r\n",
       "<!-- 4&#45;&gt;5 -->\r\n",
       "<g id=\"edge5\" class=\"edge\"><title>4&#45;&gt;5</title>\r\n",
       "<path fill=\"none\" stroke=\"black\" d=\"M253.52,-222.907C246.662,-211.763 239.213,-199.658 232.309,-188.439\"/>\r\n",
       "<polygon fill=\"black\" stroke=\"black\" points=\"235.132,-186.349 226.91,-179.667 229.171,-190.018 235.132,-186.349\"/>\r\n",
       "</g>\r\n",
       "<!-- 6 -->\r\n",
       "<g id=\"node7\" class=\"node\"><title>6</title>\r\n",
       "<path fill=\"#8139e5\" fill-opacity=\"0.968627\" stroke=\"black\" d=\"M408,-187C408,-187 293,-187 293,-187 287,-187 281,-181 281,-175 281,-175 281,-116 281,-116 281,-110 287,-104 293,-104 293,-104 408,-104 408,-104 414,-104 420,-110 420,-116 420,-116 420,-175 420,-175 420,-181 414,-187 408,-187\"/>\r\n",
       "<text text-anchor=\"start\" x=\"289\" y=\"-171.8\" font-family=\"Helvetica,sans-Serif\" font-size=\"14.00\">Petal_length ≤ 4.85</text>\r\n",
       "<text text-anchor=\"start\" x=\"309\" y=\"-156.8\" font-family=\"Helvetica,sans-Serif\" font-size=\"14.00\">gini = 0.0588</text>\r\n",
       "<text text-anchor=\"start\" x=\"307\" y=\"-141.8\" font-family=\"Helvetica,sans-Serif\" font-size=\"14.00\">samples = 33</text>\r\n",
       "<text text-anchor=\"start\" x=\"298\" y=\"-126.8\" font-family=\"Helvetica,sans-Serif\" font-size=\"14.00\">value = [0, 1, 32]</text>\r\n",
       "<text text-anchor=\"start\" x=\"321.5\" y=\"-111.8\" font-family=\"Helvetica,sans-Serif\" font-size=\"14.00\">class = e</text>\r\n",
       "</g>\r\n",
       "<!-- 4&#45;&gt;6 -->\r\n",
       "<g id=\"edge6\" class=\"edge\"><title>4&#45;&gt;6</title>\r\n",
       "<path fill=\"none\" stroke=\"black\" d=\"M303.48,-222.907C308.897,-214.105 314.683,-204.703 320.277,-195.612\"/>\r\n",
       "<polygon fill=\"black\" stroke=\"black\" points=\"323.304,-197.372 325.564,-187.021 317.342,-193.703 323.304,-197.372\"/>\r\n",
       "</g>\r\n",
       "<!-- 7 -->\r\n",
       "<g id=\"node8\" class=\"node\"><title>7</title>\r\n",
       "<path fill=\"#8139e5\" fill-opacity=\"0.498039\" stroke=\"black\" d=\"M327,-68C327,-68 238,-68 238,-68 232,-68 226,-62 226,-56 226,-56 226,-12 226,-12 226,-6 232,-0 238,-0 238,-0 327,-0 327,-0 333,-0 339,-6 339,-12 339,-12 339,-56 339,-56 339,-62 333,-68 327,-68\"/>\r\n",
       "<text text-anchor=\"start\" x=\"241\" y=\"-52.8\" font-family=\"Helvetica,sans-Serif\" font-size=\"14.00\">gini = 0.4444</text>\r\n",
       "<text text-anchor=\"start\" x=\"243\" y=\"-37.8\" font-family=\"Helvetica,sans-Serif\" font-size=\"14.00\">samples = 3</text>\r\n",
       "<text text-anchor=\"start\" x=\"234\" y=\"-22.8\" font-family=\"Helvetica,sans-Serif\" font-size=\"14.00\">value = [0, 1, 2]</text>\r\n",
       "<text text-anchor=\"start\" x=\"253.5\" y=\"-7.8\" font-family=\"Helvetica,sans-Serif\" font-size=\"14.00\">class = e</text>\r\n",
       "</g>\r\n",
       "<!-- 6&#45;&gt;7 -->\r\n",
       "<g id=\"edge7\" class=\"edge\"><title>6&#45;&gt;7</title>\r\n",
       "<path fill=\"none\" stroke=\"black\" d=\"M325.179,-103.726C319.742,-94.9703 313.987,-85.7032 308.523,-76.9051\"/>\r\n",
       "<polygon fill=\"black\" stroke=\"black\" points=\"311.428,-74.9484 303.179,-68.2996 305.481,-78.6413 311.428,-74.9484\"/>\r\n",
       "</g>\r\n",
       "<!-- 8 -->\r\n",
       "<g id=\"node9\" class=\"node\"><title>8</title>\r\n",
       "<path fill=\"#8139e5\" stroke=\"black\" d=\"M466,-68C466,-68 369,-68 369,-68 363,-68 357,-62 357,-56 357,-56 357,-12 357,-12 357,-6 363,-0 369,-0 369,-0 466,-0 466,-0 472,-0 478,-6 478,-12 478,-12 478,-56 478,-56 478,-62 472,-68 466,-68\"/>\r\n",
       "<text text-anchor=\"start\" x=\"388.5\" y=\"-52.8\" font-family=\"Helvetica,sans-Serif\" font-size=\"14.00\">gini = 0.0</text>\r\n",
       "<text text-anchor=\"start\" x=\"374\" y=\"-37.8\" font-family=\"Helvetica,sans-Serif\" font-size=\"14.00\">samples = 30</text>\r\n",
       "<text text-anchor=\"start\" x=\"365\" y=\"-22.8\" font-family=\"Helvetica,sans-Serif\" font-size=\"14.00\">value = [0, 0, 30]</text>\r\n",
       "<text text-anchor=\"start\" x=\"388.5\" y=\"-7.8\" font-family=\"Helvetica,sans-Serif\" font-size=\"14.00\">class = e</text>\r\n",
       "</g>\r\n",
       "<!-- 6&#45;&gt;8 -->\r\n",
       "<g id=\"edge8\" class=\"edge\"><title>6&#45;&gt;8</title>\r\n",
       "<path fill=\"none\" stroke=\"black\" d=\"M375.448,-103.726C380.806,-94.9703 386.476,-85.7032 391.859,-76.9051\"/>\r\n",
       "<polygon fill=\"black\" stroke=\"black\" points=\"394.891,-78.6563 397.125,-68.2996 388.92,-75.0028 394.891,-78.6563\"/>\r\n",
       "</g>\r\n",
       "</g>\r\n",
       "</svg>\r\n"
      ],
      "text/plain": [
       "<graphviz.files.Source at 0xc3fd048>"
      ]
     },
     "execution_count": 22,
     "metadata": {},
     "output_type": "execute_result"
    }
   ],
   "source": [
    "dot_data = export_graphviz(dt, out_file=None, \n",
    "                         feature_names=features,  \n",
    "                         class_names='spec_num',  \n",
    "                         filled=True, rounded=True,  \n",
    "                         special_characters=True)  \n",
    "graph = graphviz.Source(dot_data)  \n",
    "graph"
   ]
  },
  {
   "cell_type": "code",
   "execution_count": 24,
   "metadata": {
    "scrolled": false
   },
   "outputs": [
    {
     "name": "stdout",
     "output_type": "stream",
     "text": [
      "             precision    recall  f1-score   support\n",
      "\n",
      "          0       1.00      1.00      1.00        49\n",
      "          1       0.94      0.94      0.94        50\n",
      "          2       0.94      0.94      0.94        49\n",
      "\n",
      "avg / total       0.96      0.96      0.96       148\n",
      "\n"
     ]
    }
   ],
   "source": [
    "predicted = cross_val_predict(dt, data[['Sepal_length', 'Sepal_width', 'Petal_length', 'Petal_width']], data['spec_num'], cv=10)\n",
    "print (classification_report(data['spec_num'], predicted))"
   ]
  },
  {
   "cell_type": "markdown",
   "metadata": {},
   "source": [
    "<h1> Random Forest </h1>"
   ]
  },
  {
   "cell_type": "code",
   "execution_count": 26,
   "metadata": {},
   "outputs": [
    {
     "data": {
      "text/plain": [
       "RandomForestClassifier(bootstrap=True, class_weight=None, criterion='gini',\n",
       "            max_depth=None, max_features='auto', max_leaf_nodes=None,\n",
       "            min_impurity_split=1e-07, min_samples_leaf=1,\n",
       "            min_samples_split=20, min_weight_fraction_leaf=0.0,\n",
       "            n_estimators=10, n_jobs=1, oob_score=False, random_state=0,\n",
       "            verbose=0, warm_start=False)"
      ]
     },
     "execution_count": 26,
     "metadata": {},
     "output_type": "execute_result"
    }
   ],
   "source": [
    "from sklearn.ensemble import RandomForestClassifier\n",
    "rf = RandomForestClassifier(min_samples_split=20, random_state=0,n_estimators=10)\n",
    "rf.fit(X, y)"
   ]
  },
  {
   "cell_type": "code",
   "execution_count": 28,
   "metadata": {},
   "outputs": [
    {
     "name": "stdout",
     "output_type": "stream",
     "text": [
      "             precision    recall  f1-score   support\n",
      "\n",
      "          0       1.00      1.00      1.00        49\n",
      "          1       0.94      0.96      0.95        50\n",
      "          2       0.96      0.94      0.95        49\n",
      "\n",
      "avg / total       0.97      0.97      0.97       148\n",
      "\n"
     ]
    }
   ],
   "source": [
    "predicted = cross_val_predict(rf, data[['Sepal_length', 'Sepal_width', 'Petal_length', 'Petal_width']], data['spec_num'], cv=10)\n",
    "print (classification_report(data['spec_num'], predicted))"
   ]
  }
 ],
 "metadata": {
  "kernelspec": {
   "display_name": "Python 3",
   "language": "python",
   "name": "python3"
  },
  "language_info": {
   "codemirror_mode": {
    "name": "ipython",
    "version": 3
   },
   "file_extension": ".py",
   "mimetype": "text/x-python",
   "name": "python",
   "nbconvert_exporter": "python",
   "pygments_lexer": "ipython3",
   "version": "3.6.1"
  }
 },
 "nbformat": 4,
 "nbformat_minor": 2
}
