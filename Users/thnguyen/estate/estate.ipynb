{
 "cells": [
  {
   "cell_type": "markdown",
   "metadata": {},
   "source": [
    "<h1>Prepare data</h1>"
   ]
  },
  {
   "cell_type": "code",
   "execution_count": 194,
   "metadata": {
    "collapsed": true
   },
   "outputs": [],
   "source": [
    "import pandas as pd\n",
    "import numpy as np\n",
    "from sklearn.model_selection import cross_val_predict\n",
    "from sklearn.metrics import classification_report\n",
    "data=pd.read_csv(\"user_to_1st_time_investor.csv\")\n"
   ]
  },
  {
   "cell_type": "code",
   "execution_count": 195,
   "metadata": {
    "scrolled": true
   },
   "outputs": [
    {
     "data": {
      "text/plain": [
       "(263501, 16)"
      ]
     },
     "execution_count": 195,
     "metadata": {},
     "output_type": "execute_result"
    }
   ],
   "source": [
    "data.shape"
   ]
  },
  {
   "cell_type": "code",
   "execution_count": 196,
   "metadata": {},
   "outputs": [
    {
     "data": {
      "text/plain": [
       "guid                                     object\n",
       "investor_status                          object\n",
       "distinct_days_visited_website             int64\n",
       "distinct_properties_viewed                int64\n",
       "time_on_properties                        int64\n",
       "interactions_on_property_page             int64\n",
       "times_marketplace_filter_used             int64\n",
       "dashboard_interactions                    int64\n",
       "time_on_howitworks                        int64\n",
       "time_on_faqs                              int64\n",
       "time_on_aboutus                           int64\n",
       "time_on_team                              int64\n",
       "time_on_homepage                          int64\n",
       "time_on_marketplace                       int64\n",
       "time_to_sign_up_from_first_visit_days    object\n",
       "first_visit_to_first_investment_days     object\n",
       "dtype: object"
      ]
     },
     "execution_count": 196,
     "metadata": {},
     "output_type": "execute_result"
    }
   ],
   "source": [
    "data.dtypes"
   ]
  },
  {
   "cell_type": "code",
   "execution_count": 197,
   "metadata": {
    "scrolled": true
   },
   "outputs": [
    {
     "data": {
      "text/html": [
       "<div>\n",
       "<style>\n",
       "    .dataframe thead tr:only-child th {\n",
       "        text-align: right;\n",
       "    }\n",
       "\n",
       "    .dataframe thead th {\n",
       "        text-align: left;\n",
       "    }\n",
       "\n",
       "    .dataframe tbody tr th {\n",
       "        vertical-align: top;\n",
       "    }\n",
       "</style>\n",
       "<table border=\"1\" class=\"dataframe\">\n",
       "  <thead>\n",
       "    <tr style=\"text-align: right;\">\n",
       "      <th></th>\n",
       "      <th>distinct_days_visited_website</th>\n",
       "      <th>distinct_properties_viewed</th>\n",
       "      <th>time_on_properties</th>\n",
       "      <th>interactions_on_property_page</th>\n",
       "      <th>times_marketplace_filter_used</th>\n",
       "      <th>dashboard_interactions</th>\n",
       "      <th>time_on_howitworks</th>\n",
       "      <th>time_on_faqs</th>\n",
       "      <th>time_on_aboutus</th>\n",
       "      <th>time_on_team</th>\n",
       "      <th>time_on_homepage</th>\n",
       "      <th>time_on_marketplace</th>\n",
       "    </tr>\n",
       "  </thead>\n",
       "  <tbody>\n",
       "    <tr>\n",
       "      <th>count</th>\n",
       "      <td>263501.000000</td>\n",
       "      <td>263501.000000</td>\n",
       "      <td>263501.000000</td>\n",
       "      <td>263501.000000</td>\n",
       "      <td>263501.000000</td>\n",
       "      <td>263501.000000</td>\n",
       "      <td>263501.000000</td>\n",
       "      <td>263501.000000</td>\n",
       "      <td>263501.000000</td>\n",
       "      <td>263501.000000</td>\n",
       "      <td>263501.000000</td>\n",
       "      <td>263501.000000</td>\n",
       "    </tr>\n",
       "    <tr>\n",
       "      <th>mean</th>\n",
       "      <td>1.350769</td>\n",
       "      <td>0.623170</td>\n",
       "      <td>61.390993</td>\n",
       "      <td>0.395376</td>\n",
       "      <td>0.004668</td>\n",
       "      <td>0.023586</td>\n",
       "      <td>15.271730</td>\n",
       "      <td>12.895758</td>\n",
       "      <td>0.906513</td>\n",
       "      <td>1.229483</td>\n",
       "      <td>29.269475</td>\n",
       "      <td>36.492336</td>\n",
       "    </tr>\n",
       "    <tr>\n",
       "      <th>std</th>\n",
       "      <td>1.892619</td>\n",
       "      <td>1.361966</td>\n",
       "      <td>508.826942</td>\n",
       "      <td>2.438044</td>\n",
       "      <td>0.134040</td>\n",
       "      <td>0.735375</td>\n",
       "      <td>71.625709</td>\n",
       "      <td>137.992996</td>\n",
       "      <td>11.112362</td>\n",
       "      <td>15.705147</td>\n",
       "      <td>98.494583</td>\n",
       "      <td>260.700035</td>\n",
       "    </tr>\n",
       "    <tr>\n",
       "      <th>min</th>\n",
       "      <td>1.000000</td>\n",
       "      <td>0.000000</td>\n",
       "      <td>0.000000</td>\n",
       "      <td>0.000000</td>\n",
       "      <td>0.000000</td>\n",
       "      <td>0.000000</td>\n",
       "      <td>0.000000</td>\n",
       "      <td>0.000000</td>\n",
       "      <td>0.000000</td>\n",
       "      <td>0.000000</td>\n",
       "      <td>0.000000</td>\n",
       "      <td>0.000000</td>\n",
       "    </tr>\n",
       "    <tr>\n",
       "      <th>25%</th>\n",
       "      <td>1.000000</td>\n",
       "      <td>0.000000</td>\n",
       "      <td>0.000000</td>\n",
       "      <td>0.000000</td>\n",
       "      <td>0.000000</td>\n",
       "      <td>0.000000</td>\n",
       "      <td>0.000000</td>\n",
       "      <td>0.000000</td>\n",
       "      <td>0.000000</td>\n",
       "      <td>0.000000</td>\n",
       "      <td>0.000000</td>\n",
       "      <td>0.000000</td>\n",
       "    </tr>\n",
       "    <tr>\n",
       "      <th>50%</th>\n",
       "      <td>1.000000</td>\n",
       "      <td>0.000000</td>\n",
       "      <td>0.000000</td>\n",
       "      <td>0.000000</td>\n",
       "      <td>0.000000</td>\n",
       "      <td>0.000000</td>\n",
       "      <td>0.000000</td>\n",
       "      <td>0.000000</td>\n",
       "      <td>0.000000</td>\n",
       "      <td>0.000000</td>\n",
       "      <td>0.000000</td>\n",
       "      <td>0.000000</td>\n",
       "    </tr>\n",
       "    <tr>\n",
       "      <th>75%</th>\n",
       "      <td>1.000000</td>\n",
       "      <td>1.000000</td>\n",
       "      <td>0.000000</td>\n",
       "      <td>0.000000</td>\n",
       "      <td>0.000000</td>\n",
       "      <td>0.000000</td>\n",
       "      <td>0.000000</td>\n",
       "      <td>0.000000</td>\n",
       "      <td>0.000000</td>\n",
       "      <td>0.000000</td>\n",
       "      <td>37.000000</td>\n",
       "      <td>0.000000</td>\n",
       "    </tr>\n",
       "    <tr>\n",
       "      <th>max</th>\n",
       "      <td>263.000000</td>\n",
       "      <td>77.000000</td>\n",
       "      <td>93151.000000</td>\n",
       "      <td>261.000000</td>\n",
       "      <td>30.000000</td>\n",
       "      <td>124.000000</td>\n",
       "      <td>8968.000000</td>\n",
       "      <td>11424.000000</td>\n",
       "      <td>774.000000</td>\n",
       "      <td>1674.000000</td>\n",
       "      <td>22528.000000</td>\n",
       "      <td>67516.000000</td>\n",
       "    </tr>\n",
       "  </tbody>\n",
       "</table>\n",
       "</div>"
      ],
      "text/plain": [
       "       distinct_days_visited_website  distinct_properties_viewed  \\\n",
       "count                  263501.000000               263501.000000   \n",
       "mean                        1.350769                    0.623170   \n",
       "std                         1.892619                    1.361966   \n",
       "min                         1.000000                    0.000000   \n",
       "25%                         1.000000                    0.000000   \n",
       "50%                         1.000000                    0.000000   \n",
       "75%                         1.000000                    1.000000   \n",
       "max                       263.000000                   77.000000   \n",
       "\n",
       "       time_on_properties  interactions_on_property_page  \\\n",
       "count       263501.000000                  263501.000000   \n",
       "mean            61.390993                       0.395376   \n",
       "std            508.826942                       2.438044   \n",
       "min              0.000000                       0.000000   \n",
       "25%              0.000000                       0.000000   \n",
       "50%              0.000000                       0.000000   \n",
       "75%              0.000000                       0.000000   \n",
       "max          93151.000000                     261.000000   \n",
       "\n",
       "       times_marketplace_filter_used  dashboard_interactions  \\\n",
       "count                  263501.000000           263501.000000   \n",
       "mean                        0.004668                0.023586   \n",
       "std                         0.134040                0.735375   \n",
       "min                         0.000000                0.000000   \n",
       "25%                         0.000000                0.000000   \n",
       "50%                         0.000000                0.000000   \n",
       "75%                         0.000000                0.000000   \n",
       "max                        30.000000              124.000000   \n",
       "\n",
       "       time_on_howitworks   time_on_faqs  time_on_aboutus   time_on_team  \\\n",
       "count       263501.000000  263501.000000    263501.000000  263501.000000   \n",
       "mean            15.271730      12.895758         0.906513       1.229483   \n",
       "std             71.625709     137.992996        11.112362      15.705147   \n",
       "min              0.000000       0.000000         0.000000       0.000000   \n",
       "25%              0.000000       0.000000         0.000000       0.000000   \n",
       "50%              0.000000       0.000000         0.000000       0.000000   \n",
       "75%              0.000000       0.000000         0.000000       0.000000   \n",
       "max           8968.000000   11424.000000       774.000000    1674.000000   \n",
       "\n",
       "       time_on_homepage  time_on_marketplace  \n",
       "count     263501.000000        263501.000000  \n",
       "mean          29.269475            36.492336  \n",
       "std           98.494583           260.700035  \n",
       "min            0.000000             0.000000  \n",
       "25%            0.000000             0.000000  \n",
       "50%            0.000000             0.000000  \n",
       "75%           37.000000             0.000000  \n",
       "max        22528.000000         67516.000000  "
      ]
     },
     "execution_count": 197,
     "metadata": {},
     "output_type": "execute_result"
    }
   ],
   "source": [
    "data.describe()"
   ]
  },
  {
   "cell_type": "code",
   "execution_count": 198,
   "metadata": {
    "scrolled": false
   },
   "outputs": [
    {
     "data": {
      "text/html": [
       "<div>\n",
       "<style>\n",
       "    .dataframe thead tr:only-child th {\n",
       "        text-align: right;\n",
       "    }\n",
       "\n",
       "    .dataframe thead th {\n",
       "        text-align: left;\n",
       "    }\n",
       "\n",
       "    .dataframe tbody tr th {\n",
       "        vertical-align: top;\n",
       "    }\n",
       "</style>\n",
       "<table border=\"1\" class=\"dataframe\">\n",
       "  <thead>\n",
       "    <tr style=\"text-align: right;\">\n",
       "      <th></th>\n",
       "      <th>guid</th>\n",
       "      <th>investor_status</th>\n",
       "      <th>time_to_sign_up_from_first_visit_days</th>\n",
       "      <th>first_visit_to_first_investment_days</th>\n",
       "    </tr>\n",
       "  </thead>\n",
       "  <tbody>\n",
       "    <tr>\n",
       "      <th>count</th>\n",
       "      <td>263501</td>\n",
       "      <td>263501</td>\n",
       "      <td>263501</td>\n",
       "      <td>263501</td>\n",
       "    </tr>\n",
       "    <tr>\n",
       "      <th>unique</th>\n",
       "      <td>263501</td>\n",
       "      <td>2</td>\n",
       "      <td>118</td>\n",
       "      <td>255</td>\n",
       "    </tr>\n",
       "    <tr>\n",
       "      <th>top</th>\n",
       "      <td>prod-c5249428-6dc1-44d0-b57c-19f1e9cd8025</td>\n",
       "      <td>non-investor</td>\n",
       "      <td>-</td>\n",
       "      <td>-</td>\n",
       "    </tr>\n",
       "    <tr>\n",
       "      <th>freq</th>\n",
       "      <td>1</td>\n",
       "      <td>262142</td>\n",
       "      <td>251338</td>\n",
       "      <td>262142</td>\n",
       "    </tr>\n",
       "  </tbody>\n",
       "</table>\n",
       "</div>"
      ],
      "text/plain": [
       "                                             guid investor_status  \\\n",
       "count                                      263501          263501   \n",
       "unique                                     263501               2   \n",
       "top     prod-c5249428-6dc1-44d0-b57c-19f1e9cd8025    non-investor   \n",
       "freq                                            1          262142   \n",
       "\n",
       "       time_to_sign_up_from_first_visit_days  \\\n",
       "count                                 263501   \n",
       "unique                                   118   \n",
       "top                                        -   \n",
       "freq                                  251338   \n",
       "\n",
       "       first_visit_to_first_investment_days  \n",
       "count                                263501  \n",
       "unique                                  255  \n",
       "top                                       -  \n",
       "freq                                 262142  "
      ]
     },
     "execution_count": 198,
     "metadata": {},
     "output_type": "execute_result"
    }
   ],
   "source": [
    "data.describe(include=['O'])"
   ]
  },
  {
   "cell_type": "markdown",
   "metadata": {},
   "source": [
    "guid has all rows being unique, so we will remove it because it won't affect model. The last 2 columns are categorical data, so we need to convert 2 last columns from object to integer."
   ]
  },
  {
   "cell_type": "code",
   "execution_count": 199,
   "metadata": {},
   "outputs": [
    {
     "data": {
      "text/plain": [
       "guid                                     0\n",
       "investor_status                          0\n",
       "distinct_days_visited_website            0\n",
       "distinct_properties_viewed               0\n",
       "time_on_properties                       0\n",
       "interactions_on_property_page            0\n",
       "times_marketplace_filter_used            0\n",
       "dashboard_interactions                   0\n",
       "time_on_howitworks                       0\n",
       "time_on_faqs                             0\n",
       "time_on_aboutus                          0\n",
       "time_on_team                             0\n",
       "time_on_homepage                         0\n",
       "time_on_marketplace                      0\n",
       "time_to_sign_up_from_first_visit_days    0\n",
       "first_visit_to_first_investment_days     0\n",
       "dtype: int64"
      ]
     },
     "execution_count": 199,
     "metadata": {},
     "output_type": "execute_result"
    }
   ],
   "source": [
    "data.isnull().values.all()\n",
    "data.isnull().sum()"
   ]
  },
  {
   "cell_type": "code",
   "execution_count": 200,
   "metadata": {
    "scrolled": true
   },
   "outputs": [
    {
     "data": {
      "text/plain": [
       "251338"
      ]
     },
     "execution_count": 200,
     "metadata": {},
     "output_type": "execute_result"
    }
   ],
   "source": [
    "data.time_to_sign_up_from_first_visit_days.isin(['-']).sum()"
   ]
  },
  {
   "cell_type": "code",
   "execution_count": 201,
   "metadata": {},
   "outputs": [
    {
     "data": {
      "text/plain": [
       "262142"
      ]
     },
     "execution_count": 201,
     "metadata": {},
     "output_type": "execute_result"
    }
   ],
   "source": [
    "data.first_visit_to_first_investment_days.isin(['-']).sum()"
   ]
  },
  {
   "cell_type": "markdown",
   "metadata": {},
   "source": [
    "We have 263501 rows and more than 250 rows of the last 2 columns have no data, so we will drop those 2 columns."
   ]
  },
  {
   "cell_type": "code",
   "execution_count": 202,
   "metadata": {},
   "outputs": [
    {
     "data": {
      "text/html": [
       "<div>\n",
       "<style>\n",
       "    .dataframe thead tr:only-child th {\n",
       "        text-align: right;\n",
       "    }\n",
       "\n",
       "    .dataframe thead th {\n",
       "        text-align: left;\n",
       "    }\n",
       "\n",
       "    .dataframe tbody tr th {\n",
       "        vertical-align: top;\n",
       "    }\n",
       "</style>\n",
       "<table border=\"1\" class=\"dataframe\">\n",
       "  <thead>\n",
       "    <tr style=\"text-align: right;\">\n",
       "      <th></th>\n",
       "      <th>investor_status</th>\n",
       "      <th>distinct_days_visited_website</th>\n",
       "      <th>distinct_properties_viewed</th>\n",
       "      <th>time_on_properties</th>\n",
       "      <th>interactions_on_property_page</th>\n",
       "      <th>times_marketplace_filter_used</th>\n",
       "      <th>dashboard_interactions</th>\n",
       "      <th>time_on_howitworks</th>\n",
       "      <th>time_on_faqs</th>\n",
       "      <th>time_on_aboutus</th>\n",
       "      <th>time_on_team</th>\n",
       "      <th>time_on_homepage</th>\n",
       "      <th>time_on_marketplace</th>\n",
       "    </tr>\n",
       "  </thead>\n",
       "  <tbody>\n",
       "    <tr>\n",
       "      <th>0</th>\n",
       "      <td>investor</td>\n",
       "      <td>3</td>\n",
       "      <td>5</td>\n",
       "      <td>1175</td>\n",
       "      <td>17</td>\n",
       "      <td>0</td>\n",
       "      <td>0</td>\n",
       "      <td>68</td>\n",
       "      <td>25</td>\n",
       "      <td>117</td>\n",
       "      <td>0</td>\n",
       "      <td>195</td>\n",
       "      <td>605</td>\n",
       "    </tr>\n",
       "    <tr>\n",
       "      <th>1</th>\n",
       "      <td>investor</td>\n",
       "      <td>10</td>\n",
       "      <td>14</td>\n",
       "      <td>8738</td>\n",
       "      <td>16</td>\n",
       "      <td>0</td>\n",
       "      <td>0</td>\n",
       "      <td>131</td>\n",
       "      <td>640</td>\n",
       "      <td>0</td>\n",
       "      <td>536</td>\n",
       "      <td>620</td>\n",
       "      <td>3688</td>\n",
       "    </tr>\n",
       "    <tr>\n",
       "      <th>2</th>\n",
       "      <td>investor</td>\n",
       "      <td>4</td>\n",
       "      <td>7</td>\n",
       "      <td>771</td>\n",
       "      <td>5</td>\n",
       "      <td>0</td>\n",
       "      <td>0</td>\n",
       "      <td>567</td>\n",
       "      <td>0</td>\n",
       "      <td>0</td>\n",
       "      <td>129</td>\n",
       "      <td>93</td>\n",
       "      <td>45</td>\n",
       "    </tr>\n",
       "    <tr>\n",
       "      <th>3</th>\n",
       "      <td>investor</td>\n",
       "      <td>5</td>\n",
       "      <td>4</td>\n",
       "      <td>178</td>\n",
       "      <td>2</td>\n",
       "      <td>0</td>\n",
       "      <td>0</td>\n",
       "      <td>202</td>\n",
       "      <td>0</td>\n",
       "      <td>0</td>\n",
       "      <td>0</td>\n",
       "      <td>44</td>\n",
       "      <td>55</td>\n",
       "    </tr>\n",
       "    <tr>\n",
       "      <th>4</th>\n",
       "      <td>investor</td>\n",
       "      <td>14</td>\n",
       "      <td>15</td>\n",
       "      <td>6614</td>\n",
       "      <td>40</td>\n",
       "      <td>0</td>\n",
       "      <td>0</td>\n",
       "      <td>46</td>\n",
       "      <td>1327</td>\n",
       "      <td>0</td>\n",
       "      <td>0</td>\n",
       "      <td>224</td>\n",
       "      <td>674</td>\n",
       "    </tr>\n",
       "  </tbody>\n",
       "</table>\n",
       "</div>"
      ],
      "text/plain": [
       "  investor_status  distinct_days_visited_website  distinct_properties_viewed  \\\n",
       "0        investor                              3                           5   \n",
       "1        investor                             10                          14   \n",
       "2        investor                              4                           7   \n",
       "3        investor                              5                           4   \n",
       "4        investor                             14                          15   \n",
       "\n",
       "   time_on_properties  interactions_on_property_page  \\\n",
       "0                1175                             17   \n",
       "1                8738                             16   \n",
       "2                 771                              5   \n",
       "3                 178                              2   \n",
       "4                6614                             40   \n",
       "\n",
       "   times_marketplace_filter_used  dashboard_interactions  time_on_howitworks  \\\n",
       "0                              0                       0                  68   \n",
       "1                              0                       0                 131   \n",
       "2                              0                       0                 567   \n",
       "3                              0                       0                 202   \n",
       "4                              0                       0                  46   \n",
       "\n",
       "   time_on_faqs  time_on_aboutus  time_on_team  time_on_homepage  \\\n",
       "0            25              117             0               195   \n",
       "1           640                0           536               620   \n",
       "2             0                0           129                93   \n",
       "3             0                0             0                44   \n",
       "4          1327                0             0               224   \n",
       "\n",
       "   time_on_marketplace  \n",
       "0                  605  \n",
       "1                 3688  \n",
       "2                   45  \n",
       "3                   55  \n",
       "4                  674  "
      ]
     },
     "execution_count": 202,
     "metadata": {},
     "output_type": "execute_result"
    }
   ],
   "source": [
    "data.drop(['guid','time_to_sign_up_from_first_visit_days','first_visit_to_first_investment_days'], axis=1, inplace=True)\n",
    "data.head()"
   ]
  },
  {
   "cell_type": "code",
   "execution_count": 203,
   "metadata": {
    "collapsed": true
   },
   "outputs": [],
   "source": [
    "data['status'] = (data['investor_status'] !='non-investor').astype(int)\n",
    "data = data.drop('investor_status', axis=1)"
   ]
  },
  {
   "cell_type": "code",
   "execution_count": 204,
   "metadata": {},
   "outputs": [
    {
     "data": {
      "text/html": [
       "<div>\n",
       "<style>\n",
       "    .dataframe thead tr:only-child th {\n",
       "        text-align: right;\n",
       "    }\n",
       "\n",
       "    .dataframe thead th {\n",
       "        text-align: left;\n",
       "    }\n",
       "\n",
       "    .dataframe tbody tr th {\n",
       "        vertical-align: top;\n",
       "    }\n",
       "</style>\n",
       "<table border=\"1\" class=\"dataframe\">\n",
       "  <thead>\n",
       "    <tr style=\"text-align: right;\">\n",
       "      <th></th>\n",
       "      <th>distinct_days_visited_website</th>\n",
       "      <th>distinct_properties_viewed</th>\n",
       "      <th>time_on_properties</th>\n",
       "      <th>interactions_on_property_page</th>\n",
       "      <th>times_marketplace_filter_used</th>\n",
       "      <th>dashboard_interactions</th>\n",
       "      <th>time_on_howitworks</th>\n",
       "      <th>time_on_faqs</th>\n",
       "      <th>time_on_aboutus</th>\n",
       "      <th>time_on_team</th>\n",
       "      <th>time_on_homepage</th>\n",
       "      <th>time_on_marketplace</th>\n",
       "      <th>status</th>\n",
       "    </tr>\n",
       "  </thead>\n",
       "  <tbody>\n",
       "    <tr>\n",
       "      <th>0</th>\n",
       "      <td>3</td>\n",
       "      <td>5</td>\n",
       "      <td>1175</td>\n",
       "      <td>17</td>\n",
       "      <td>0</td>\n",
       "      <td>0</td>\n",
       "      <td>68</td>\n",
       "      <td>25</td>\n",
       "      <td>117</td>\n",
       "      <td>0</td>\n",
       "      <td>195</td>\n",
       "      <td>605</td>\n",
       "      <td>1</td>\n",
       "    </tr>\n",
       "    <tr>\n",
       "      <th>1</th>\n",
       "      <td>10</td>\n",
       "      <td>14</td>\n",
       "      <td>8738</td>\n",
       "      <td>16</td>\n",
       "      <td>0</td>\n",
       "      <td>0</td>\n",
       "      <td>131</td>\n",
       "      <td>640</td>\n",
       "      <td>0</td>\n",
       "      <td>536</td>\n",
       "      <td>620</td>\n",
       "      <td>3688</td>\n",
       "      <td>1</td>\n",
       "    </tr>\n",
       "    <tr>\n",
       "      <th>2</th>\n",
       "      <td>4</td>\n",
       "      <td>7</td>\n",
       "      <td>771</td>\n",
       "      <td>5</td>\n",
       "      <td>0</td>\n",
       "      <td>0</td>\n",
       "      <td>567</td>\n",
       "      <td>0</td>\n",
       "      <td>0</td>\n",
       "      <td>129</td>\n",
       "      <td>93</td>\n",
       "      <td>45</td>\n",
       "      <td>1</td>\n",
       "    </tr>\n",
       "    <tr>\n",
       "      <th>3</th>\n",
       "      <td>5</td>\n",
       "      <td>4</td>\n",
       "      <td>178</td>\n",
       "      <td>2</td>\n",
       "      <td>0</td>\n",
       "      <td>0</td>\n",
       "      <td>202</td>\n",
       "      <td>0</td>\n",
       "      <td>0</td>\n",
       "      <td>0</td>\n",
       "      <td>44</td>\n",
       "      <td>55</td>\n",
       "      <td>1</td>\n",
       "    </tr>\n",
       "    <tr>\n",
       "      <th>4</th>\n",
       "      <td>14</td>\n",
       "      <td>15</td>\n",
       "      <td>6614</td>\n",
       "      <td>40</td>\n",
       "      <td>0</td>\n",
       "      <td>0</td>\n",
       "      <td>46</td>\n",
       "      <td>1327</td>\n",
       "      <td>0</td>\n",
       "      <td>0</td>\n",
       "      <td>224</td>\n",
       "      <td>674</td>\n",
       "      <td>1</td>\n",
       "    </tr>\n",
       "  </tbody>\n",
       "</table>\n",
       "</div>"
      ],
      "text/plain": [
       "   distinct_days_visited_website  distinct_properties_viewed  \\\n",
       "0                              3                           5   \n",
       "1                             10                          14   \n",
       "2                              4                           7   \n",
       "3                              5                           4   \n",
       "4                             14                          15   \n",
       "\n",
       "   time_on_properties  interactions_on_property_page  \\\n",
       "0                1175                             17   \n",
       "1                8738                             16   \n",
       "2                 771                              5   \n",
       "3                 178                              2   \n",
       "4                6614                             40   \n",
       "\n",
       "   times_marketplace_filter_used  dashboard_interactions  time_on_howitworks  \\\n",
       "0                              0                       0                  68   \n",
       "1                              0                       0                 131   \n",
       "2                              0                       0                 567   \n",
       "3                              0                       0                 202   \n",
       "4                              0                       0                  46   \n",
       "\n",
       "   time_on_faqs  time_on_aboutus  time_on_team  time_on_homepage  \\\n",
       "0            25              117             0               195   \n",
       "1           640                0           536               620   \n",
       "2             0                0           129                93   \n",
       "3             0                0             0                44   \n",
       "4          1327                0             0               224   \n",
       "\n",
       "   time_on_marketplace  status  \n",
       "0                  605       1  \n",
       "1                 3688       1  \n",
       "2                   45       1  \n",
       "3                   55       1  \n",
       "4                  674       1  "
      ]
     },
     "execution_count": 204,
     "metadata": {},
     "output_type": "execute_result"
    }
   ],
   "source": [
    "data.head()"
   ]
  },
  {
   "cell_type": "code",
   "execution_count": 205,
   "metadata": {
    "scrolled": true
   },
   "outputs": [
    {
     "data": {
      "text/plain": [
       "0    262142\n",
       "1      1359\n",
       "Name: status, dtype: int64"
      ]
     },
     "execution_count": 205,
     "metadata": {},
     "output_type": "execute_result"
    }
   ],
   "source": [
    "y = data[data.columns[-1]]\n",
    "y.value_counts()"
   ]
  },
  {
   "cell_type": "markdown",
   "metadata": {},
   "source": [
    "data is skewed to value 0 (noninvestor). We will use under-sampling method to balance the data."
   ]
  },
  {
   "cell_type": "code",
   "execution_count": 206,
   "metadata": {
    "scrolled": true
   },
   "outputs": [
    {
     "data": {
      "text/html": [
       "<div>\n",
       "<style>\n",
       "    .dataframe thead tr:only-child th {\n",
       "        text-align: right;\n",
       "    }\n",
       "\n",
       "    .dataframe thead th {\n",
       "        text-align: left;\n",
       "    }\n",
       "\n",
       "    .dataframe tbody tr th {\n",
       "        vertical-align: top;\n",
       "    }\n",
       "</style>\n",
       "<table border=\"1\" class=\"dataframe\">\n",
       "  <thead>\n",
       "    <tr style=\"text-align: right;\">\n",
       "      <th></th>\n",
       "      <th>distinct_days_visited_website</th>\n",
       "      <th>distinct_properties_viewed</th>\n",
       "      <th>time_on_properties</th>\n",
       "      <th>interactions_on_property_page</th>\n",
       "      <th>times_marketplace_filter_used</th>\n",
       "      <th>dashboard_interactions</th>\n",
       "      <th>time_on_howitworks</th>\n",
       "      <th>time_on_faqs</th>\n",
       "      <th>time_on_aboutus</th>\n",
       "      <th>time_on_team</th>\n",
       "      <th>time_on_homepage</th>\n",
       "      <th>time_on_marketplace</th>\n",
       "    </tr>\n",
       "  </thead>\n",
       "  <tbody>\n",
       "    <tr>\n",
       "      <th>0</th>\n",
       "      <td>3</td>\n",
       "      <td>5</td>\n",
       "      <td>1175</td>\n",
       "      <td>17</td>\n",
       "      <td>0</td>\n",
       "      <td>0</td>\n",
       "      <td>68</td>\n",
       "      <td>25</td>\n",
       "      <td>117</td>\n",
       "      <td>0</td>\n",
       "      <td>195</td>\n",
       "      <td>605</td>\n",
       "    </tr>\n",
       "    <tr>\n",
       "      <th>1</th>\n",
       "      <td>10</td>\n",
       "      <td>14</td>\n",
       "      <td>8738</td>\n",
       "      <td>16</td>\n",
       "      <td>0</td>\n",
       "      <td>0</td>\n",
       "      <td>131</td>\n",
       "      <td>640</td>\n",
       "      <td>0</td>\n",
       "      <td>536</td>\n",
       "      <td>620</td>\n",
       "      <td>3688</td>\n",
       "    </tr>\n",
       "    <tr>\n",
       "      <th>2</th>\n",
       "      <td>4</td>\n",
       "      <td>7</td>\n",
       "      <td>771</td>\n",
       "      <td>5</td>\n",
       "      <td>0</td>\n",
       "      <td>0</td>\n",
       "      <td>567</td>\n",
       "      <td>0</td>\n",
       "      <td>0</td>\n",
       "      <td>129</td>\n",
       "      <td>93</td>\n",
       "      <td>45</td>\n",
       "    </tr>\n",
       "  </tbody>\n",
       "</table>\n",
       "</div>"
      ],
      "text/plain": [
       "   distinct_days_visited_website  distinct_properties_viewed  \\\n",
       "0                              3                           5   \n",
       "1                             10                          14   \n",
       "2                              4                           7   \n",
       "\n",
       "   time_on_properties  interactions_on_property_page  \\\n",
       "0                1175                             17   \n",
       "1                8738                             16   \n",
       "2                 771                              5   \n",
       "\n",
       "   times_marketplace_filter_used  dashboard_interactions  time_on_howitworks  \\\n",
       "0                              0                       0                  68   \n",
       "1                              0                       0                 131   \n",
       "2                              0                       0                 567   \n",
       "\n",
       "   time_on_faqs  time_on_aboutus  time_on_team  time_on_homepage  \\\n",
       "0            25              117             0               195   \n",
       "1           640                0           536               620   \n",
       "2             0                0           129                93   \n",
       "\n",
       "   time_on_marketplace  \n",
       "0                  605  \n",
       "1                 3688  \n",
       "2                   45  "
      ]
     },
     "execution_count": 206,
     "metadata": {},
     "output_type": "execute_result"
    }
   ],
   "source": [
    "X = data[data.columns[:-1]]\n",
    "X.head(3)"
   ]
  },
  {
   "cell_type": "code",
   "execution_count": 207,
   "metadata": {},
   "outputs": [
    {
     "ename": "ModuleNotFoundError",
     "evalue": "No module named 'imblearn'",
     "output_type": "error",
     "traceback": [
      "\u001b[1;31m---------------------------------------------------------------------------\u001b[0m",
      "\u001b[1;31mModuleNotFoundError\u001b[0m                       Traceback (most recent call last)",
      "\u001b[1;32m<ipython-input-207-b75d51a9b36c>\u001b[0m in \u001b[0;36m<module>\u001b[1;34m()\u001b[0m\n\u001b[0;32m      1\u001b[0m \u001b[1;31m#intsall SMOTE from https://github.com/scikit-learn-contrib/imbalanced-learn\u001b[0m\u001b[1;33m\u001b[0m\u001b[1;33m\u001b[0m\u001b[0m\n\u001b[1;32m----> 2\u001b[1;33m \u001b[1;32mfrom\u001b[0m \u001b[0mimblearn\u001b[0m\u001b[1;33m.\u001b[0m\u001b[0mover_sampling\u001b[0m \u001b[1;32mimport\u001b[0m \u001b[0mSMOTE\u001b[0m\u001b[1;33m\u001b[0m\u001b[0m\n\u001b[0m",
      "\u001b[1;31mModuleNotFoundError\u001b[0m: No module named 'imblearn'"
     ]
    }
   ],
   "source": [
    "#intsall SMOTE from https://github.com/scikit-learn-contrib/imbalanced-learn\n",
    "from imblearn.over_sampling import SMOTE"
   ]
  },
  {
   "cell_type": "code",
   "execution_count": 208,
   "metadata": {},
   "outputs": [
    {
     "data": {
      "text/plain": [
       "1    1359\n",
       "0    1359\n",
       "Name: status, dtype: int64"
      ]
     },
     "execution_count": 208,
     "metadata": {},
     "output_type": "execute_result"
    }
   ],
   "source": [
    "n = data[data.status==0].sample(n=1359)\n",
    "n.status.value_counts()\n",
    "y = data[data.status==1]\n",
    "y.status.value_counts()\n",
    "undersample = pd.concat([n,y])\n",
    "undersample.status.value_counts()"
   ]
  },
  {
   "cell_type": "code",
   "execution_count": 209,
   "metadata": {},
   "outputs": [],
   "source": [
    "train=undersample.sample(frac=0.7,random_state=200)\n",
    "X = train[train.columns[:-1]]\n",
    "y = train[train.columns[-1]]"
   ]
  },
  {
   "cell_type": "markdown",
   "metadata": {},
   "source": [
    "<h1> SVM model </h1>"
   ]
  },
  {
   "cell_type": "code",
   "execution_count": 210,
   "metadata": {
    "collapsed": true
   },
   "outputs": [],
   "source": [
    "from sklearn import svm\n",
    "from sklearn import metrics\n",
    "from sklearn.model_selection import cross_val_predict\n",
    "from sklearn.metrics import classification_report"
   ]
  },
  {
   "cell_type": "code",
   "execution_count": 211,
   "metadata": {},
   "outputs": [
    {
     "data": {
      "text/plain": [
       "0.95375722543352603"
      ]
     },
     "execution_count": 211,
     "metadata": {},
     "output_type": "execute_result"
    }
   ],
   "source": [
    "model1 = svm.SVC(kernel='linear')\n",
    "model1.fit(X, y)\n",
    "model1.score(X,y)"
   ]
  },
  {
   "cell_type": "code",
   "execution_count": 212,
   "metadata": {},
   "outputs": [
    {
     "name": "stdout",
     "output_type": "stream",
     "text": [
      "             precision    recall  f1-score   support\n",
      "\n",
      "          0       0.94      0.96      0.95       412\n",
      "          1       0.95      0.94      0.95       403\n",
      "\n",
      "avg / total       0.95      0.95      0.95       815\n",
      "\n"
     ]
    }
   ],
   "source": [
    "test=undersample.drop(train.index)\n",
    "X_test = test[test.columns[:-1]]\n",
    "y_test = test[test.columns[-1]]\n",
    "predicted_label = model1.predict(X_test)\n",
    "print(metrics.classification_report(test.status, predicted_label))"
   ]
  },
  {
   "cell_type": "code",
   "execution_count": 213,
   "metadata": {
    "scrolled": true
   },
   "outputs": [
    {
     "name": "stdout",
     "output_type": "stream",
     "text": [
      "             precision    recall  f1-score   support\n",
      "\n",
      "          0       1.00      0.94      0.97    261195\n",
      "          1       0.03      0.94      0.05       403\n",
      "\n",
      "avg / total       1.00      0.94      0.97    261598\n",
      "\n"
     ]
    }
   ],
   "source": [
    "test=data.drop(train.index)\n",
    "X_test = test[test.columns[:-1]]\n",
    "y_test = test[test.columns[-1]]\n",
    "predicted_label = model1.predict(X_test)\n",
    "print(metrics.classification_report(test.status, predicted_label))"
   ]
  },
  {
   "cell_type": "code",
   "execution_count": 214,
   "metadata": {},
   "outputs": [
    {
     "data": {
      "text/plain": [
       "648.1265508684863"
      ]
     },
     "execution_count": 214,
     "metadata": {},
     "output_type": "execute_result"
    }
   ],
   "source": [
    "261195/403"
   ]
  },
  {
   "cell_type": "markdown",
   "metadata": {},
   "source": [
    "The model produce the same recall value on the orignial data and sample data. In 261,195 non-investor labels, model can predict correctly 95%. In 403 investor labels, model can predict correctly 93%. \n",
    "With highly-skewed orginal data, among the predicted positive (rows have correct classification), the \"non-investor\" label is 648 times more than the \"investor\" label, so it results in an extremely low precision of \"investor\" label  prediction."
   ]
  },
  {
   "cell_type": "markdown",
   "metadata": {},
   "source": [
    "<h1> Bayes model </h1>"
   ]
  },
  {
   "cell_type": "code",
   "execution_count": 215,
   "metadata": {},
   "outputs": [
    {
     "name": "stdout",
     "output_type": "stream",
     "text": [
      "             precision    recall  f1-score   support\n",
      "\n",
      "          0       1.00      0.94      0.97    261195\n",
      "          1       0.02      0.84      0.04       403\n",
      "\n",
      "avg / total       1.00      0.94      0.97    261598\n",
      "\n"
     ]
    }
   ],
   "source": [
    "from sklearn.naive_bayes import GaussianNB, MultinomialNB, BernoulliNB \n",
    "from sklearn.metrics import mean_squared_error\n",
    "gnb = GaussianNB()\n",
    "model1b = gnb.fit(X,y)\n",
    "y_pred = model1b.predict(X_test)\n",
    "print(metrics.classification_report(test.status, y_pred))"
   ]
  },
  {
   "cell_type": "code",
   "execution_count": 216,
   "metadata": {
    "scrolled": true
   },
   "outputs": [
    {
     "name": "stdout",
     "output_type": "stream",
     "text": [
      "             precision    recall  f1-score   support\n",
      "\n",
      "          0       1.00      0.90      0.95    261195\n",
      "          1       0.01      0.97      0.03       403\n",
      "\n",
      "avg / total       1.00      0.90      0.95    261598\n",
      "\n"
     ]
    }
   ],
   "source": [
    "bnb = BernoulliNB()\n",
    "model3b = bnb.fit(X,y)\n",
    "y_pred = model3b.predict(X_test)\n",
    "print (classification_report(y_test, y_pred))"
   ]
  },
  {
   "cell_type": "markdown",
   "metadata": {},
   "source": [
    "<h1> Random Forest </h1>"
   ]
  },
  {
   "cell_type": "code",
   "execution_count": 225,
   "metadata": {},
   "outputs": [
    {
     "name": "stdout",
     "output_type": "stream",
     "text": [
      "             precision    recall  f1-score   support\n",
      "\n",
      "          0       1.00      0.96      0.98    261195\n",
      "          1       0.03      0.98      0.07       403\n",
      "\n",
      "avg / total       1.00      0.96      0.98    261598\n",
      "\n"
     ]
    }
   ],
   "source": [
    "from sklearn.ensemble import RandomForestClassifier\n",
    "rf = RandomForestClassifier(min_samples_split=20, random_state=0,n_estimators=500)\n",
    "rf.fit(X, y)\n",
    "y_pred = rf.predict(X_test)\n",
    "print (classification_report(y_test, y_pred))"
   ]
  },
  {
   "cell_type": "markdown",
   "metadata": {},
   "source": [
    "Performance: random forest > SVM > Bayes"
   ]
  },
  {
   "cell_type": "markdown",
   "metadata": {},
   "source": [
    "<h1> Feature Importance Seclection </h1>"
   ]
  },
  {
   "cell_type": "code",
   "execution_count": 231,
   "metadata": {},
   "outputs": [
    {
     "data": {
      "text/html": [
       "<div>\n",
       "<style>\n",
       "    .dataframe thead tr:only-child th {\n",
       "        text-align: right;\n",
       "    }\n",
       "\n",
       "    .dataframe thead th {\n",
       "        text-align: left;\n",
       "    }\n",
       "\n",
       "    .dataframe tbody tr th {\n",
       "        vertical-align: top;\n",
       "    }\n",
       "</style>\n",
       "<table border=\"1\" class=\"dataframe\">\n",
       "  <thead>\n",
       "    <tr style=\"text-align: right;\">\n",
       "      <th></th>\n",
       "      <th>score</th>\n",
       "      <th>indexes</th>\n",
       "    </tr>\n",
       "  </thead>\n",
       "  <tbody>\n",
       "    <tr>\n",
       "      <th>0</th>\n",
       "      <td>0.225328</td>\n",
       "      <td>distinct_days_visited_website</td>\n",
       "    </tr>\n",
       "    <tr>\n",
       "      <th>11</th>\n",
       "      <td>0.212612</td>\n",
       "      <td>time_on_marketplace</td>\n",
       "    </tr>\n",
       "    <tr>\n",
       "      <th>2</th>\n",
       "      <td>0.131534</td>\n",
       "      <td>time_on_properties</td>\n",
       "    </tr>\n",
       "    <tr>\n",
       "      <th>1</th>\n",
       "      <td>0.125039</td>\n",
       "      <td>distinct_properties_viewed</td>\n",
       "    </tr>\n",
       "    <tr>\n",
       "      <th>10</th>\n",
       "      <td>0.102541</td>\n",
       "      <td>time_on_homepage</td>\n",
       "    </tr>\n",
       "    <tr>\n",
       "      <th>6</th>\n",
       "      <td>0.070075</td>\n",
       "      <td>time_on_howitworks</td>\n",
       "    </tr>\n",
       "    <tr>\n",
       "      <th>3</th>\n",
       "      <td>0.062437</td>\n",
       "      <td>interactions_on_property_page</td>\n",
       "    </tr>\n",
       "    <tr>\n",
       "      <th>7</th>\n",
       "      <td>0.043017</td>\n",
       "      <td>time_on_faqs</td>\n",
       "    </tr>\n",
       "    <tr>\n",
       "      <th>9</th>\n",
       "      <td>0.015384</td>\n",
       "      <td>time_on_team</td>\n",
       "    </tr>\n",
       "    <tr>\n",
       "      <th>8</th>\n",
       "      <td>0.007833</td>\n",
       "      <td>time_on_aboutus</td>\n",
       "    </tr>\n",
       "    <tr>\n",
       "      <th>5</th>\n",
       "      <td>0.003225</td>\n",
       "      <td>dashboard_interactions</td>\n",
       "    </tr>\n",
       "    <tr>\n",
       "      <th>4</th>\n",
       "      <td>0.000976</td>\n",
       "      <td>times_marketplace_filter_used</td>\n",
       "    </tr>\n",
       "  </tbody>\n",
       "</table>\n",
       "</div>"
      ],
      "text/plain": [
       "       score                        indexes\n",
       "0   0.225328  distinct_days_visited_website\n",
       "11  0.212612            time_on_marketplace\n",
       "2   0.131534             time_on_properties\n",
       "1   0.125039     distinct_properties_viewed\n",
       "10  0.102541               time_on_homepage\n",
       "6   0.070075             time_on_howitworks\n",
       "3   0.062437  interactions_on_property_page\n",
       "7   0.043017                   time_on_faqs\n",
       "9   0.015384                   time_on_team\n",
       "8   0.007833                time_on_aboutus\n",
       "5   0.003225         dashboard_interactions\n",
       "4   0.000976  times_marketplace_filter_used"
      ]
     },
     "execution_count": 231,
     "metadata": {},
     "output_type": "execute_result"
    }
   ],
   "source": [
    "from sklearn.ensemble import ExtraTreesClassifier\n",
    "etree = ExtraTreesClassifier()\n",
    "etree.fit(X, y)\n",
    "important_feature_df = pd.DataFrame()\n",
    "important_feature_df['score'] = etree.feature_importances_\n",
    "important_feature_df['indexes'] = X.columns\n",
    "important_feature_df.sort_values(by ='score',ascending=False).head(12)"
   ]
  },
  {
   "cell_type": "code",
   "execution_count": 232,
   "metadata": {},
   "outputs": [
    {
     "data": {
      "text/html": [
       "<div>\n",
       "<style>\n",
       "    .dataframe thead tr:only-child th {\n",
       "        text-align: right;\n",
       "    }\n",
       "\n",
       "    .dataframe thead th {\n",
       "        text-align: left;\n",
       "    }\n",
       "\n",
       "    .dataframe tbody tr th {\n",
       "        vertical-align: top;\n",
       "    }\n",
       "</style>\n",
       "<table border=\"1\" class=\"dataframe\">\n",
       "  <thead>\n",
       "    <tr style=\"text-align: right;\">\n",
       "      <th></th>\n",
       "      <th>score</th>\n",
       "      <th>indexes</th>\n",
       "    </tr>\n",
       "  </thead>\n",
       "  <tbody>\n",
       "    <tr>\n",
       "      <th>2</th>\n",
       "      <td>0.328831</td>\n",
       "      <td>time_on_properties</td>\n",
       "    </tr>\n",
       "    <tr>\n",
       "      <th>11</th>\n",
       "      <td>0.233268</td>\n",
       "      <td>time_on_marketplace</td>\n",
       "    </tr>\n",
       "    <tr>\n",
       "      <th>0</th>\n",
       "      <td>0.154267</td>\n",
       "      <td>distinct_days_visited_website</td>\n",
       "    </tr>\n",
       "    <tr>\n",
       "      <th>1</th>\n",
       "      <td>0.148393</td>\n",
       "      <td>distinct_properties_viewed</td>\n",
       "    </tr>\n",
       "    <tr>\n",
       "      <th>3</th>\n",
       "      <td>0.048468</td>\n",
       "      <td>interactions_on_property_page</td>\n",
       "    </tr>\n",
       "    <tr>\n",
       "      <th>10</th>\n",
       "      <td>0.038200</td>\n",
       "      <td>time_on_homepage</td>\n",
       "    </tr>\n",
       "    <tr>\n",
       "      <th>6</th>\n",
       "      <td>0.034581</td>\n",
       "      <td>time_on_howitworks</td>\n",
       "    </tr>\n",
       "    <tr>\n",
       "      <th>7</th>\n",
       "      <td>0.011063</td>\n",
       "      <td>time_on_faqs</td>\n",
       "    </tr>\n",
       "    <tr>\n",
       "      <th>8</th>\n",
       "      <td>0.001296</td>\n",
       "      <td>time_on_aboutus</td>\n",
       "    </tr>\n",
       "    <tr>\n",
       "      <th>5</th>\n",
       "      <td>0.000848</td>\n",
       "      <td>dashboard_interactions</td>\n",
       "    </tr>\n",
       "    <tr>\n",
       "      <th>4</th>\n",
       "      <td>0.000404</td>\n",
       "      <td>times_marketplace_filter_used</td>\n",
       "    </tr>\n",
       "    <tr>\n",
       "      <th>9</th>\n",
       "      <td>0.000381</td>\n",
       "      <td>time_on_team</td>\n",
       "    </tr>\n",
       "  </tbody>\n",
       "</table>\n",
       "</div>"
      ],
      "text/plain": [
       "       score                        indexes\n",
       "2   0.328831             time_on_properties\n",
       "11  0.233268            time_on_marketplace\n",
       "0   0.154267  distinct_days_visited_website\n",
       "1   0.148393     distinct_properties_viewed\n",
       "3   0.048468  interactions_on_property_page\n",
       "10  0.038200               time_on_homepage\n",
       "6   0.034581             time_on_howitworks\n",
       "7   0.011063                   time_on_faqs\n",
       "8   0.001296                time_on_aboutus\n",
       "5   0.000848         dashboard_interactions\n",
       "4   0.000404  times_marketplace_filter_used\n",
       "9   0.000381                   time_on_team"
      ]
     },
     "execution_count": 232,
     "metadata": {},
     "output_type": "execute_result"
    }
   ],
   "source": [
    "from sklearn.ensemble import RandomForestClassifier\n",
    "rfc= RandomForestClassifier()\n",
    "model = rfc.fit(X,y)\n",
    "important_feature_df = pd.DataFrame()\n",
    "important_feature_df['score'] = rfc.feature_importances_\n",
    "important_feature_df['indexes'] = X.columns\n",
    "important_feature_df.sort_values(by ='score',ascending=False).head(12)"
   ]
  },
  {
   "cell_type": "code",
   "execution_count": 236,
   "metadata": {},
   "outputs": [
    {
     "data": {
      "image/png": "[encoded data removed]",
      "text/plain": [
       "<matplotlib.figure.Figure at 0xd4e36a0>"
      ]
     },
     "metadata": {},
     "output_type": "display_data"
    }
   ],
   "source": [
    "# Ref: http://jotterbach.github.io/2016/03/24/Principal_Component_Analysis/\n",
    "from sklearn.decomposition import PCA\n",
    "from sklearn.preprocessing import StandardScaler\n",
    "\n",
    "# normalize data\n",
    "z_scaler = StandardScaler()\n",
    "z_data = z_scaler.fit_transform(X)\n",
    "\n",
    "# apply dimension reduction\n",
    "pca_trafo = PCA().fit(z_data)\n",
    "\n",
    "plt.semilogy(pca_trafo.explained_variance_ratio_, '--o');\n",
    "plt.semilogy(pca_trafo.explained_variance_ratio_.cumsum(), '--+');\n",
    "\n",
    "plt.show()"
   ]
  },
  {
   "cell_type": "code",
   "execution_count": 237,
   "metadata": {
    "scrolled": true
   },
   "outputs": [
    {
     "name": "stdout",
     "output_type": "stream",
     "text": [
      "0.367\n",
      "0.105\n",
      "0.099\n",
      "0.072\n",
      "0.066\n",
      "0.061\n",
      "0.058\n",
      "0.053\n",
      "0.044\n",
      "0.036\n",
      "0.023\n",
      "0.016\n",
      "1.0\n"
     ]
    }
   ],
   "source": [
    "sum = 0\n",
    "for i in pca_trafo.explained_variance_ratio_:\n",
    "    sum = sum+i\n",
    "    print(\"%0.3f\" %i)\n",
    "print (sum)"
   ]
  },
  {
   "cell_type": "markdown",
   "metadata": {},
   "source": [
    "the 1st component occupies 35.3% information of original data. To know what features have the most information, we will run inverse_transform. "
   ]
  },
  {
   "cell_type": "code",
   "execution_count": 238,
   "metadata": {
    "scrolled": false
   },
   "outputs": [
    {
     "name": "stderr",
     "output_type": "stream",
     "text": [
      "C:\\Users\\a16508\\Anaconda3\\lib\\site-packages\\ipykernel_launcher.py:5: RuntimeWarning: invalid value encountered in log\n",
      "  \"\"\"\n"
     ]
    },
    {
     "data": {
      "image/png": "[encoded data removed]",
      "text/plain": [
       "<matplotlib.figure.Figure at 0xd556c18>"
      ]
     },
     "metadata": {},
     "output_type": "display_data"
    }
   ],
   "source": [
    "import seaborn as sns\n",
    "\n",
    "ax = plt.axes()\n",
    "\n",
    "sns.heatmap(np.log(pca_trafo.inverse_transform(np.eye(z_data.shape[1]))),  ax=ax)\n",
    "\n",
    "plt.ylabel('principal component', fontsize=20);\n",
    "plt.xlabel('original feature index', fontsize=20);\n",
    "plt.show()"
   ]
  },
  {
   "cell_type": "code",
   "execution_count": 223,
   "metadata": {
    "scrolled": true
   },
   "outputs": [
    {
     "name": "stdout",
     "output_type": "stream",
     "text": [
      "0 distinct_days_visited_website\n",
      "1 distinct_properties_viewed\n",
      "2 time_on_properties\n",
      "3 interactions_on_property_page\n",
      "4 times_marketplace_filter_used\n",
      "5 dashboard_interactions\n",
      "6 time_on_howitworks\n",
      "7 time_on_faqs\n",
      "8 time_on_aboutus\n",
      "9 time_on_team\n",
      "10 time_on_homepage\n",
      "11 time_on_marketplace\n",
      "12 status\n"
     ]
    }
   ],
   "source": [
    "i=0\n",
    "for x in data.columns:\n",
    "    print (i, x)\n",
    "    i = i + 1"
   ]
  },
  {
   "cell_type": "markdown",
   "metadata": {},
   "source": [
    "We will choose\n",
    "<ul>\n",
    "<li>0 distinct_days_visited_website</li>\n",
    "<li>1 distinct_properties_viewed</li>\n",
    "<li>10 time_on_homepage</li>\n",
    "<li>11 time_on_marketplace</li>\n",
    "</ul>"
   ]
  },
  {
   "cell_type": "code",
   "execution_count": 239,
   "metadata": {},
   "outputs": [
    {
     "data": {
      "image/png": "[encoded data removed]",
      "text/plain": [
       "<matplotlib.figure.Figure at 0xd35a7f0>"
      ]
     },
     "metadata": {},
     "output_type": "display_data"
    }
   ],
   "source": [
    "pca_inv_data = pca_trafo.inverse_transform(np.eye(z_data.shape[1]))\n",
    "fig = plt.figure(figsize=(10, 6.5))\n",
    "plt.plot(pca_inv_data.mean(axis=0), '--o', label = 'mean')\n",
    "plt.plot(np.square(pca_inv_data.std(axis=0)), '--o', label = 'variance')\n",
    "plt.legend(loc='lower right')\n",
    "plt.ylabel('feature contribution', fontsize=20);\n",
    "plt.xlabel('feature index', fontsize=20);\n",
    "plt.tick_params(axis='both', which='major', labelsize=18);\n",
    "plt.tick_params(axis='both', which='minor', labelsize=12);\n",
    "plt.xlim([0, 13])\n",
    "plt.legend(loc='lower left', fontsize=18)\n",
    "\n",
    "plt.show()"
   ]
  }
 ],
 "metadata": {
  "kernelspec": {
   "display_name": "Python 3",
   "language": "python",
   "name": "python3"
  },
  "language_info": {
   "codemirror_mode": {
    "name": "ipython",
    "version": 3
   },
   "file_extension": ".py",
   "mimetype": "text/x-python",
   "name": "python",
   "nbconvert_exporter": "python",
   "pygments_lexer": "ipython3",
   "version": "3.6.1"
  }
 },
 "nbformat": 4,
 "nbformat_minor": 2
}
