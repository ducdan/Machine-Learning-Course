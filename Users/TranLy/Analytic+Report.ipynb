{
 "cells": [
  {
   "cell_type": "markdown",
   "metadata": {},
   "source": [
    "<h1><u>Analytic Report</u></h1>\n",
    "\n",
    "<h3><u>We have three questions:</u></h3>\n",
    "<ol>\n",
    "   <li>How does blood pressure and cholesterol relate to each other?</li>\n",
    "   <li>Do men tend to have higher blood pressure than women? What about cholesterol?</li>\n",
    "   <li>What contribute to causing heart disease (age, cholesterol, blood pressure)? Is it the effect the same for both sex (male and female)?</li>\n",
    "</ol>"
   ]
  },
  {
   "cell_type": "markdown",
   "metadata": {},
   "source": [
    "<h3><u>With dataset is given</u></h3>"
   ]
  },
  {
   "cell_type": "code",
   "execution_count": 39,
   "metadata": {
    "collapsed": false
   },
   "outputs": [],
   "source": [
    "import pandas as pd\n",
    "import scipy as scipy\n",
    "from scipy.stats import ttest_ind\n",
    "import matplotlib.pyplot as plt\n",
    "#import plotly.plotly as pl \n"
   ]
  },
  {
   "cell_type": "code",
   "execution_count": 40,
   "metadata": {
    "collapsed": false
   },
   "outputs": [],
   "source": [
    "data_frame = pd.read_excel(io ='E:\\Python\\Machine-Learning-Course\\Assignment\\Analytic Project\\Cardiology.xls',\n",
    "                          sheetname = 'Sheet1', header = 0, skiprows = [1, 2])"
   ]
  },
  {
   "cell_type": "code",
   "execution_count": 41,
   "metadata": {
    "collapsed": false
   },
   "outputs": [
    {
     "data": {
      "text/html": [
       "<div>\n",
       "<table border=\"1\" class=\"dataframe\">\n",
       "  <thead>\n",
       "    <tr style=\"text-align: right;\">\n",
       "      <th></th>\n",
       "      <th>age</th>\n",
       "      <th>sex</th>\n",
       "      <th>chest pain type</th>\n",
       "      <th>blood pressure</th>\n",
       "      <th>cholesterol</th>\n",
       "      <th>Fasting blood sugar &lt;120</th>\n",
       "      <th>resting ecg</th>\n",
       "      <th>maximum heart rate</th>\n",
       "      <th>angina</th>\n",
       "      <th>peak</th>\n",
       "      <th>slope</th>\n",
       "      <th>#colored vessels</th>\n",
       "      <th>thal</th>\n",
       "      <th>class</th>\n",
       "    </tr>\n",
       "  </thead>\n",
       "  <tbody>\n",
       "    <tr>\n",
       "      <th>0</th>\n",
       "      <td>60</td>\n",
       "      <td>1</td>\n",
       "      <td>4</td>\n",
       "      <td>130</td>\n",
       "      <td>206</td>\n",
       "      <td>0</td>\n",
       "      <td>2</td>\n",
       "      <td>132</td>\n",
       "      <td>1</td>\n",
       "      <td>2.4</td>\n",
       "      <td>2</td>\n",
       "      <td>2</td>\n",
       "      <td>7</td>\n",
       "      <td>0</td>\n",
       "    </tr>\n",
       "    <tr>\n",
       "      <th>1</th>\n",
       "      <td>49</td>\n",
       "      <td>1</td>\n",
       "      <td>2</td>\n",
       "      <td>130</td>\n",
       "      <td>266</td>\n",
       "      <td>0</td>\n",
       "      <td>0</td>\n",
       "      <td>171</td>\n",
       "      <td>0</td>\n",
       "      <td>0.6</td>\n",
       "      <td>1</td>\n",
       "      <td>0</td>\n",
       "      <td>3</td>\n",
       "      <td>1</td>\n",
       "    </tr>\n",
       "    <tr>\n",
       "      <th>2</th>\n",
       "      <td>64</td>\n",
       "      <td>1</td>\n",
       "      <td>1</td>\n",
       "      <td>110</td>\n",
       "      <td>211</td>\n",
       "      <td>0</td>\n",
       "      <td>2</td>\n",
       "      <td>144</td>\n",
       "      <td>1</td>\n",
       "      <td>1.8</td>\n",
       "      <td>2</td>\n",
       "      <td>0</td>\n",
       "      <td>3</td>\n",
       "      <td>1</td>\n",
       "    </tr>\n",
       "    <tr>\n",
       "      <th>3</th>\n",
       "      <td>63</td>\n",
       "      <td>1</td>\n",
       "      <td>4</td>\n",
       "      <td>130</td>\n",
       "      <td>254</td>\n",
       "      <td>0</td>\n",
       "      <td>2</td>\n",
       "      <td>147</td>\n",
       "      <td>0</td>\n",
       "      <td>1.4</td>\n",
       "      <td>2</td>\n",
       "      <td>1</td>\n",
       "      <td>7</td>\n",
       "      <td>0</td>\n",
       "    </tr>\n",
       "    <tr>\n",
       "      <th>4</th>\n",
       "      <td>53</td>\n",
       "      <td>1</td>\n",
       "      <td>4</td>\n",
       "      <td>140</td>\n",
       "      <td>203</td>\n",
       "      <td>1</td>\n",
       "      <td>2</td>\n",
       "      <td>155</td>\n",
       "      <td>1</td>\n",
       "      <td>3.1</td>\n",
       "      <td>3</td>\n",
       "      <td>0</td>\n",
       "      <td>7</td>\n",
       "      <td>0</td>\n",
       "    </tr>\n",
       "    <tr>\n",
       "      <th>5</th>\n",
       "      <td>58</td>\n",
       "      <td>0</td>\n",
       "      <td>1</td>\n",
       "      <td>150</td>\n",
       "      <td>283</td>\n",
       "      <td>1</td>\n",
       "      <td>2</td>\n",
       "      <td>162</td>\n",
       "      <td>0</td>\n",
       "      <td>1.0</td>\n",
       "      <td>1</td>\n",
       "      <td>0</td>\n",
       "      <td>3</td>\n",
       "      <td>1</td>\n",
       "    </tr>\n",
       "    <tr>\n",
       "      <th>6</th>\n",
       "      <td>58</td>\n",
       "      <td>1</td>\n",
       "      <td>2</td>\n",
       "      <td>120</td>\n",
       "      <td>284</td>\n",
       "      <td>0</td>\n",
       "      <td>2</td>\n",
       "      <td>160</td>\n",
       "      <td>0</td>\n",
       "      <td>1.8</td>\n",
       "      <td>2</td>\n",
       "      <td>0</td>\n",
       "      <td>3</td>\n",
       "      <td>0</td>\n",
       "    </tr>\n",
       "    <tr>\n",
       "      <th>7</th>\n",
       "      <td>58</td>\n",
       "      <td>1</td>\n",
       "      <td>3</td>\n",
       "      <td>132</td>\n",
       "      <td>224</td>\n",
       "      <td>0</td>\n",
       "      <td>2</td>\n",
       "      <td>173</td>\n",
       "      <td>0</td>\n",
       "      <td>3.2</td>\n",
       "      <td>1</td>\n",
       "      <td>2</td>\n",
       "      <td>7</td>\n",
       "      <td>0</td>\n",
       "    </tr>\n",
       "  </tbody>\n",
       "</table>\n",
       "</div>"
      ],
      "text/plain": [
       "   age  sex  chest pain type  blood pressure  cholesterol  \\\n",
       "0   60    1                4             130          206   \n",
       "1   49    1                2             130          266   \n",
       "2   64    1                1             110          211   \n",
       "3   63    1                4             130          254   \n",
       "4   53    1                4             140          203   \n",
       "5   58    0                1             150          283   \n",
       "6   58    1                2             120          284   \n",
       "7   58    1                3             132          224   \n",
       "\n",
       "   Fasting blood sugar <120  resting ecg  maximum heart rate  angina  peak  \\\n",
       "0                         0            2                 132       1   2.4   \n",
       "1                         0            0                 171       0   0.6   \n",
       "2                         0            2                 144       1   1.8   \n",
       "3                         0            2                 147       0   1.4   \n",
       "4                         1            2                 155       1   3.1   \n",
       "5                         1            2                 162       0   1.0   \n",
       "6                         0            2                 160       0   1.8   \n",
       "7                         0            2                 173       0   3.2   \n",
       "\n",
       "   slope  #colored vessels  thal  class  \n",
       "0      2                 2     7      0  \n",
       "1      1                 0     3      1  \n",
       "2      2                 0     3      1  \n",
       "3      2                 1     7      0  \n",
       "4      3                 0     7      0  \n",
       "5      1                 0     3      1  \n",
       "6      2                 0     3      0  \n",
       "7      1                 2     7      0  "
      ]
     },
     "execution_count": 41,
     "metadata": {},
     "output_type": "execute_result"
    }
   ],
   "source": [
    "data_frame.head(8) #print 8 rows of data_frame"
   ]
  },
  {
   "cell_type": "markdown",
   "metadata": {},
   "source": [
    "<h3><u>Some statictis data from data_frame</u></h3>"
   ]
  },
  {
   "cell_type": "code",
   "execution_count": 42,
   "metadata": {
    "collapsed": false
   },
   "outputs": [
    {
     "data": {
      "text/html": [
       "<div>\n",
       "<table border=\"1\" class=\"dataframe\">\n",
       "  <thead>\n",
       "    <tr style=\"text-align: right;\">\n",
       "      <th></th>\n",
       "      <th>age</th>\n",
       "      <th>sex</th>\n",
       "      <th>blood pressure</th>\n",
       "      <th>cholesterol</th>\n",
       "      <th>class</th>\n",
       "    </tr>\n",
       "  </thead>\n",
       "  <tbody>\n",
       "    <tr>\n",
       "      <th>count</th>\n",
       "      <td>303.000000</td>\n",
       "      <td>303.000000</td>\n",
       "      <td>303.000000</td>\n",
       "      <td>303.000000</td>\n",
       "      <td>303.000000</td>\n",
       "    </tr>\n",
       "    <tr>\n",
       "      <th>mean</th>\n",
       "      <td>54.366337</td>\n",
       "      <td>0.683168</td>\n",
       "      <td>131.623762</td>\n",
       "      <td>246.264026</td>\n",
       "      <td>0.544554</td>\n",
       "    </tr>\n",
       "    <tr>\n",
       "      <th>std</th>\n",
       "      <td>9.082101</td>\n",
       "      <td>0.466011</td>\n",
       "      <td>17.538143</td>\n",
       "      <td>51.830751</td>\n",
       "      <td>0.498835</td>\n",
       "    </tr>\n",
       "    <tr>\n",
       "      <th>min</th>\n",
       "      <td>29.000000</td>\n",
       "      <td>0.000000</td>\n",
       "      <td>94.000000</td>\n",
       "      <td>126.000000</td>\n",
       "      <td>0.000000</td>\n",
       "    </tr>\n",
       "    <tr>\n",
       "      <th>25%</th>\n",
       "      <td>47.500000</td>\n",
       "      <td>0.000000</td>\n",
       "      <td>120.000000</td>\n",
       "      <td>211.000000</td>\n",
       "      <td>0.000000</td>\n",
       "    </tr>\n",
       "    <tr>\n",
       "      <th>50%</th>\n",
       "      <td>55.000000</td>\n",
       "      <td>1.000000</td>\n",
       "      <td>130.000000</td>\n",
       "      <td>240.000000</td>\n",
       "      <td>1.000000</td>\n",
       "    </tr>\n",
       "    <tr>\n",
       "      <th>75%</th>\n",
       "      <td>61.000000</td>\n",
       "      <td>1.000000</td>\n",
       "      <td>140.000000</td>\n",
       "      <td>274.500000</td>\n",
       "      <td>1.000000</td>\n",
       "    </tr>\n",
       "    <tr>\n",
       "      <th>max</th>\n",
       "      <td>77.000000</td>\n",
       "      <td>1.000000</td>\n",
       "      <td>200.000000</td>\n",
       "      <td>564.000000</td>\n",
       "      <td>1.000000</td>\n",
       "    </tr>\n",
       "  </tbody>\n",
       "</table>\n",
       "</div>"
      ],
      "text/plain": [
       "              age         sex  blood pressure  cholesterol       class\n",
       "count  303.000000  303.000000      303.000000   303.000000  303.000000\n",
       "mean    54.366337    0.683168      131.623762   246.264026    0.544554\n",
       "std      9.082101    0.466011       17.538143    51.830751    0.498835\n",
       "min     29.000000    0.000000       94.000000   126.000000    0.000000\n",
       "25%     47.500000    0.000000      120.000000   211.000000    0.000000\n",
       "50%     55.000000    1.000000      130.000000   240.000000    1.000000\n",
       "75%     61.000000    1.000000      140.000000   274.500000    1.000000\n",
       "max     77.000000    1.000000      200.000000   564.000000    1.000000"
      ]
     },
     "execution_count": 42,
     "metadata": {},
     "output_type": "execute_result"
    }
   ],
   "source": [
    "data_frame = data_frame[['age', 'sex', 'blood pressure', 'cholesterol','class']]\n",
    "data_frame.describe()"
   ]
  },
  {
   "cell_type": "markdown",
   "metadata": {},
   "source": [
    "<h2><u>Problem 1:</u></h2>\n",
    "<h3><u>How does blood pressure and cholesterol relate to each other?</u></h3>"
   ]
  },
  {
   "cell_type": "markdown",
   "metadata": {},
   "source": [
    "From data is given, we can display relationship between blood pressure and cholesterol as the following plot:"
   ]
  },
  {
   "cell_type": "code",
   "execution_count": 43,
   "metadata": {
    "collapsed": true
   },
   "outputs": [],
   "source": [
    "blood_pressure = data_frame['blood pressure']\n",
    "cholesterol = data_frame['cholesterol']"
   ]
  },
  {
   "cell_type": "code",
   "execution_count": 44,
   "metadata": {
    "collapsed": false
   },
   "outputs": [
    {
     "data": {
      "image/png": "[encoded data removed]",
      "text/plain": [
       "<matplotlib.figure.Figure at 0x116dbdb5c18>"
      ]
     },
     "metadata": {},
     "output_type": "display_data"
    }
   ],
   "source": [
    "# We visualize relationship between blood pressure and cholesterol\n",
    "plt.xlabel('Cholesterol')\n",
    "plt.ylabel('Blood pressure')\n",
    "plt.plot(cholesterol, blood_pressure, 'bo')\n",
    "plt.show()"
   ]
  },
  {
   "cell_type": "markdown",
   "metadata": {
    "collapsed": true
   },
   "source": [
    "We will calculate the correlation coefficient between cholesterol and blood pressure"
   ]
  },
  {
   "cell_type": "code",
   "execution_count": 45,
   "metadata": {
    "collapsed": false
   },
   "outputs": [
    {
     "name": "stdout",
     "output_type": "stream",
     "text": [
      "Correlation coefficent = 0.12317420653239072\n"
     ]
    }
   ],
   "source": [
    "rel_cho_blp = blood_pressure.corr(cholesterol)\n",
    "print('Correlation coefficent = {}' .format(rel_cho_blp))"
   ]
  },
  {
   "cell_type": "markdown",
   "metadata": {},
   "source": [
    "<h3><i>From the plot, we couldn't see the definite trend \n",
    "in increasing or descending, and the correlation coefficient \n",
    "is quite small.Based on this dataset, we surely confirm there \n",
    "is no relation between cholesterol and blood pressure. </i></h3>"
   ]
  },
  {
   "cell_type": "markdown",
   "metadata": {},
   "source": [
    "<h2><u>Problem 2:</u></h2>\n",
    "<h3><u>Do men tend to have higher blood pressure than women? What about cholesterol?</u></h3>"
   ]
  },
  {
   "cell_type": "markdown",
   "metadata": {},
   "source": [
    "<strong>From the questions, we create some hypothesizes to test:</strong>"
   ]
  },
  {
   "cell_type": "markdown",
   "metadata": {},
   "source": [
    "<p>H<sub>0a</sub>: men don't have higher blood pressure than women </p>\n",
    "<p>H<sub>1a</sub>: men have higher blood pressure than women</p>"
   ]
  },
  {
   "cell_type": "markdown",
   "metadata": {},
   "source": [
    "<p>H<sub>0b</sub>: men don't have higher cholesterol than women </p>\n",
    "<p>H<sub>1b</sub>: men have higher blood cholesterol than women</p>"
   ]
  },
  {
   "cell_type": "code",
   "execution_count": 46,
   "metadata": {
    "collapsed": false
   },
   "outputs": [],
   "source": [
    "male = data_frame[data_frame['sex']== 1]\n",
    "female = data_frame[data_frame['sex']== 0]"
   ]
  },
  {
   "cell_type": "markdown",
   "metadata": {},
   "source": [
    "<strong>We run two t-test for two hypothesizes with results:  </strong>"
   ]
  },
  {
   "cell_type": "code",
   "execution_count": 47,
   "metadata": {
    "collapsed": false
   },
   "outputs": [],
   "source": [
    "result_a = ttest_ind(male['blood pressure'], female['blood pressure'])\n",
    "result_b = ttest_ind(male['cholesterol'], female['cholesterol'])"
   ]
  },
  {
   "cell_type": "code",
   "execution_count": 48,
   "metadata": {
    "collapsed": false
   },
   "outputs": [
    {
     "data": {
      "image/png": "[encoded data removed]",
      "text/plain": [
       "<matplotlib.figure.Figure at 0x116dbdbb898>"
      ]
     },
     "metadata": {},
     "output_type": "display_data"
    }
   ],
   "source": [
    "plt.ylabel('Blood pressure')\n",
    "plt.plot(male['blood pressure'], 'b^')\n",
    "plt.plot(female['blood pressure'], 'ro')\n",
    "plt.show()"
   ]
  },
  {
   "cell_type": "markdown",
   "metadata": {},
   "source": [
    "<p>P value from the test A: </p>"
   ]
  },
  {
   "cell_type": "code",
   "execution_count": 49,
   "metadata": {
    "collapsed": false
   },
   "outputs": [
    {
     "name": "stdout",
     "output_type": "stream",
     "text": [
      "pvalue = 0.3246834797221041\n"
     ]
    }
   ],
   "source": [
    "print('pvalue = {}'.format(result_a.pvalue))"
   ]
  },
  {
   "cell_type": "markdown",
   "metadata": {},
   "source": [
    "<strong>With probability of H<sub>0a</sub> is pvalue > 0.005, so we cannot reject it</strong>"
   ]
  },
  {
   "cell_type": "code",
   "execution_count": 50,
   "metadata": {
    "collapsed": false,
    "scrolled": true
   },
   "outputs": [
    {
     "data": {
      "image/png": "[encoded data removed]",
      "text/plain": [
       "<matplotlib.figure.Figure at 0x116dbe75d68>"
      ]
     },
     "metadata": {},
     "output_type": "display_data"
    }
   ],
   "source": [
    "plt.ylabel('Cholesterol')\n",
    "plt.plot(male['cholesterol'], 'b^')\n",
    "plt.plot(female['cholesterol'], 'ro')\n",
    "plt.show()"
   ]
  },
  {
   "cell_type": "markdown",
   "metadata": {},
   "source": [
    "<p>P value from the test B: </p>"
   ]
  },
  {
   "cell_type": "code",
   "execution_count": 51,
   "metadata": {
    "collapsed": false
   },
   "outputs": [
    {
     "name": "stdout",
     "output_type": "stream",
     "text": [
      "pvalue = 0.000529966610622664\n"
     ]
    }
   ],
   "source": [
    "print('pvalue = {}'.format(result_b.pvalue))"
   ]
  },
  {
   "cell_type": "markdown",
   "metadata": {},
   "source": [
    "<strong>With probability of H<sub>0b</sub> is pvalue < 0.005, so we can reject it.</strong>"
   ]
  },
  {
   "cell_type": "markdown",
   "metadata": {},
   "source": [
    "<h3><i>From the results based on this dataset, we can conclude that men have higher blood pressure than women but not sure about cholesterol.</i></h3>"
   ]
  },
  {
   "cell_type": "markdown",
   "metadata": {},
   "source": [
    "<h2><u>Problem 2:</u></h2>\n",
    "<h3><u>What contribute to causing heart disease (age, cholesterol, blood pressure)? Is it the effect the same for both sex (male and female)?</u></h3>"
   ]
  },
  {
   "cell_type": "markdown",
   "metadata": {},
   "source": [
    "<h3><i>We survey relations between men's heart disease with conditions(age, cholesterol, blood pressure)</i></h3>"
   ]
  },
  {
   "cell_type": "markdown",
   "metadata": {},
   "source": [
    "<strong>We make some hypothesizes to test: </strong>\n",
    "<p>H<sub>0age</sub>: age don't effect to men's heart disease</p>\n",
    "<p>H<sub>0cholesterol</sub>: cholesterol don't effect to men's heart disease</p>\n",
    "<p>H<sub>0pressure</sub>: blood pressure don't effect to men's heart disease</p>"
   ]
  },
  {
   "cell_type": "markdown",
   "metadata": {},
   "source": [
    "<strong> T-test for each cases are:</strong>"
   ]
  },
  {
   "cell_type": "code",
   "execution_count": 52,
   "metadata": {
    "collapsed": false
   },
   "outputs": [
    {
     "name": "stdout",
     "output_type": "stream",
     "text": [
      "pvalue in age case: 2.102442577307712e-05 < 0.05\n"
     ]
    }
   ],
   "source": [
    "men_age_heart_disease = ttest_ind(data_frame['age'][data_frame['sex'] == 1][data_frame['class']==1], \n",
    "                                  data_frame['age'][data_frame['sex'] == 1][data_frame['class']==0]).pvalue\n",
    "print('pvalue in age case: {} < 0.05'.format(men_age_heart_disease))"
   ]
  },
  {
   "cell_type": "code",
   "execution_count": 53,
   "metadata": {
    "collapsed": false
   },
   "outputs": [
    {
     "name": "stdout",
     "output_type": "stream",
     "text": [
      "pvalue in cholesterol case: 0.011348054524752035 < 0.05\n"
     ]
    }
   ],
   "source": [
    "men_cholesterol_heart_disease = ttest_ind(data_frame['cholesterol'][data_frame['sex'] == 1][data_frame['class']==1], \n",
    "                                          data_frame['cholesterol'][data_frame['sex'] == 1][data_frame['class']==0]).pvalue\n",
    "print('pvalue in cholesterol case: {} < 0.05'.format(men_cholesterol_heart_disease))"
   ]
  },
  {
   "cell_type": "code",
   "execution_count": 54,
   "metadata": {
    "collapsed": false
   },
   "outputs": [
    {
     "name": "stdout",
     "output_type": "stream",
     "text": [
      "pvalue in blood pressure case: 0.3484860467059646 > 0.05\n"
     ]
    }
   ],
   "source": [
    "men_pressure_heart_disease = ttest_ind(data_frame['blood pressure'][data_frame['sex'] == 1][data_frame['class']==1], \n",
    "                                       data_frame['blood pressure'][data_frame['sex'] == 1][data_frame['class']==0]).pvalue\n",
    "print('pvalue in blood pressure case: {} > 0.05'.format(men_pressure_heart_disease))"
   ]
  },
  {
   "cell_type": "markdown",
   "metadata": {},
   "source": [
    "<strong>From results, we have some conclusions:</strong>\n",
    "<p>Age effect to men's heart disease</p>\n",
    "<p>Cholesterol effect to men's heart disease</p>\n",
    "<p>Blood pressure don't effect to men's heart disease</p>"
   ]
  },
  {
   "cell_type": "markdown",
   "metadata": {},
   "source": [
    "<h3><i>We survey relations between men's heart disease with conditions(age, cholesterol, blood pressure)</i></h3>"
   ]
  },
  {
   "cell_type": "markdown",
   "metadata": {},
   "source": [
    "<strong>We make some hypothesizes to test: </strong>\n",
    "<p>H<sub>0age</sub>: age don't effect to women's heart disease</p>\n",
    "<p>H<sub>0cholesterol</sub>: cholesterol don't effect to women's heart disease</p>\n",
    "<p>H<sub>0pressure</sub>: blood pressure don't effect to women's heart disease</p>"
   ]
  },
  {
   "cell_type": "markdown",
   "metadata": {},
   "source": [
    "<strong> T-test for each cases are:</strong>"
   ]
  },
  {
   "cell_type": "code",
   "execution_count": 55,
   "metadata": {
    "collapsed": false
   },
   "outputs": [
    {
     "name": "stdout",
     "output_type": "stream",
     "text": [
      "pvalue in age case: 0.042469631102719105 < 0.05\n"
     ]
    }
   ],
   "source": [
    "women_age_heart_disease = ttest_ind(data_frame['age'][data_frame['sex'] == 0][data_frame['class']==1], \n",
    "                                    data_frame['age'][data_frame['sex'] == 0][data_frame['class']==0]).pvalue\n",
    "print('pvalue in age case: {} < 0.05'.format(women_age_heart_disease))"
   ]
  },
  {
   "cell_type": "code",
   "execution_count": 56,
   "metadata": {
    "collapsed": false
   },
   "outputs": [
    {
     "name": "stdout",
     "output_type": "stream",
     "text": [
      "pvalue in cholesterol case: 0.2372594614368495 > 0.05\n"
     ]
    }
   ],
   "source": [
    "women_cholesterol_heart_disease = ttest_ind(data_frame['cholesterol'][data_frame['sex'] == 0][data_frame['class']==1], \n",
    "                                            data_frame['cholesterol'][data_frame['sex'] == 0][data_frame['class']==0]).pvalue\n",
    "print('pvalue in cholesterol case: {} > 0.05'.format(women_cholesterol_heart_disease))"
   ]
  },
  {
   "cell_type": "code",
   "execution_count": 57,
   "metadata": {
    "collapsed": false
   },
   "outputs": [
    {
     "name": "stdout",
     "output_type": "stream",
     "text": [
      "pvalue in blood pressure case: 7.837377824823497e-05 < 0.05\n"
     ]
    }
   ],
   "source": [
    "women_pressure_heart_disease = ttest_ind(data_frame['blood pressure'][data_frame['sex'] == 0][data_frame['class']==1], \n",
    "                                         data_frame['blood pressure'][data_frame['sex'] == 0][data_frame['class']==0]).pvalue\n",
    "print('pvalue in blood pressure case: {} < 0.05'.format(women_pressure_heart_disease))"
   ]
  },
  {
   "cell_type": "markdown",
   "metadata": {},
   "source": [
    "<strong>From results, we have some conclusions:</strong>\n",
    "<p>Age effect to women's heart disease</p>\n",
    "<p>Cholesterol don't effect to women's heart disease</p>\n",
    "<p>Blood pressure effect to women's heart disease</p>"
   ]
  },
  {
   "cell_type": "markdown",
   "metadata": {},
   "source": [
    "<h3><i>From two surveys, we temporarily conclude some reasons causing heart disease:</i></h3>\n",
    "<table>\n",
    "  <tr>\n",
    "    <th>Sex</th>\n",
    "    <th>Age</th>\n",
    "    <th>Cholesterol</th>\n",
    "    <th>Blood pressure</th>\n",
    "  </tr>\n",
    "  <tr>\n",
    "    <td>Male</td>\n",
    "    <td>Yes</td>\n",
    "    <td>Yes</td>\n",
    "    <td>No</td>\n",
    "  </tr>\n",
    "  <tr>\n",
    "    <td>Female</td>  \n",
    "    <td>Yes</td>\n",
    "    <td>No</td>\n",
    "    <td>Yes</td>\n",
    "  </tr>\n",
    "</table>\n"
   ]
  },
  {
   "cell_type": "code",
   "execution_count": null,
   "metadata": {
    "collapsed": true
   },
   "outputs": [],
   "source": []
  }
 ],
 "metadata": {
  "kernelspec": {
   "display_name": "Python 3",
   "language": "python",
   "name": "python3"
  },
  "language_info": {
   "codemirror_mode": {
    "name": "ipython",
    "version": 3
   },
   "file_extension": ".py",
   "mimetype": "text/x-python",
   "name": "python",
   "nbconvert_exporter": "python",
   "pygments_lexer": "ipython3",
   "version": "3.6.0"
  }
 },
 "nbformat": 4,
 "nbformat_minor": 2
}
