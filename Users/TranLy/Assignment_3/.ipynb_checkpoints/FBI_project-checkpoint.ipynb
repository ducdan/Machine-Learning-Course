{
 "cells": [
  {
   "cell_type": "markdown",
   "metadata": {},
   "source": [
    "<h1><u>FBI project</u></h1>"
   ]
  },
  {
   "cell_type": "code",
   "execution_count": 5,
   "metadata": {
    "collapsed": false
   },
   "outputs": [],
   "source": [
    "import pandas as pd\n",
    "import numpy as np\n",
    "\n",
    "from sklearn import datasets\n",
    "from sklearn.model_selection import cross_val_predict\n",
    "from sklearn import linear_model\n",
    "import matplotlib.pyplot as plt"
   ]
  },
  {
   "cell_type": "markdown",
   "metadata": {},
   "source": [
    "<h3><i>Import data from excel file.</i></h3>"
   ]
  },
  {
   "cell_type": "code",
   "execution_count": 32,
   "metadata": {
    "collapsed": true
   },
   "outputs": [],
   "source": [
    "data_frame = pd.read_excel(io ='table_8_offenses_known_to_law_enforcement_new_york_by_city_2013.xls',\n",
    "                          sheetname = '13tbl8ny', header = 0)"
   ]
  },
  {
   "cell_type": "code",
   "execution_count": 33,
   "metadata": {
    "collapsed": false,
    "scrolled": true
   },
   "outputs": [
    {
     "data": {
      "text/html": [
       "<div>\n",
       "<table border=\"1\" class=\"dataframe\">\n",
       "  <thead>\n",
       "    <tr style=\"text-align: right;\">\n",
       "      <th></th>\n",
       "      <th>City</th>\n",
       "      <th>Population</th>\n",
       "      <th>Violent\n",
       "crime</th>\n",
       "      <th>Murder and\n",
       "nonnegligent\n",
       "manslaughter</th>\n",
       "      <th>Rape\n",
       "(revised\n",
       "definition)1</th>\n",
       "      <th>Rape\n",
       "(legacy\n",
       "definition)2</th>\n",
       "      <th>Robbery</th>\n",
       "      <th>Aggravated\n",
       "assault</th>\n",
       "      <th>Property\n",
       "crime</th>\n",
       "      <th>Burglary</th>\n",
       "      <th>Larceny-\n",
       "theft</th>\n",
       "      <th>Motor\n",
       "vehicle\n",
       "theft</th>\n",
       "      <th>Arson3</th>\n",
       "    </tr>\n",
       "  </thead>\n",
       "  <tbody>\n",
       "    <tr>\n",
       "      <th>0</th>\n",
       "      <td>Adams Village</td>\n",
       "      <td>1861</td>\n",
       "      <td>0</td>\n",
       "      <td>0</td>\n",
       "      <td>NaN</td>\n",
       "      <td>0</td>\n",
       "      <td>0</td>\n",
       "      <td>0</td>\n",
       "      <td>12</td>\n",
       "      <td>2</td>\n",
       "      <td>10</td>\n",
       "      <td>0</td>\n",
       "      <td>0.0</td>\n",
       "    </tr>\n",
       "    <tr>\n",
       "      <th>1</th>\n",
       "      <td>Addison Town and Village</td>\n",
       "      <td>2577</td>\n",
       "      <td>3</td>\n",
       "      <td>0</td>\n",
       "      <td>NaN</td>\n",
       "      <td>0</td>\n",
       "      <td>0</td>\n",
       "      <td>3</td>\n",
       "      <td>24</td>\n",
       "      <td>3</td>\n",
       "      <td>20</td>\n",
       "      <td>1</td>\n",
       "      <td>0.0</td>\n",
       "    </tr>\n",
       "    <tr>\n",
       "      <th>2</th>\n",
       "      <td>Akron Village</td>\n",
       "      <td>2846</td>\n",
       "      <td>3</td>\n",
       "      <td>0</td>\n",
       "      <td>NaN</td>\n",
       "      <td>0</td>\n",
       "      <td>0</td>\n",
       "      <td>3</td>\n",
       "      <td>16</td>\n",
       "      <td>1</td>\n",
       "      <td>15</td>\n",
       "      <td>0</td>\n",
       "      <td>0.0</td>\n",
       "    </tr>\n",
       "    <tr>\n",
       "      <th>3</th>\n",
       "      <td>Albany</td>\n",
       "      <td>97956</td>\n",
       "      <td>791</td>\n",
       "      <td>8</td>\n",
       "      <td>NaN</td>\n",
       "      <td>30</td>\n",
       "      <td>227</td>\n",
       "      <td>526</td>\n",
       "      <td>4090</td>\n",
       "      <td>705</td>\n",
       "      <td>3243</td>\n",
       "      <td>142</td>\n",
       "      <td>NaN</td>\n",
       "    </tr>\n",
       "    <tr>\n",
       "      <th>4</th>\n",
       "      <td>Albion Village</td>\n",
       "      <td>6388</td>\n",
       "      <td>23</td>\n",
       "      <td>0</td>\n",
       "      <td>NaN</td>\n",
       "      <td>3</td>\n",
       "      <td>4</td>\n",
       "      <td>16</td>\n",
       "      <td>223</td>\n",
       "      <td>53</td>\n",
       "      <td>165</td>\n",
       "      <td>5</td>\n",
       "      <td>NaN</td>\n",
       "    </tr>\n",
       "    <tr>\n",
       "      <th>5</th>\n",
       "      <td>Alfred Village</td>\n",
       "      <td>4089</td>\n",
       "      <td>5</td>\n",
       "      <td>0</td>\n",
       "      <td>NaN</td>\n",
       "      <td>0</td>\n",
       "      <td>3</td>\n",
       "      <td>2</td>\n",
       "      <td>46</td>\n",
       "      <td>10</td>\n",
       "      <td>36</td>\n",
       "      <td>0</td>\n",
       "      <td>NaN</td>\n",
       "    </tr>\n",
       "    <tr>\n",
       "      <th>6</th>\n",
       "      <td>Allegany Village</td>\n",
       "      <td>1781</td>\n",
       "      <td>3</td>\n",
       "      <td>0</td>\n",
       "      <td>NaN</td>\n",
       "      <td>0</td>\n",
       "      <td>0</td>\n",
       "      <td>3</td>\n",
       "      <td>10</td>\n",
       "      <td>0</td>\n",
       "      <td>10</td>\n",
       "      <td>0</td>\n",
       "      <td>0.0</td>\n",
       "    </tr>\n",
       "  </tbody>\n",
       "</table>\n",
       "</div>"
      ],
      "text/plain": [
       "                       City  Population  Violent\\ncrime  \\\n",
       "0             Adams Village        1861               0   \n",
       "1  Addison Town and Village        2577               3   \n",
       "2             Akron Village        2846               3   \n",
       "3                    Albany       97956             791   \n",
       "4            Albion Village        6388              23   \n",
       "5            Alfred Village        4089               5   \n",
       "6          Allegany Village        1781               3   \n",
       "\n",
       "   Murder and\\nnonnegligent\\nmanslaughter  Rape\\n(revised\\ndefinition)1  \\\n",
       "0                                       0                           NaN   \n",
       "1                                       0                           NaN   \n",
       "2                                       0                           NaN   \n",
       "3                                       8                           NaN   \n",
       "4                                       0                           NaN   \n",
       "5                                       0                           NaN   \n",
       "6                                       0                           NaN   \n",
       "\n",
       "   Rape\\n(legacy\\ndefinition)2  Robbery  Aggravated\\nassault  Property\\ncrime  \\\n",
       "0                            0        0                    0               12   \n",
       "1                            0        0                    3               24   \n",
       "2                            0        0                    3               16   \n",
       "3                           30      227                  526             4090   \n",
       "4                            3        4                   16              223   \n",
       "5                            0        3                    2               46   \n",
       "6                            0        0                    3               10   \n",
       "\n",
       "   Burglary  Larceny-\\ntheft  Motor\\nvehicle\\ntheft  Arson3  \n",
       "0         2               10                      0     0.0  \n",
       "1         3               20                      1     0.0  \n",
       "2         1               15                      0     0.0  \n",
       "3       705             3243                    142     NaN  \n",
       "4        53              165                      5     NaN  \n",
       "5        10               36                      0     NaN  \n",
       "6         0               10                      0     0.0  "
      ]
     },
     "execution_count": 33,
     "metadata": {},
     "output_type": "execute_result"
    }
   ],
   "source": [
    "data_frame.head(7)"
   ]
  },
  {
   "cell_type": "code",
   "execution_count": 34,
   "metadata": {
    "collapsed": false
   },
   "outputs": [
    {
     "data": {
      "text/html": [
       "<div>\n",
       "<table border=\"1\" class=\"dataframe\">\n",
       "  <thead>\n",
       "    <tr style=\"text-align: right;\">\n",
       "      <th></th>\n",
       "      <th>Population</th>\n",
       "      <th>Violent\n",
       "crime</th>\n",
       "      <th>Murder and\n",
       "nonnegligent\n",
       "manslaughter</th>\n",
       "      <th>Rape\n",
       "(revised\n",
       "definition)1</th>\n",
       "      <th>Rape\n",
       "(legacy\n",
       "definition)2</th>\n",
       "      <th>Robbery</th>\n",
       "      <th>Aggravated\n",
       "assault</th>\n",
       "      <th>Property\n",
       "crime</th>\n",
       "      <th>Burglary</th>\n",
       "      <th>Larceny-\n",
       "theft</th>\n",
       "      <th>Motor\n",
       "vehicle\n",
       "theft</th>\n",
       "      <th>Arson3</th>\n",
       "    </tr>\n",
       "  </thead>\n",
       "  <tbody>\n",
       "    <tr>\n",
       "      <th>count</th>\n",
       "      <td>3.480000e+02</td>\n",
       "      <td>348.000000</td>\n",
       "      <td>348.000000</td>\n",
       "      <td>0.0</td>\n",
       "      <td>348.000000</td>\n",
       "      <td>348.000000</td>\n",
       "      <td>348.000000</td>\n",
       "      <td>348.000000</td>\n",
       "      <td>348.000000</td>\n",
       "      <td>348.000000</td>\n",
       "      <td>348.000000</td>\n",
       "      <td>187.000000</td>\n",
       "    </tr>\n",
       "    <tr>\n",
       "      <th>mean</th>\n",
       "      <td>4.003763e+04</td>\n",
       "      <td>201.594828</td>\n",
       "      <td>1.566092</td>\n",
       "      <td>NaN</td>\n",
       "      <td>5.864943</td>\n",
       "      <td>72.902299</td>\n",
       "      <td>121.261494</td>\n",
       "      <td>792.606322</td>\n",
       "      <td>119.683908</td>\n",
       "      <td>637.017241</td>\n",
       "      <td>35.905172</td>\n",
       "      <td>1.871658</td>\n",
       "    </tr>\n",
       "    <tr>\n",
       "      <th>std</th>\n",
       "      <td>4.500374e+05</td>\n",
       "      <td>2815.268504</td>\n",
       "      <td>18.303673</td>\n",
       "      <td>NaN</td>\n",
       "      <td>60.425452</td>\n",
       "      <td>1031.032873</td>\n",
       "      <td>1706.131730</td>\n",
       "      <td>7659.724746</td>\n",
       "      <td>924.948789</td>\n",
       "      <td>6346.054451</td>\n",
       "      <td>403.423826</td>\n",
       "      <td>10.693411</td>\n",
       "    </tr>\n",
       "    <tr>\n",
       "      <th>min</th>\n",
       "      <td>5.260000e+02</td>\n",
       "      <td>0.000000</td>\n",
       "      <td>0.000000</td>\n",
       "      <td>NaN</td>\n",
       "      <td>0.000000</td>\n",
       "      <td>0.000000</td>\n",
       "      <td>0.000000</td>\n",
       "      <td>0.000000</td>\n",
       "      <td>0.000000</td>\n",
       "      <td>0.000000</td>\n",
       "      <td>0.000000</td>\n",
       "      <td>0.000000</td>\n",
       "    </tr>\n",
       "    <tr>\n",
       "      <th>25%</th>\n",
       "      <td>3.003000e+03</td>\n",
       "      <td>2.000000</td>\n",
       "      <td>0.000000</td>\n",
       "      <td>NaN</td>\n",
       "      <td>0.000000</td>\n",
       "      <td>0.000000</td>\n",
       "      <td>1.000000</td>\n",
       "      <td>40.500000</td>\n",
       "      <td>6.000000</td>\n",
       "      <td>31.000000</td>\n",
       "      <td>0.000000</td>\n",
       "      <td>0.000000</td>\n",
       "    </tr>\n",
       "    <tr>\n",
       "      <th>50%</th>\n",
       "      <td>7.233500e+03</td>\n",
       "      <td>6.000000</td>\n",
       "      <td>0.000000</td>\n",
       "      <td>NaN</td>\n",
       "      <td>0.000000</td>\n",
       "      <td>1.000000</td>\n",
       "      <td>4.000000</td>\n",
       "      <td>112.500000</td>\n",
       "      <td>17.500000</td>\n",
       "      <td>94.000000</td>\n",
       "      <td>2.000000</td>\n",
       "      <td>0.000000</td>\n",
       "    </tr>\n",
       "    <tr>\n",
       "      <th>75%</th>\n",
       "      <td>1.842750e+04</td>\n",
       "      <td>22.000000</td>\n",
       "      <td>0.000000</td>\n",
       "      <td>NaN</td>\n",
       "      <td>2.000000</td>\n",
       "      <td>5.000000</td>\n",
       "      <td>14.000000</td>\n",
       "      <td>341.000000</td>\n",
       "      <td>51.250000</td>\n",
       "      <td>287.250000</td>\n",
       "      <td>7.000000</td>\n",
       "      <td>1.000000</td>\n",
       "    </tr>\n",
       "    <tr>\n",
       "      <th>max</th>\n",
       "      <td>8.396126e+06</td>\n",
       "      <td>52384.000000</td>\n",
       "      <td>335.000000</td>\n",
       "      <td>NaN</td>\n",
       "      <td>1112.000000</td>\n",
       "      <td>19170.000000</td>\n",
       "      <td>31767.000000</td>\n",
       "      <td>141971.000000</td>\n",
       "      <td>16606.000000</td>\n",
       "      <td>117931.000000</td>\n",
       "      <td>7434.000000</td>\n",
       "      <td>132.000000</td>\n",
       "    </tr>\n",
       "  </tbody>\n",
       "</table>\n",
       "</div>"
      ],
      "text/plain": [
       "         Population  Violent\\ncrime  Murder and\\nnonnegligent\\nmanslaughter  \\\n",
       "count  3.480000e+02      348.000000                              348.000000   \n",
       "mean   4.003763e+04      201.594828                                1.566092   \n",
       "std    4.500374e+05     2815.268504                               18.303673   \n",
       "min    5.260000e+02        0.000000                                0.000000   \n",
       "25%    3.003000e+03        2.000000                                0.000000   \n",
       "50%    7.233500e+03        6.000000                                0.000000   \n",
       "75%    1.842750e+04       22.000000                                0.000000   \n",
       "max    8.396126e+06    52384.000000                              335.000000   \n",
       "\n",
       "       Rape\\n(revised\\ndefinition)1  Rape\\n(legacy\\ndefinition)2  \\\n",
       "count                           0.0                   348.000000   \n",
       "mean                            NaN                     5.864943   \n",
       "std                             NaN                    60.425452   \n",
       "min                             NaN                     0.000000   \n",
       "25%                             NaN                     0.000000   \n",
       "50%                             NaN                     0.000000   \n",
       "75%                             NaN                     2.000000   \n",
       "max                             NaN                  1112.000000   \n",
       "\n",
       "            Robbery  Aggravated\\nassault  Property\\ncrime      Burglary  \\\n",
       "count    348.000000           348.000000       348.000000    348.000000   \n",
       "mean      72.902299           121.261494       792.606322    119.683908   \n",
       "std     1031.032873          1706.131730      7659.724746    924.948789   \n",
       "min        0.000000             0.000000         0.000000      0.000000   \n",
       "25%        0.000000             1.000000        40.500000      6.000000   \n",
       "50%        1.000000             4.000000       112.500000     17.500000   \n",
       "75%        5.000000            14.000000       341.000000     51.250000   \n",
       "max    19170.000000         31767.000000    141971.000000  16606.000000   \n",
       "\n",
       "       Larceny-\\ntheft  Motor\\nvehicle\\ntheft      Arson3  \n",
       "count       348.000000             348.000000  187.000000  \n",
       "mean        637.017241              35.905172    1.871658  \n",
       "std        6346.054451             403.423826   10.693411  \n",
       "min           0.000000               0.000000    0.000000  \n",
       "25%          31.000000               0.000000    0.000000  \n",
       "50%          94.000000               2.000000    0.000000  \n",
       "75%         287.250000               7.000000    1.000000  \n",
       "max      117931.000000            7434.000000  132.000000  "
      ]
     },
     "execution_count": 34,
     "metadata": {},
     "output_type": "execute_result"
    }
   ],
   "source": [
    "data_frame.describe()"
   ]
  },
  {
   "cell_type": "markdown",
   "metadata": {},
   "source": [
    "<h3><i>Cleaning data.</i></h3>"
   ]
  },
  {
   "cell_type": "code",
   "execution_count": 35,
   "metadata": {
    "collapsed": false
   },
   "outputs": [],
   "source": [
    "# data_frame = data_frame.drop(data_frame.columns[[0,2,3,4,5,6,7,12 ]], axis=1)\n",
    "data_frame = data_frame.drop(data_frame.columns[[0,2,4,8,12 ]], axis=1)"
   ]
  },
  {
   "cell_type": "code",
   "execution_count": 36,
   "metadata": {
    "collapsed": false
   },
   "outputs": [
    {
     "data": {
      "text/html": [
       "<div>\n",
       "<table border=\"1\" class=\"dataframe\">\n",
       "  <thead>\n",
       "    <tr style=\"text-align: right;\">\n",
       "      <th></th>\n",
       "      <th>Population</th>\n",
       "      <th>Murder and\n",
       "nonnegligent\n",
       "manslaughter</th>\n",
       "      <th>Rape\n",
       "(legacy\n",
       "definition)2</th>\n",
       "      <th>Robbery</th>\n",
       "      <th>Aggravated\n",
       "assault</th>\n",
       "      <th>Burglary</th>\n",
       "      <th>Larceny-\n",
       "theft</th>\n",
       "      <th>Motor\n",
       "vehicle\n",
       "theft</th>\n",
       "    </tr>\n",
       "  </thead>\n",
       "  <tbody>\n",
       "    <tr>\n",
       "      <th>0</th>\n",
       "      <td>1861</td>\n",
       "      <td>0</td>\n",
       "      <td>0</td>\n",
       "      <td>0</td>\n",
       "      <td>0</td>\n",
       "      <td>2</td>\n",
       "      <td>10</td>\n",
       "      <td>0</td>\n",
       "    </tr>\n",
       "    <tr>\n",
       "      <th>1</th>\n",
       "      <td>2577</td>\n",
       "      <td>0</td>\n",
       "      <td>0</td>\n",
       "      <td>0</td>\n",
       "      <td>3</td>\n",
       "      <td>3</td>\n",
       "      <td>20</td>\n",
       "      <td>1</td>\n",
       "    </tr>\n",
       "    <tr>\n",
       "      <th>2</th>\n",
       "      <td>2846</td>\n",
       "      <td>0</td>\n",
       "      <td>0</td>\n",
       "      <td>0</td>\n",
       "      <td>3</td>\n",
       "      <td>1</td>\n",
       "      <td>15</td>\n",
       "      <td>0</td>\n",
       "    </tr>\n",
       "  </tbody>\n",
       "</table>\n",
       "</div>"
      ],
      "text/plain": [
       "   Population  Murder and\\nnonnegligent\\nmanslaughter  \\\n",
       "0        1861                                       0   \n",
       "1        2577                                       0   \n",
       "2        2846                                       0   \n",
       "\n",
       "   Rape\\n(legacy\\ndefinition)2  Robbery  Aggravated\\nassault  Burglary  \\\n",
       "0                            0        0                    0         2   \n",
       "1                            0        0                    3         3   \n",
       "2                            0        0                    3         1   \n",
       "\n",
       "   Larceny-\\ntheft  Motor\\nvehicle\\ntheft  \n",
       "0               10                      0  \n",
       "1               20                      1  \n",
       "2               15                      0  "
      ]
     },
     "execution_count": 36,
     "metadata": {},
     "output_type": "execute_result"
    }
   ],
   "source": [
    "data_frame.head(3)"
   ]
  },
  {
   "cell_type": "code",
   "execution_count": 37,
   "metadata": {
    "collapsed": false
   },
   "outputs": [
    {
     "data": {
      "text/plain": [
       "['Population',\n",
       " 'Murder and\\nnonnegligent\\nmanslaughter',\n",
       " 'Rape\\n(legacy\\ndefinition)2',\n",
       " 'Robbery',\n",
       " 'Aggravated\\nassault',\n",
       " 'Burglary',\n",
       " 'Larceny-\\ntheft',\n",
       " 'Motor\\nvehicle\\ntheft']"
      ]
     },
     "execution_count": 37,
     "metadata": {},
     "output_type": "execute_result"
    }
   ],
   "source": [
    "cols = data_frame.columns.tolist()\n",
    "cols"
   ]
  },
  {
   "cell_type": "markdown",
   "metadata": {
    "collapsed": false
   },
   "source": [
    "<h3><i>1. Normalization.</i></h3>"
   ]
  },
  {
   "cell_type": "code",
   "execution_count": 38,
   "metadata": {
    "collapsed": false
   },
   "outputs": [],
   "source": [
    "data_frame = (data_frame - data_frame.mean())/data_frame.std()"
   ]
  },
  {
   "cell_type": "markdown",
   "metadata": {},
   "source": [
    "<h3><i>2. We find the connection between burglary and other crimes.</i></h3>"
   ]
  },
  {
   "cell_type": "code",
   "execution_count": 14,
   "metadata": {
    "collapsed": false
   },
   "outputs": [
    {
     "data": {
      "text/html": [
       "<div>\n",
       "<table border=\"1\" class=\"dataframe\">\n",
       "  <thead>\n",
       "    <tr style=\"text-align: right;\">\n",
       "      <th></th>\n",
       "      <th>Population</th>\n",
       "      <th>Murder and\n",
       "nonnegligent\n",
       "manslaughter</th>\n",
       "      <th>Rape\n",
       "(legacy\n",
       "definition)2</th>\n",
       "      <th>Robbery</th>\n",
       "      <th>Aggravated\n",
       "assault</th>\n",
       "      <th>Larceny-\n",
       "theft</th>\n",
       "      <th>Motor\n",
       "vehicle\n",
       "theft</th>\n",
       "    </tr>\n",
       "  </thead>\n",
       "  <tbody>\n",
       "    <tr>\n",
       "      <th>0</th>\n",
       "      <td>-0.084830</td>\n",
       "      <td>-0.085562</td>\n",
       "      <td>-0.097061</td>\n",
       "      <td>-0.070708</td>\n",
       "      <td>-0.071074</td>\n",
       "      <td>-0.098804</td>\n",
       "      <td>-0.089001</td>\n",
       "    </tr>\n",
       "    <tr>\n",
       "      <th>1</th>\n",
       "      <td>-0.083239</td>\n",
       "      <td>-0.085562</td>\n",
       "      <td>-0.097061</td>\n",
       "      <td>-0.070708</td>\n",
       "      <td>-0.069316</td>\n",
       "      <td>-0.097228</td>\n",
       "      <td>-0.086522</td>\n",
       "    </tr>\n",
       "    <tr>\n",
       "      <th>2</th>\n",
       "      <td>-0.082641</td>\n",
       "      <td>-0.085562</td>\n",
       "      <td>-0.097061</td>\n",
       "      <td>-0.070708</td>\n",
       "      <td>-0.069316</td>\n",
       "      <td>-0.098016</td>\n",
       "      <td>-0.089001</td>\n",
       "    </tr>\n",
       "  </tbody>\n",
       "</table>\n",
       "</div>"
      ],
      "text/plain": [
       "   Population  Murder and\\nnonnegligent\\nmanslaughter  \\\n",
       "0   -0.084830                               -0.085562   \n",
       "1   -0.083239                               -0.085562   \n",
       "2   -0.082641                               -0.085562   \n",
       "\n",
       "   Rape\\n(legacy\\ndefinition)2   Robbery  Aggravated\\nassault  \\\n",
       "0                    -0.097061 -0.070708            -0.071074   \n",
       "1                    -0.097061 -0.070708            -0.069316   \n",
       "2                    -0.097061 -0.070708            -0.069316   \n",
       "\n",
       "   Larceny-\\ntheft  Motor\\nvehicle\\ntheft  \n",
       "0        -0.098804              -0.089001  \n",
       "1        -0.097228              -0.086522  \n",
       "2        -0.098016              -0.089001  "
      ]
     },
     "execution_count": 14,
     "metadata": {},
     "output_type": "execute_result"
    }
   ],
   "source": [
    "X_burglary = data_frame.drop(data_frame.columns[[5]], axis=1)\n",
    "X_burglary.head(3)"
   ]
  },
  {
   "cell_type": "code",
   "execution_count": 18,
   "metadata": {
    "collapsed": false
   },
   "outputs": [],
   "source": [
    "lr = linear_model.LinearRegression(normalize=True)\n",
    "model_1 = lr.fit(X_burglary, data_frame['Burglary'])\n",
    "# model.predict([1861,2, 10, 0])"
   ]
  },
  {
   "cell_type": "code",
   "execution_count": 19,
   "metadata": {
    "collapsed": false
   },
   "outputs": [
    {
     "data": {
      "text/plain": [
       "array([-0.84480368,  0.22102495,  0.32374091, -0.98777085,  0.03616651,\n",
       "        1.03091058,  1.20698661])"
      ]
     },
     "execution_count": 19,
     "metadata": {},
     "output_type": "execute_result"
    }
   ],
   "source": [
    "model_1.coef_"
   ]
  },
  {
   "cell_type": "code",
   "execution_count": 20,
   "metadata": {
    "collapsed": false
   },
   "outputs": [
    {
     "data": {
      "text/plain": [
       "7.6738102124804071e-18"
      ]
     },
     "execution_count": 20,
     "metadata": {},
     "output_type": "execute_result"
    }
   ],
   "source": [
    "model_1.intercept_"
   ]
  },
  {
   "cell_type": "markdown",
   "metadata": {
    "collapsed": false,
    "scrolled": true
   },
   "source": [
    "The burglary crime dependents on population, robbery, larceny  theft, and motor vehicle theft. "
   ]
  },
  {
   "cell_type": "markdown",
   "metadata": {
    "collapsed": false
   },
   "source": [
    "<h3><i>3. We find the connection between larceny theft and other crimes.</i></h3>"
   ]
  },
  {
   "cell_type": "code",
   "execution_count": 16,
   "metadata": {
    "collapsed": false
   },
   "outputs": [
    {
     "data": {
      "text/html": [
       "<div>\n",
       "<table border=\"1\" class=\"dataframe\">\n",
       "  <thead>\n",
       "    <tr style=\"text-align: right;\">\n",
       "      <th></th>\n",
       "      <th>Population</th>\n",
       "      <th>Murder and\n",
       "nonnegligent\n",
       "manslaughter</th>\n",
       "      <th>Rape\n",
       "(legacy\n",
       "definition)2</th>\n",
       "      <th>Robbery</th>\n",
       "      <th>Aggravated\n",
       "assault</th>\n",
       "      <th>Burglary</th>\n",
       "      <th>Motor\n",
       "vehicle\n",
       "theft</th>\n",
       "    </tr>\n",
       "  </thead>\n",
       "  <tbody>\n",
       "    <tr>\n",
       "      <th>0</th>\n",
       "      <td>-0.084830</td>\n",
       "      <td>-0.085562</td>\n",
       "      <td>-0.097061</td>\n",
       "      <td>-0.070708</td>\n",
       "      <td>-0.071074</td>\n",
       "      <td>-0.127233</td>\n",
       "      <td>-0.089001</td>\n",
       "    </tr>\n",
       "    <tr>\n",
       "      <th>1</th>\n",
       "      <td>-0.083239</td>\n",
       "      <td>-0.085562</td>\n",
       "      <td>-0.097061</td>\n",
       "      <td>-0.070708</td>\n",
       "      <td>-0.069316</td>\n",
       "      <td>-0.126152</td>\n",
       "      <td>-0.086522</td>\n",
       "    </tr>\n",
       "    <tr>\n",
       "      <th>2</th>\n",
       "      <td>-0.082641</td>\n",
       "      <td>-0.085562</td>\n",
       "      <td>-0.097061</td>\n",
       "      <td>-0.070708</td>\n",
       "      <td>-0.069316</td>\n",
       "      <td>-0.128314</td>\n",
       "      <td>-0.089001</td>\n",
       "    </tr>\n",
       "  </tbody>\n",
       "</table>\n",
       "</div>"
      ],
      "text/plain": [
       "   Population  Murder and\\nnonnegligent\\nmanslaughter  \\\n",
       "0   -0.084830                               -0.085562   \n",
       "1   -0.083239                               -0.085562   \n",
       "2   -0.082641                               -0.085562   \n",
       "\n",
       "   Rape\\n(legacy\\ndefinition)2   Robbery  Aggravated\\nassault  Burglary  \\\n",
       "0                    -0.097061 -0.070708            -0.071074 -0.127233   \n",
       "1                    -0.097061 -0.070708            -0.069316 -0.126152   \n",
       "2                    -0.097061 -0.070708            -0.069316 -0.128314   \n",
       "\n",
       "   Motor\\nvehicle\\ntheft  \n",
       "0              -0.089001  \n",
       "1              -0.086522  \n",
       "2              -0.089001  "
      ]
     },
     "execution_count": 16,
     "metadata": {},
     "output_type": "execute_result"
    }
   ],
   "source": [
    "X_larceny_theft = data_frame.drop(data_frame.columns[[6]], axis=1)\n",
    "X_larceny_theft.head(3)"
   ]
  },
  {
   "cell_type": "code",
   "execution_count": 24,
   "metadata": {
    "collapsed": false
   },
   "outputs": [],
   "source": [
    "model_2 = lr.fit(X_larceny_theft, data_frame['Larceny-\\ntheft'])"
   ]
  },
  {
   "cell_type": "code",
   "execution_count": 25,
   "metadata": {
    "collapsed": false
   },
   "outputs": [
    {
     "data": {
      "text/plain": [
       "array([  8.44364048e-01,  -1.18587084e-02,   3.61639449e-02,\n",
       "        -6.71389753e-04,   8.33255167e-02,   3.80749935e-01,\n",
       "        -3.25144181e-01])"
      ]
     },
     "execution_count": 25,
     "metadata": {},
     "output_type": "execute_result"
    }
   ],
   "source": [
    "model_2.coef_"
   ]
  },
  {
   "cell_type": "code",
   "execution_count": 26,
   "metadata": {
    "collapsed": false
   },
   "outputs": [
    {
     "data": {
      "text/plain": [
       "1.3552257390101638e-17"
      ]
     },
     "execution_count": 26,
     "metadata": {},
     "output_type": "execute_result"
    }
   ],
   "source": [
    "model_2.intercept_"
   ]
  },
  {
   "cell_type": "markdown",
   "metadata": {},
   "source": [
    "The larceny thieft dependents on population, robbery, burglary and motor vehicle theft."
   ]
  },
  {
   "cell_type": "markdown",
   "metadata": {},
   "source": [
    "<h3><i>4. We find the connection between motor vehicle theft and other crimes.</i></h3>"
   ]
  },
  {
   "cell_type": "code",
   "execution_count": 43,
   "metadata": {
    "collapsed": false
   },
   "outputs": [
    {
     "data": {
      "text/html": [
       "<div>\n",
       "<table border=\"1\" class=\"dataframe\">\n",
       "  <thead>\n",
       "    <tr style=\"text-align: right;\">\n",
       "      <th></th>\n",
       "      <th>Population</th>\n",
       "      <th>Murder and\n",
       "nonnegligent\n",
       "manslaughter</th>\n",
       "      <th>Rape\n",
       "(legacy\n",
       "definition)2</th>\n",
       "      <th>Robbery</th>\n",
       "      <th>Aggravated\n",
       "assault</th>\n",
       "      <th>Burglary</th>\n",
       "      <th>Larceny-\n",
       "theft</th>\n",
       "    </tr>\n",
       "  </thead>\n",
       "  <tbody>\n",
       "    <tr>\n",
       "      <th>0</th>\n",
       "      <td>-0.084830</td>\n",
       "      <td>-0.085562</td>\n",
       "      <td>-0.097061</td>\n",
       "      <td>-0.070708</td>\n",
       "      <td>-0.071074</td>\n",
       "      <td>-0.127233</td>\n",
       "      <td>-0.098804</td>\n",
       "    </tr>\n",
       "    <tr>\n",
       "      <th>1</th>\n",
       "      <td>-0.083239</td>\n",
       "      <td>-0.085562</td>\n",
       "      <td>-0.097061</td>\n",
       "      <td>-0.070708</td>\n",
       "      <td>-0.069316</td>\n",
       "      <td>-0.126152</td>\n",
       "      <td>-0.097228</td>\n",
       "    </tr>\n",
       "    <tr>\n",
       "      <th>2</th>\n",
       "      <td>-0.082641</td>\n",
       "      <td>-0.085562</td>\n",
       "      <td>-0.097061</td>\n",
       "      <td>-0.070708</td>\n",
       "      <td>-0.069316</td>\n",
       "      <td>-0.128314</td>\n",
       "      <td>-0.098016</td>\n",
       "    </tr>\n",
       "  </tbody>\n",
       "</table>\n",
       "</div>"
      ],
      "text/plain": [
       "   Population  Murder and\\nnonnegligent\\nmanslaughter  \\\n",
       "0   -0.084830                               -0.085562   \n",
       "1   -0.083239                               -0.085562   \n",
       "2   -0.082641                               -0.085562   \n",
       "\n",
       "   Rape\\n(legacy\\ndefinition)2   Robbery  Aggravated\\nassault  Burglary  \\\n",
       "0                    -0.097061 -0.070708            -0.071074 -0.127233   \n",
       "1                    -0.097061 -0.070708            -0.069316 -0.126152   \n",
       "2                    -0.097061 -0.070708            -0.069316 -0.128314   \n",
       "\n",
       "   Larceny-\\ntheft  \n",
       "0        -0.098804  \n",
       "1        -0.097228  \n",
       "2        -0.098016  "
      ]
     },
     "execution_count": 43,
     "metadata": {},
     "output_type": "execute_result"
    }
   ],
   "source": [
    "X_motor_theft = data_frame.drop(data_frame.columns[[7]], axis=1)\n",
    "X_motor_theft.head(3)"
   ]
  },
  {
   "cell_type": "code",
   "execution_count": 44,
   "metadata": {
    "collapsed": true
   },
   "outputs": [],
   "source": [
    "model_3 = lr.fit(X_motor_theft, data_frame['Motor\\nvehicle\\ntheft'])"
   ]
  },
  {
   "cell_type": "code",
   "execution_count": 45,
   "metadata": {
    "collapsed": false
   },
   "outputs": [
    {
     "data": {
      "text/plain": [
       "array([ 0.21515177, -0.04896464,  0.09146917,  1.24600988, -0.60197719,\n",
       "        0.3803458 , -0.27741716])"
      ]
     },
     "execution_count": 45,
     "metadata": {},
     "output_type": "execute_result"
    }
   ],
   "source": [
    "model_3.coef_"
   ]
  },
  {
   "cell_type": "code",
   "execution_count": 46,
   "metadata": {
    "collapsed": false
   },
   "outputs": [
    {
     "data": {
      "text/plain": [
       "-2.6834692342633903e-17"
      ]
     },
     "execution_count": 46,
     "metadata": {},
     "output_type": "execute_result"
    }
   ],
   "source": [
    "model_3.intercept_"
   ]
  },
  {
   "cell_type": "markdown",
   "metadata": {},
   "source": [
    "The motor vehicle thieft dependents on population, robbery, aggravated assault, burlagry and larceny theft."
   ]
  },
  {
   "cell_type": "code",
   "execution_count": null,
   "metadata": {
    "collapsed": true
   },
   "outputs": [],
   "source": []
  }
 ],
 "metadata": {
  "kernelspec": {
   "display_name": "Python 3",
   "language": "python",
   "name": "python3"
  },
  "language_info": {
   "codemirror_mode": {
    "name": "ipython",
    "version": 3
   },
   "file_extension": ".py",
   "mimetype": "text/x-python",
   "name": "python",
   "nbconvert_exporter": "python",
   "pygments_lexer": "ipython3",
   "version": "3.6.0"
  }
 },
 "nbformat": 4,
 "nbformat_minor": 2
}
