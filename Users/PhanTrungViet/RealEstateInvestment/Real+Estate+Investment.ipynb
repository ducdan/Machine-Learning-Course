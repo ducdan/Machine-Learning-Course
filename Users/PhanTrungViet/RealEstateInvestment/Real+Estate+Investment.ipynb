{
 "cells": [
  {
   "cell_type": "code",
   "execution_count": 5,
   "metadata": {
    "collapsed": true,
    "deletable": true,
    "editable": true
   },
   "outputs": [],
   "source": [
    "import pandas as pd\n",
    "pd.set_option('display.max_columns', None)"
   ]
  },
  {
   "cell_type": "code",
   "execution_count": 6,
   "metadata": {
    "collapsed": false,
    "deletable": true,
    "editable": true
   },
   "outputs": [],
   "source": [
    "df = pd.read_csv(r'F:\\user_to_1st_time_investor.csv')"
   ]
  },
  {
   "cell_type": "code",
   "execution_count": 7,
   "metadata": {
    "collapsed": false,
    "deletable": true,
    "editable": true
   },
   "outputs": [
    {
     "data": {
      "text/html": [
       "<div>\n",
       "<style>\n",
       "    .dataframe thead tr:only-child th {\n",
       "        text-align: right;\n",
       "    }\n",
       "\n",
       "    .dataframe thead th {\n",
       "        text-align: left;\n",
       "    }\n",
       "\n",
       "    .dataframe tbody tr th {\n",
       "        vertical-align: top;\n",
       "    }\n",
       "</style>\n",
       "<table border=\"1\" class=\"dataframe\">\n",
       "  <thead>\n",
       "    <tr style=\"text-align: right;\">\n",
       "      <th></th>\n",
       "      <th>guid</th>\n",
       "      <th>investor_status</th>\n",
       "      <th>distinct_days_visited_website</th>\n",
       "      <th>distinct_properties_viewed</th>\n",
       "      <th>time_on_properties</th>\n",
       "      <th>interactions_on_property_page</th>\n",
       "      <th>times_marketplace_filter_used</th>\n",
       "      <th>dashboard_interactions</th>\n",
       "      <th>time_on_howitworks</th>\n",
       "      <th>time_on_faqs</th>\n",
       "      <th>time_on_aboutus</th>\n",
       "      <th>time_on_team</th>\n",
       "      <th>time_on_homepage</th>\n",
       "      <th>time_on_marketplace</th>\n",
       "      <th>time_to_sign_up_from_first_visit_days</th>\n",
       "      <th>first_visit_to_first_investment_days</th>\n",
       "    </tr>\n",
       "  </thead>\n",
       "  <tbody>\n",
       "    <tr>\n",
       "      <th>0</th>\n",
       "      <td>prod-549e3913-6a2f-4de8-91e3-10a5713abf19</td>\n",
       "      <td>investor</td>\n",
       "      <td>3</td>\n",
       "      <td>5</td>\n",
       "      <td>1175</td>\n",
       "      <td>17</td>\n",
       "      <td>0</td>\n",
       "      <td>0</td>\n",
       "      <td>68</td>\n",
       "      <td>25</td>\n",
       "      <td>117</td>\n",
       "      <td>0</td>\n",
       "      <td>195</td>\n",
       "      <td>605</td>\n",
       "      <td>0</td>\n",
       "      <td>86</td>\n",
       "    </tr>\n",
       "    <tr>\n",
       "      <th>1</th>\n",
       "      <td>prod-84f4f3d4-623a-4087-8c8c-924f503e40c3</td>\n",
       "      <td>investor</td>\n",
       "      <td>10</td>\n",
       "      <td>14</td>\n",
       "      <td>8738</td>\n",
       "      <td>16</td>\n",
       "      <td>0</td>\n",
       "      <td>0</td>\n",
       "      <td>131</td>\n",
       "      <td>640</td>\n",
       "      <td>0</td>\n",
       "      <td>536</td>\n",
       "      <td>620</td>\n",
       "      <td>3688</td>\n",
       "      <td>0</td>\n",
       "      <td>36</td>\n",
       "    </tr>\n",
       "    <tr>\n",
       "      <th>2</th>\n",
       "      <td>prod-354808e9-6c56-4ecc-acef-8fdac8685cd3</td>\n",
       "      <td>investor</td>\n",
       "      <td>4</td>\n",
       "      <td>7</td>\n",
       "      <td>771</td>\n",
       "      <td>5</td>\n",
       "      <td>0</td>\n",
       "      <td>0</td>\n",
       "      <td>567</td>\n",
       "      <td>0</td>\n",
       "      <td>0</td>\n",
       "      <td>129</td>\n",
       "      <td>93</td>\n",
       "      <td>45</td>\n",
       "      <td>0</td>\n",
       "      <td>29</td>\n",
       "    </tr>\n",
       "    <tr>\n",
       "      <th>3</th>\n",
       "      <td>prod-b03ffe67-d0d8-416a-94d0-5feff6f0430c</td>\n",
       "      <td>investor</td>\n",
       "      <td>5</td>\n",
       "      <td>4</td>\n",
       "      <td>178</td>\n",
       "      <td>2</td>\n",
       "      <td>0</td>\n",
       "      <td>0</td>\n",
       "      <td>202</td>\n",
       "      <td>0</td>\n",
       "      <td>0</td>\n",
       "      <td>0</td>\n",
       "      <td>44</td>\n",
       "      <td>55</td>\n",
       "      <td>0</td>\n",
       "      <td>0</td>\n",
       "    </tr>\n",
       "    <tr>\n",
       "      <th>4</th>\n",
       "      <td>prod-3af51e10-b3d3-4b8e-b89c-2f6b4b8130fb</td>\n",
       "      <td>investor</td>\n",
       "      <td>14</td>\n",
       "      <td>15</td>\n",
       "      <td>6614</td>\n",
       "      <td>40</td>\n",
       "      <td>0</td>\n",
       "      <td>0</td>\n",
       "      <td>46</td>\n",
       "      <td>1327</td>\n",
       "      <td>0</td>\n",
       "      <td>0</td>\n",
       "      <td>224</td>\n",
       "      <td>674</td>\n",
       "      <td>4</td>\n",
       "      <td>4</td>\n",
       "    </tr>\n",
       "  </tbody>\n",
       "</table>\n",
       "</div>"
      ],
      "text/plain": [
       "                                        guid investor_status  \\\n",
       "0  prod-549e3913-6a2f-4de8-91e3-10a5713abf19        investor   \n",
       "1  prod-84f4f3d4-623a-4087-8c8c-924f503e40c3        investor   \n",
       "2  prod-354808e9-6c56-4ecc-acef-8fdac8685cd3        investor   \n",
       "3  prod-b03ffe67-d0d8-416a-94d0-5feff6f0430c        investor   \n",
       "4  prod-3af51e10-b3d3-4b8e-b89c-2f6b4b8130fb        investor   \n",
       "\n",
       "   distinct_days_visited_website  distinct_properties_viewed  \\\n",
       "0                              3                           5   \n",
       "1                             10                          14   \n",
       "2                              4                           7   \n",
       "3                              5                           4   \n",
       "4                             14                          15   \n",
       "\n",
       "   time_on_properties  interactions_on_property_page  \\\n",
       "0                1175                             17   \n",
       "1                8738                             16   \n",
       "2                 771                              5   \n",
       "3                 178                              2   \n",
       "4                6614                             40   \n",
       "\n",
       "   times_marketplace_filter_used  dashboard_interactions  time_on_howitworks  \\\n",
       "0                              0                       0                  68   \n",
       "1                              0                       0                 131   \n",
       "2                              0                       0                 567   \n",
       "3                              0                       0                 202   \n",
       "4                              0                       0                  46   \n",
       "\n",
       "   time_on_faqs  time_on_aboutus  time_on_team  time_on_homepage  \\\n",
       "0            25              117             0               195   \n",
       "1           640                0           536               620   \n",
       "2             0                0           129                93   \n",
       "3             0                0             0                44   \n",
       "4          1327                0             0               224   \n",
       "\n",
       "   time_on_marketplace time_to_sign_up_from_first_visit_days  \\\n",
       "0                  605                                     0   \n",
       "1                 3688                                     0   \n",
       "2                   45                                     0   \n",
       "3                   55                                     0   \n",
       "4                  674                                     4   \n",
       "\n",
       "  first_visit_to_first_investment_days  \n",
       "0                                   86  \n",
       "1                                   36  \n",
       "2                                   29  \n",
       "3                                    0  \n",
       "4                                    4  "
      ]
     },
     "execution_count": 7,
     "metadata": {},
     "output_type": "execute_result"
    }
   ],
   "source": [
    "df.head()"
   ]
  },
  {
   "cell_type": "code",
   "execution_count": 8,
   "metadata": {
    "collapsed": false,
    "deletable": true,
    "editable": true
   },
   "outputs": [
    {
     "data": {
      "text/plain": [
       "Index(['guid', 'investor_status', 'distinct_days_visited_website',\n",
       "       'distinct_properties_viewed', 'time_on_properties',\n",
       "       'interactions_on_property_page', 'times_marketplace_filter_used',\n",
       "       'dashboard_interactions', 'time_on_howitworks', 'time_on_faqs',\n",
       "       'time_on_aboutus', 'time_on_team', 'time_on_homepage',\n",
       "       'time_on_marketplace', 'time_to_sign_up_from_first_visit_days',\n",
       "       'first_visit_to_first_investment_days'],\n",
       "      dtype='object')"
      ]
     },
     "execution_count": 8,
     "metadata": {},
     "output_type": "execute_result"
    }
   ],
   "source": [
    "df.columns"
   ]
  },
  {
   "cell_type": "code",
   "execution_count": 9,
   "metadata": {
    "collapsed": true,
    "deletable": true,
    "editable": true
   },
   "outputs": [],
   "source": [
    "df_drop = df[[\n",
    "'time_on_homepage',\n",
    "'time_on_aboutus',\n",
    "'time_on_howitworks',\n",
    "'distinct_days_visited_website',\n",
    "'investor_status']]"
   ]
  },
  {
   "cell_type": "code",
   "execution_count": 10,
   "metadata": {
    "collapsed": false,
    "deletable": true,
    "editable": true
   },
   "outputs": [
    {
     "data": {
      "text/html": [
       "<div>\n",
       "<style>\n",
       "    .dataframe thead tr:only-child th {\n",
       "        text-align: right;\n",
       "    }\n",
       "\n",
       "    .dataframe thead th {\n",
       "        text-align: left;\n",
       "    }\n",
       "\n",
       "    .dataframe tbody tr th {\n",
       "        vertical-align: top;\n",
       "    }\n",
       "</style>\n",
       "<table border=\"1\" class=\"dataframe\">\n",
       "  <thead>\n",
       "    <tr style=\"text-align: right;\">\n",
       "      <th></th>\n",
       "      <th>time_on_homepage</th>\n",
       "      <th>time_on_aboutus</th>\n",
       "      <th>time_on_howitworks</th>\n",
       "      <th>distinct_days_visited_website</th>\n",
       "      <th>investor_status</th>\n",
       "    </tr>\n",
       "  </thead>\n",
       "  <tbody>\n",
       "    <tr>\n",
       "      <th>0</th>\n",
       "      <td>195</td>\n",
       "      <td>117</td>\n",
       "      <td>68</td>\n",
       "      <td>3</td>\n",
       "      <td>investor</td>\n",
       "    </tr>\n",
       "    <tr>\n",
       "      <th>1</th>\n",
       "      <td>620</td>\n",
       "      <td>0</td>\n",
       "      <td>131</td>\n",
       "      <td>10</td>\n",
       "      <td>investor</td>\n",
       "    </tr>\n",
       "    <tr>\n",
       "      <th>2</th>\n",
       "      <td>93</td>\n",
       "      <td>0</td>\n",
       "      <td>567</td>\n",
       "      <td>4</td>\n",
       "      <td>investor</td>\n",
       "    </tr>\n",
       "    <tr>\n",
       "      <th>3</th>\n",
       "      <td>44</td>\n",
       "      <td>0</td>\n",
       "      <td>202</td>\n",
       "      <td>5</td>\n",
       "      <td>investor</td>\n",
       "    </tr>\n",
       "    <tr>\n",
       "      <th>4</th>\n",
       "      <td>224</td>\n",
       "      <td>0</td>\n",
       "      <td>46</td>\n",
       "      <td>14</td>\n",
       "      <td>investor</td>\n",
       "    </tr>\n",
       "  </tbody>\n",
       "</table>\n",
       "</div>"
      ],
      "text/plain": [
       "   time_on_homepage  time_on_aboutus  time_on_howitworks  \\\n",
       "0               195              117                  68   \n",
       "1               620                0                 131   \n",
       "2                93                0                 567   \n",
       "3                44                0                 202   \n",
       "4               224                0                  46   \n",
       "\n",
       "   distinct_days_visited_website investor_status  \n",
       "0                              3        investor  \n",
       "1                             10        investor  \n",
       "2                              4        investor  \n",
       "3                              5        investor  \n",
       "4                             14        investor  "
      ]
     },
     "execution_count": 10,
     "metadata": {},
     "output_type": "execute_result"
    }
   ],
   "source": [
    "df_drop.head()"
   ]
  },
  {
   "cell_type": "code",
   "execution_count": 11,
   "metadata": {
    "collapsed": false,
    "deletable": true,
    "editable": true
   },
   "outputs": [
    {
     "data": {
      "text/plain": [
       "non-investor    262142\n",
       "investor          1359\n",
       "Name: investor_status, dtype: int64"
      ]
     },
     "execution_count": 11,
     "metadata": {},
     "output_type": "execute_result"
    }
   ],
   "source": [
    "df_drop.investor_status.value_counts()"
   ]
  },
  {
   "cell_type": "code",
   "execution_count": 12,
   "metadata": {
    "collapsed": false,
    "deletable": true,
    "editable": true
   },
   "outputs": [
    {
     "name": "stderr",
     "output_type": "stream",
     "text": [
      "C:\\ProgramData\\Anaconda3\\lib\\site-packages\\ipykernel_launcher.py:1: SettingWithCopyWarning: \n",
      "A value is trying to be set on a copy of a slice from a DataFrame\n",
      "\n",
      "See the caveats in the documentation: http://pandas.pydata.org/pandas-docs/stable/indexing.html#indexing-view-versus-copy\n",
      "  \"\"\"Entry point for launching an IPython kernel.\n",
      "C:\\ProgramData\\Anaconda3\\lib\\site-packages\\pandas\\core\\generic.py:5088: SettingWithCopyWarning: \n",
      "A value is trying to be set on a copy of a slice from a DataFrame\n",
      "\n",
      "See the caveats in the documentation: http://pandas.pydata.org/pandas-docs/stable/indexing.html#indexing-view-versus-copy\n",
      "  self._update_inplace(new_data)\n",
      "C:\\ProgramData\\Anaconda3\\lib\\site-packages\\IPython\\core\\interactiveshell.py:2881: SettingWithCopyWarning: \n",
      "A value is trying to be set on a copy of a slice from a DataFrame\n",
      "\n",
      "See the caveats in the documentation: http://pandas.pydata.org/pandas-docs/stable/indexing.html#indexing-view-versus-copy\n",
      "  exec(code_obj, self.user_global_ns, self.user_ns)\n",
      "C:\\ProgramData\\Anaconda3\\lib\\site-packages\\ipykernel_launcher.py:2: SettingWithCopyWarning: \n",
      "A value is trying to be set on a copy of a slice from a DataFrame\n",
      "\n",
      "See the caveats in the documentation: http://pandas.pydata.org/pandas-docs/stable/indexing.html#indexing-view-versus-copy\n",
      "  \n"
     ]
    }
   ],
   "source": [
    "df_drop.investor_status[df_drop.investor_status == 'non-investor'] = 0\n",
    "df_drop.investor_status[df_drop.investor_status == 'investor'] = 1"
   ]
  },
  {
   "cell_type": "code",
   "execution_count": 13,
   "metadata": {
    "collapsed": false,
    "deletable": true,
    "editable": true
   },
   "outputs": [
    {
     "data": {
      "text/plain": [
       "0    262142\n",
       "1      1359\n",
       "Name: investor_status, dtype: int64"
      ]
     },
     "execution_count": 13,
     "metadata": {},
     "output_type": "execute_result"
    }
   ],
   "source": [
    "df_drop.investor_status.value_counts()"
   ]
  },
  {
   "cell_type": "markdown",
   "metadata": {},
   "source": [
    "#Undersampling\n",
    "#Cause non_investor >> investor\n",
    "#Select number of non_investor == investor"
   ]
  },
  {
   "cell_type": "code",
   "execution_count": 14,
   "metadata": {
    "collapsed": true,
    "deletable": true,
    "editable": true
   },
   "outputs": [],
   "source": [
    "df_non_investor = df_drop[df_drop.investor_status == 0].sample(n=1359, random_state=200)"
   ]
  },
  {
   "cell_type": "code",
   "execution_count": 15,
   "metadata": {
    "collapsed": false,
    "deletable": true,
    "editable": true
   },
   "outputs": [],
   "source": [
    "df_investor = df_drop[df_drop.investor_status == 1]"
   ]
  },
  {
   "cell_type": "code",
   "execution_count": 16,
   "metadata": {
    "collapsed": false,
    "deletable": true,
    "editable": true
   },
   "outputs": [],
   "source": [
    "df_new = pd.concat([df_investor, df_non_investor])"
   ]
  },
  {
   "cell_type": "code",
   "execution_count": 17,
   "metadata": {
    "collapsed": false,
    "deletable": true,
    "editable": true
   },
   "outputs": [
    {
     "data": {
      "text/html": [
       "<div>\n",
       "<style>\n",
       "    .dataframe thead tr:only-child th {\n",
       "        text-align: right;\n",
       "    }\n",
       "\n",
       "    .dataframe thead th {\n",
       "        text-align: left;\n",
       "    }\n",
       "\n",
       "    .dataframe tbody tr th {\n",
       "        vertical-align: top;\n",
       "    }\n",
       "</style>\n",
       "<table border=\"1\" class=\"dataframe\">\n",
       "  <thead>\n",
       "    <tr style=\"text-align: right;\">\n",
       "      <th></th>\n",
       "      <th>time_on_homepage</th>\n",
       "      <th>time_on_aboutus</th>\n",
       "      <th>time_on_howitworks</th>\n",
       "      <th>distinct_days_visited_website</th>\n",
       "    </tr>\n",
       "  </thead>\n",
       "  <tbody>\n",
       "    <tr>\n",
       "      <th>count</th>\n",
       "      <td>2718.000000</td>\n",
       "      <td>2718.000000</td>\n",
       "      <td>2718.000000</td>\n",
       "      <td>2718.000000</td>\n",
       "    </tr>\n",
       "    <tr>\n",
       "      <th>mean</th>\n",
       "      <td>166.564753</td>\n",
       "      <td>5.706034</td>\n",
       "      <td>92.325975</td>\n",
       "      <td>4.965416</td>\n",
       "    </tr>\n",
       "    <tr>\n",
       "      <th>std</th>\n",
       "      <td>474.673879</td>\n",
       "      <td>32.201016</td>\n",
       "      <td>186.221447</td>\n",
       "      <td>9.016297</td>\n",
       "    </tr>\n",
       "    <tr>\n",
       "      <th>min</th>\n",
       "      <td>0.000000</td>\n",
       "      <td>0.000000</td>\n",
       "      <td>0.000000</td>\n",
       "      <td>1.000000</td>\n",
       "    </tr>\n",
       "    <tr>\n",
       "      <th>25%</th>\n",
       "      <td>0.000000</td>\n",
       "      <td>0.000000</td>\n",
       "      <td>0.000000</td>\n",
       "      <td>1.000000</td>\n",
       "    </tr>\n",
       "    <tr>\n",
       "      <th>50%</th>\n",
       "      <td>43.000000</td>\n",
       "      <td>0.000000</td>\n",
       "      <td>0.000000</td>\n",
       "      <td>2.000000</td>\n",
       "    </tr>\n",
       "    <tr>\n",
       "      <th>75%</th>\n",
       "      <td>187.000000</td>\n",
       "      <td>0.000000</td>\n",
       "      <td>115.000000</td>\n",
       "      <td>6.000000</td>\n",
       "    </tr>\n",
       "    <tr>\n",
       "      <th>max</th>\n",
       "      <td>14475.000000</td>\n",
       "      <td>542.000000</td>\n",
       "      <td>3346.000000</td>\n",
       "      <td>263.000000</td>\n",
       "    </tr>\n",
       "  </tbody>\n",
       "</table>\n",
       "</div>"
      ],
      "text/plain": [
       "       time_on_homepage  time_on_aboutus  time_on_howitworks  \\\n",
       "count       2718.000000      2718.000000         2718.000000   \n",
       "mean         166.564753         5.706034           92.325975   \n",
       "std          474.673879        32.201016          186.221447   \n",
       "min            0.000000         0.000000            0.000000   \n",
       "25%            0.000000         0.000000            0.000000   \n",
       "50%           43.000000         0.000000            0.000000   \n",
       "75%          187.000000         0.000000          115.000000   \n",
       "max        14475.000000       542.000000         3346.000000   \n",
       "\n",
       "       distinct_days_visited_website  \n",
       "count                    2718.000000  \n",
       "mean                        4.965416  \n",
       "std                         9.016297  \n",
       "min                         1.000000  \n",
       "25%                         1.000000  \n",
       "50%                         2.000000  \n",
       "75%                         6.000000  \n",
       "max                       263.000000  "
      ]
     },
     "execution_count": 17,
     "metadata": {},
     "output_type": "execute_result"
    }
   ],
   "source": [
    "df_new.describe()"
   ]
  },
  {
   "cell_type": "code",
   "execution_count": 18,
   "metadata": {
    "collapsed": false,
    "deletable": true,
    "editable": true
   },
   "outputs": [
    {
     "data": {
      "text/plain": [
       "Index(['time_on_homepage', 'time_on_aboutus', 'time_on_howitworks',\n",
       "       'distinct_days_visited_website', 'investor_status'],\n",
       "      dtype='object')"
      ]
     },
     "execution_count": 18,
     "metadata": {},
     "output_type": "execute_result"
    }
   ],
   "source": [
    "df_new.columns"
   ]
  },
  {
   "cell_type": "markdown",
   "metadata": {},
   "source": [
    "#RandomForestClassifier"
   ]
  },
  {
   "cell_type": "code",
   "execution_count": 19,
   "metadata": {
    "collapsed": true,
    "deletable": true,
    "editable": true
   },
   "outputs": [],
   "source": [
    "from sklearn.ensemble import RandomForestClassifier\n",
    "from sklearn.datasets import make_classification"
   ]
  },
  {
   "cell_type": "code",
   "execution_count": 20,
   "metadata": {
    "collapsed": true,
    "deletable": true,
    "editable": true
   },
   "outputs": [],
   "source": [
    "train=df_new.sample(frac=0.8,random_state=200)\n",
    "test=df_new.drop(train.index)"
   ]
  },
  {
   "cell_type": "code",
   "execution_count": 21,
   "metadata": {
    "collapsed": false,
    "deletable": true,
    "editable": true
   },
   "outputs": [
    {
     "data": {
      "text/plain": [
       "RandomForestClassifier(bootstrap=True, class_weight=None, criterion='gini',\n",
       "            max_depth=None, max_features='auto', max_leaf_nodes=None,\n",
       "            min_impurity_split=1e-07, min_samples_leaf=1,\n",
       "            min_samples_split=2, min_weight_fraction_leaf=0.0,\n",
       "            n_estimators=10, n_jobs=1, oob_score=False, random_state=None,\n",
       "            verbose=0, warm_start=False)"
      ]
     },
     "execution_count": 21,
     "metadata": {},
     "output_type": "execute_result"
    }
   ],
   "source": [
    "clf = RandomForestClassifier()\n",
    "clf.fit(train.drop('investor_status', axis=1), list(train.investor_status.values))"
   ]
  },
  {
   "cell_type": "code",
   "execution_count": 22,
   "metadata": {
    "collapsed": false,
    "deletable": true,
    "editable": true
   },
   "outputs": [],
   "source": [
    "predicted = clf.predict(test.drop('investor_status', axis=1))"
   ]
  },
  {
   "cell_type": "code",
   "execution_count": 23,
   "metadata": {
    "collapsed": false,
    "deletable": true,
    "editable": true
   },
   "outputs": [
    {
     "name": "stdout",
     "output_type": "stream",
     "text": [
      "[ 0.4248449   0.00778326  0.07315255  0.49421929]\n"
     ]
    }
   ],
   "source": [
    "print(clf.feature_importances_)"
   ]
  },
  {
   "cell_type": "code",
   "execution_count": 24,
   "metadata": {
    "collapsed": false,
    "deletable": true,
    "editable": true
   },
   "outputs": [
    {
     "data": {
      "text/plain": [
       "Index(['time_on_homepage', 'time_on_aboutus', 'time_on_howitworks',\n",
       "       'distinct_days_visited_website', 'investor_status'],\n",
       "      dtype='object')"
      ]
     },
     "execution_count": 24,
     "metadata": {},
     "output_type": "execute_result"
    }
   ],
   "source": [
    "df_new.columns"
   ]
  },
  {
   "cell_type": "code",
   "execution_count": 25,
   "metadata": {
    "collapsed": false,
    "deletable": true,
    "editable": true
   },
   "outputs": [],
   "source": [
    "from sklearn import metrics"
   ]
  },
  {
   "cell_type": "code",
   "execution_count": 26,
   "metadata": {
    "collapsed": false,
    "deletable": true,
    "editable": true
   },
   "outputs": [
    {
     "name": "stdout",
     "output_type": "stream",
     "text": [
      "             precision    recall  f1-score   support\n",
      "\n",
      "          0       0.93      0.94      0.93       275\n",
      "          1       0.94      0.93      0.93       269\n",
      "\n",
      "avg / total       0.93      0.93      0.93       544\n",
      "\n"
     ]
    }
   ],
   "source": [
    "print(metrics.classification_report(list(test.investor_status.values), predicted))"
   ]
  },
  {
   "cell_type": "markdown",
   "metadata": {},
   "source": [
    "#Data is not undersampling df2"
   ]
  },
  {
   "cell_type": "code",
   "execution_count": 27,
   "metadata": {
    "collapsed": false,
    "deletable": true,
    "editable": true
   },
   "outputs": [],
   "source": [
    "df2 = df[['time_on_homepage', 'time_on_aboutus', 'time_on_howitworks',\n",
    "       'distinct_days_visited_website','investor_status']]"
   ]
  },
  {
   "cell_type": "code",
   "execution_count": 28,
   "metadata": {
    "collapsed": false,
    "deletable": true,
    "editable": true
   },
   "outputs": [
    {
     "name": "stderr",
     "output_type": "stream",
     "text": [
      "C:\\ProgramData\\Anaconda3\\lib\\site-packages\\ipykernel_launcher.py:1: SettingWithCopyWarning: \n",
      "A value is trying to be set on a copy of a slice from a DataFrame\n",
      "\n",
      "See the caveats in the documentation: http://pandas.pydata.org/pandas-docs/stable/indexing.html#indexing-view-versus-copy\n",
      "  \"\"\"Entry point for launching an IPython kernel.\n",
      "C:\\ProgramData\\Anaconda3\\lib\\site-packages\\pandas\\core\\generic.py:5088: SettingWithCopyWarning: \n",
      "A value is trying to be set on a copy of a slice from a DataFrame\n",
      "\n",
      "See the caveats in the documentation: http://pandas.pydata.org/pandas-docs/stable/indexing.html#indexing-view-versus-copy\n",
      "  self._update_inplace(new_data)\n",
      "C:\\ProgramData\\Anaconda3\\lib\\site-packages\\IPython\\core\\interactiveshell.py:2881: SettingWithCopyWarning: \n",
      "A value is trying to be set on a copy of a slice from a DataFrame\n",
      "\n",
      "See the caveats in the documentation: http://pandas.pydata.org/pandas-docs/stable/indexing.html#indexing-view-versus-copy\n",
      "  exec(code_obj, self.user_global_ns, self.user_ns)\n",
      "C:\\ProgramData\\Anaconda3\\lib\\site-packages\\ipykernel_launcher.py:2: SettingWithCopyWarning: \n",
      "A value is trying to be set on a copy of a slice from a DataFrame\n",
      "\n",
      "See the caveats in the documentation: http://pandas.pydata.org/pandas-docs/stable/indexing.html#indexing-view-versus-copy\n",
      "  \n"
     ]
    }
   ],
   "source": [
    "df2.investor_status[df2.investor_status == 'non-investor'] = 0\n",
    "df2.investor_status[df2.investor_status == 'investor'] = 1"
   ]
  },
  {
   "cell_type": "code",
   "execution_count": 29,
   "metadata": {
    "collapsed": false,
    "deletable": true,
    "editable": true
   },
   "outputs": [],
   "source": [
    "predicted_new = clf.predict(df2.drop('investor_status', axis=1))"
   ]
  },
  {
   "cell_type": "code",
   "execution_count": 30,
   "metadata": {
    "collapsed": false,
    "deletable": true,
    "editable": true
   },
   "outputs": [
    {
     "name": "stdout",
     "output_type": "stream",
     "text": [
      "             precision    recall  f1-score   support\n",
      "\n",
      "          0       1.00      0.92      0.96    262142\n",
      "          1       0.06      0.97      0.12      1359\n",
      "\n",
      "avg / total       0.99      0.92      0.96    263501\n",
      "\n"
     ]
    }
   ],
   "source": [
    "print(metrics.classification_report(list(df2.investor_status.values), predicted_new))"
   ]
  },
  {
   "cell_type": "markdown",
   "metadata": {},
   "source": [
    "#PCA reduce the dimension"
   ]
  },
  {
   "cell_type": "code",
   "execution_count": 31,
   "metadata": {
    "collapsed": true,
    "deletable": true,
    "editable": true
   },
   "outputs": [],
   "source": [
    "from sklearn.preprocessing import StandardScaler\n",
    "from sklearn.decomposition import PCA\n",
    "from sklearn import datasets"
   ]
  },
  {
   "cell_type": "code",
   "execution_count": 32,
   "metadata": {
    "collapsed": false,
    "deletable": true,
    "editable": true
   },
   "outputs": [],
   "source": [
    "pca = PCA(n_components=0.99, whiten=True)"
   ]
  },
  {
   "cell_type": "code",
   "execution_count": 33,
   "metadata": {
    "collapsed": false,
    "deletable": true,
    "editable": true
   },
   "outputs": [],
   "source": [
    "X_pca = pca.fit_transform(df_new)"
   ]
  },
  {
   "cell_type": "code",
   "execution_count": 34,
   "metadata": {
    "collapsed": false,
    "deletable": true,
    "editable": true
   },
   "outputs": [
    {
     "name": "stdout",
     "output_type": "stream",
     "text": [
      "5\n",
      "2\n"
     ]
    }
   ],
   "source": [
    "print(df_new.shape[1])\n",
    "print(X_pca.shape[1])"
   ]
  },
  {
   "cell_type": "markdown",
   "metadata": {
    "collapsed": true,
    "deletable": true,
    "editable": true
   },
   "source": [
    "#advice: use knn"
   ]
  }
 ],
 "metadata": {
  "kernelspec": {
   "display_name": "Python 3",
   "language": "python",
   "name": "python3"
  },
  "language_info": {
   "codemirror_mode": {
    "name": "ipython",
    "version": 3
   },
   "file_extension": ".py",
   "mimetype": "text/x-python",
   "name": "python",
   "nbconvert_exporter": "python",
   "pygments_lexer": "ipython3",
   "version": "3.6.1"
  }
 },
 "nbformat": 4,
 "nbformat_minor": 2
}
