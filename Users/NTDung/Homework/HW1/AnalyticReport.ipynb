{
 "cells": [
  {
   "cell_type": "markdown",
   "metadata": {},
   "source": [
    "## Analytic Report project"
   ]
  },
  {
   "cell_type": "markdown",
   "metadata": {},
   "source": [
    "### Import"
   ]
  },
  {
   "cell_type": "code",
   "execution_count": 24,
   "metadata": {
    "collapsed": false
   },
   "outputs": [],
   "source": [
    "import pandas as pd\n",
    "import scipy as scipy\n",
    "from scipy.stats import ttest_ind\n",
    "import matplotlib.pyplot as plt"
   ]
  },
  {
   "cell_type": "markdown",
   "metadata": {},
   "source": [
    "## Load Data"
   ]
  },
  {
   "cell_type": "code",
   "execution_count": 25,
   "metadata": {
    "collapsed": false
   },
   "outputs": [
    {
     "data": {
      "text/html": [
       "<div>\n",
       "<table border=\"1\" class=\"dataframe\">\n",
       "  <thead>\n",
       "    <tr style=\"text-align: right;\">\n",
       "      <th></th>\n",
       "      <th>age</th>\n",
       "      <th>sex</th>\n",
       "      <th>chest pain type</th>\n",
       "      <th>blood pressure</th>\n",
       "      <th>cholesterol</th>\n",
       "      <th>Fasting blood sugar &lt;120</th>\n",
       "      <th>resting ecg</th>\n",
       "      <th>maximum heart rate</th>\n",
       "      <th>angina</th>\n",
       "      <th>peak</th>\n",
       "      <th>slope</th>\n",
       "      <th>#colored vessels</th>\n",
       "      <th>thal</th>\n",
       "      <th>class</th>\n",
       "    </tr>\n",
       "  </thead>\n",
       "  <tbody>\n",
       "    <tr>\n",
       "      <th>0</th>\n",
       "      <td>60</td>\n",
       "      <td>1</td>\n",
       "      <td>4</td>\n",
       "      <td>130</td>\n",
       "      <td>206</td>\n",
       "      <td>0</td>\n",
       "      <td>2</td>\n",
       "      <td>132</td>\n",
       "      <td>1</td>\n",
       "      <td>2.4</td>\n",
       "      <td>2</td>\n",
       "      <td>2</td>\n",
       "      <td>7</td>\n",
       "      <td>0</td>\n",
       "    </tr>\n",
       "    <tr>\n",
       "      <th>1</th>\n",
       "      <td>49</td>\n",
       "      <td>1</td>\n",
       "      <td>2</td>\n",
       "      <td>130</td>\n",
       "      <td>266</td>\n",
       "      <td>0</td>\n",
       "      <td>0</td>\n",
       "      <td>171</td>\n",
       "      <td>0</td>\n",
       "      <td>0.6</td>\n",
       "      <td>1</td>\n",
       "      <td>0</td>\n",
       "      <td>3</td>\n",
       "      <td>1</td>\n",
       "    </tr>\n",
       "    <tr>\n",
       "      <th>2</th>\n",
       "      <td>64</td>\n",
       "      <td>1</td>\n",
       "      <td>1</td>\n",
       "      <td>110</td>\n",
       "      <td>211</td>\n",
       "      <td>0</td>\n",
       "      <td>2</td>\n",
       "      <td>144</td>\n",
       "      <td>1</td>\n",
       "      <td>1.8</td>\n",
       "      <td>2</td>\n",
       "      <td>0</td>\n",
       "      <td>3</td>\n",
       "      <td>1</td>\n",
       "    </tr>\n",
       "    <tr>\n",
       "      <th>3</th>\n",
       "      <td>63</td>\n",
       "      <td>1</td>\n",
       "      <td>4</td>\n",
       "      <td>130</td>\n",
       "      <td>254</td>\n",
       "      <td>0</td>\n",
       "      <td>2</td>\n",
       "      <td>147</td>\n",
       "      <td>0</td>\n",
       "      <td>1.4</td>\n",
       "      <td>2</td>\n",
       "      <td>1</td>\n",
       "      <td>7</td>\n",
       "      <td>0</td>\n",
       "    </tr>\n",
       "    <tr>\n",
       "      <th>4</th>\n",
       "      <td>53</td>\n",
       "      <td>1</td>\n",
       "      <td>4</td>\n",
       "      <td>140</td>\n",
       "      <td>203</td>\n",
       "      <td>1</td>\n",
       "      <td>2</td>\n",
       "      <td>155</td>\n",
       "      <td>1</td>\n",
       "      <td>3.1</td>\n",
       "      <td>3</td>\n",
       "      <td>0</td>\n",
       "      <td>7</td>\n",
       "      <td>0</td>\n",
       "    </tr>\n",
       "  </tbody>\n",
       "</table>\n",
       "</div>"
      ],
      "text/plain": [
       "   age  sex  chest pain type  blood pressure  cholesterol  \\\n",
       "0   60    1                4             130          206   \n",
       "1   49    1                2             130          266   \n",
       "2   64    1                1             110          211   \n",
       "3   63    1                4             130          254   \n",
       "4   53    1                4             140          203   \n",
       "\n",
       "   Fasting blood sugar <120  resting ecg  maximum heart rate  angina  peak  \\\n",
       "0                         0            2                 132       1   2.4   \n",
       "1                         0            0                 171       0   0.6   \n",
       "2                         0            2                 144       1   1.8   \n",
       "3                         0            2                 147       0   1.4   \n",
       "4                         1            2                 155       1   3.1   \n",
       "\n",
       "   slope  #colored vessels  thal  class  \n",
       "0      2                 2     7      0  \n",
       "1      1                 0     3      1  \n",
       "2      2                 0     3      1  \n",
       "3      2                 1     7      0  \n",
       "4      3                 0     7      0  "
      ]
     },
     "execution_count": 25,
     "metadata": {},
     "output_type": "execute_result"
    }
   ],
   "source": [
    "df = pd.read_excel(\"Cardiology.xls\", skiprows=[1, 2])\n",
    "df.head()"
   ]
  },
  {
   "cell_type": "code",
   "execution_count": 26,
   "metadata": {
    "collapsed": false
   },
   "outputs": [
    {
     "data": {
      "text/plain": [
       "(303, 14)"
      ]
     },
     "execution_count": 26,
     "metadata": {},
     "output_type": "execute_result"
    }
   ],
   "source": [
    "df.shape"
   ]
  },
  {
   "cell_type": "code",
   "execution_count": 27,
   "metadata": {
    "collapsed": false
   },
   "outputs": [],
   "source": [
    "#df.describe()"
   ]
  },
  {
   "cell_type": "markdown",
   "metadata": {},
   "source": [
    "## 1.\tHow does blood pressure and cholesterol relate to each other?"
   ]
  },
  {
   "cell_type": "code",
   "execution_count": 28,
   "metadata": {
    "collapsed": false
   },
   "outputs": [
    {
     "name": "stdout",
     "output_type": "stream",
     "text": [
      "Mức độ kiểm định tương quan giữa blood pressure và cholesterol: 0.1231742\n"
     ]
    }
   ],
   "source": [
    "print(\"Mức độ kiểm định tương quan giữa blood pressure và cholesterol: %.7f\" %(df[\"blood pressure\"].corr(df[\"cholesterol\"])))"
   ]
  },
  {
   "cell_type": "markdown",
   "metadata": {},
   "source": [
    "** Nhận xét: **    \n",
    "\n",
    "Hệ số kiểm định tương quan giữa hai cột xấp xỉ 0.123.\n",
    "\n",
    "Do đó ta kết luận blood pressure và cholesterol mức độ tương quan thấp."
   ]
  },
  {
   "cell_type": "code",
   "execution_count": 29,
   "metadata": {
    "collapsed": false
   },
   "outputs": [
    {
     "data": {
      "image/png": "[encoded data removed]",
      "text/plain": [
       "<matplotlib.figure.Figure at 0xde36385160>"
      ]
     },
     "metadata": {},
     "output_type": "display_data"
    }
   ],
   "source": [
    "a = df[\"blood pressure\"]\n",
    "b = df[\"cholesterol\"]\n",
    "\n",
    "plt.plot(a, \"red\")\n",
    "plt.plot(b, \"blue\")\n",
    "plt.show()"
   ]
  },
  {
   "cell_type": "markdown",
   "metadata": {},
   "source": [
    "## 2.\tDo men tend to have higher blood pressure than women? What about cholesterol?"
   ]
  },
  {
   "cell_type": "markdown",
   "metadata": {},
   "source": [
    "### 2.1 Blood pressure:\n",
    "* ***Null hypothesis:***  Men don't tend to have higher blood pressure than women.\n",
    "* ***Alternative hypothesis:*** Men tend to have higher blood pressure than women."
   ]
  },
  {
   "cell_type": "code",
   "execution_count": 30,
   "metadata": {
    "collapsed": false
   },
   "outputs": [
    {
     "data": {
      "text/plain": [
       "Ttest_indResult(statistic=-0.98649315362083601, pvalue=0.3246834797221041)"
      ]
     },
     "execution_count": 30,
     "metadata": {},
     "output_type": "execute_result"
    }
   ],
   "source": [
    "male = df[df['sex']== 1]     # Null hypothesis\n",
    "female = df[df['sex']== 0]   # Alternative hypothesis\n",
    "\n",
    "ttest_ind(male['blood pressure'], female['blood pressure'])"
   ]
  },
  {
   "cell_type": "markdown",
   "metadata": {},
   "source": [
    "**p-value **$\\approx  0.325 > 0.10$.Non-significant evidence against null hypothesis.\n",
    "\n",
    "**Conclusion: And so, Can't determine that Men tend to have higher blood pressure than women.**"
   ]
  },
  {
   "cell_type": "code",
   "execution_count": 31,
   "metadata": {
    "collapsed": false
   },
   "outputs": [
    {
     "data": {
      "image/png": "[encoded data removed]",
      "text/plain": [
       "<matplotlib.figure.Figure at 0xde36423630>"
      ]
     },
     "metadata": {},
     "output_type": "display_data"
    }
   ],
   "source": [
    "male = df[df['sex']== 1]\n",
    "female = df[df['sex']== 0]\n",
    "\n",
    "plt.plot(male[\"blood pressure\"], \"red\")\n",
    "plt.plot(female[\"blood pressure\"], \"blue\")\n",
    "plt.show()"
   ]
  },
  {
   "cell_type": "markdown",
   "metadata": {},
   "source": [
    "### 2.2 Cholesterol:\n",
    "* ***Null hypothesis:*** Men don't tend to have higher cholesterol than women.\n",
    "* ***Alternative hypothesis:*** Men tend to have higher cholesterol than women."
   ]
  },
  {
   "cell_type": "code",
   "execution_count": 32,
   "metadata": {
    "collapsed": false
   },
   "outputs": [
    {
     "data": {
      "text/plain": [
       "Ttest_indResult(statistic=-3.5029368327219244, pvalue=0.00052996661062266396)"
      ]
     },
     "execution_count": 32,
     "metadata": {},
     "output_type": "execute_result"
    }
   ],
   "source": [
    "female = df[df['sex']== 0]   # Null hypothesis\n",
    "male = df[df['sex']== 1]     # Alternative hypothesis\n",
    "\n",
    "\n",
    "ttest_ind(male['cholesterol'], female['cholesterol'])"
   ]
  },
  {
   "cell_type": "markdown",
   "metadata": {},
   "source": [
    "**p-value **$\\approx  0.0005 < 0.01 \\ \\ \\ \\Rightarrow $ highly significant evidence against null-hypothesis. \n",
    "\n",
    "**Conclusion: Men tend to have higher cholesterol than women.**"
   ]
  },
  {
   "cell_type": "code",
   "execution_count": 33,
   "metadata": {
    "collapsed": false,
    "scrolled": true
   },
   "outputs": [
    {
     "data": {
      "image/png": "[encoded data removed]",
      "text/plain": [
       "<matplotlib.figure.Figure at 0xde3577d630>"
      ]
     },
     "metadata": {},
     "output_type": "display_data"
    }
   ],
   "source": [
    "male = df[df['sex']== 1]\n",
    "female = df[df['sex']== 0]\n",
    "\n",
    "plt.plot(male[\"cholesterol\"], \"red\")\n",
    "plt.plot(female[\"cholesterol\"], \"blue\")\n",
    "plt.show()"
   ]
  },
  {
   "cell_type": "markdown",
   "metadata": {},
   "source": [
    "## 3.\tWhat contribute to causing heart disease (age, cholesterol, blood pressure)?  Is it the effect the same for both sex (male and female)?"
   ]
  },
  {
   "cell_type": "markdown",
   "metadata": {},
   "source": [
    "### 3.1 Age cause heart disease?\n",
    "\n",
    "* **Null hypothesis: ** Age doesn't cause heart disease.\n",
    "* **Alternative hypothesis: ** Age causes heart disease."
   ]
  },
  {
   "cell_type": "code",
   "execution_count": 34,
   "metadata": {
    "collapsed": false,
    "scrolled": true
   },
   "outputs": [
    {
     "data": {
      "text/plain": [
       "Ttest_indResult(statistic=4.014560975148874, pvalue=7.5248013034423728e-05)"
      ]
     },
     "execution_count": 34,
     "metadata": {},
     "output_type": "execute_result"
    }
   ],
   "source": [
    "non_heart_disease = df['age'][df['class']== 0]   # Null hypothesis\n",
    "heart_disease = df['age'][df['class']== 1]       # Alternative hypothesis\n",
    "\n",
    "ttest_ind(non_heart_disease, heart_disease)"
   ]
  },
  {
   "cell_type": "markdown",
   "metadata": {},
   "source": [
    "**Remark: **  $pvalue \\approx 0.000007525 < 0.10  \\Rightarrow \\ \\ \\ $ Highly significant evidence against null hypothesis.\n",
    "\n",
    "**Conclusion:  Age cause heart disease. **"
   ]
  },
  {
   "cell_type": "markdown",
   "metadata": {},
   "source": [
    "### Compare the effect the same for male and female\n",
    "\n",
    "* ***For male:*** \n",
    "    * ***Null hypothesis:*** Age don't cause heart disease for male.\n",
    "    * ***Alternative hypothesis:*** Age causes heart disease for male.\n",
    "    \n",
    "* ***For female:*** \n",
    "    * ***Null hypothesis:*** Age don't cause heart disease for female.\n",
    "    * ***Alternative hypothesis:*** Age causes heart disease for female."
   ]
  },
  {
   "cell_type": "code",
   "execution_count": 35,
   "metadata": {
    "collapsed": false,
    "scrolled": true
   },
   "outputs": [
    {
     "name": "stdout",
     "output_type": "stream",
     "text": [
      "For male, age cause heart disease?\n",
      "      p-value = 0.0000210\n",
      "For female, age cause heart disease?\n",
      "      p-value = 0.0424696\n"
     ]
    }
   ],
   "source": [
    "# For male:\n",
    "male_non_heart_disease = df['age'][df['sex']==1][df['class']== 0]   # Null hypothesis\n",
    "male_heart_disease = df['age'][df['sex']==1][df['class']== 1]       # Alternative hypothesis\n",
    "\n",
    "stat, p_value = ttest_ind(male_heart_disease, male_non_heart_disease)\n",
    "print(\"For male, age cause heart disease?\")\n",
    "print('      p-value = %.7f' %(p_value))\n",
    "\n",
    "# For female:\n",
    "female_non_heart_disease = df['age'][df['sex']==0][df['class']== 0]   # Null hypothesis\n",
    "female_heart_disease = df['age'][df['sex']==0][df['class']== 1]       # Alternative hypothesis\n",
    "\n",
    "stat, p_value = ttest_ind(female_heart_disease, female_non_heart_disease)\n",
    "print(\"For female, age cause heart disease?\")\n",
    "print('      p-value = %.7f' %(p_value))"
   ]
  },
  {
   "cell_type": "markdown",
   "metadata": {},
   "source": [
    "**Remark: ** \n",
    "\n",
    "* For male, ${pvalue}_{ male} \\approx 0.0000210 \\ \\ \\ < 0.01 \\ \\ \\ \\Rightarrow$. Highly significant evidence against null hypothesis. \n",
    "* For female, ${pvalue}_{ female} \\approx 0.0424696  \\ \\ \\ (0.01 < {pvalue}_{ female} \\le 0.05)$. Significant evidence against null hypothesis. \n",
    "\n",
    "**Conclusion: ** And so, Age causes heart disease for both male and female."
   ]
  },
  {
   "cell_type": "markdown",
   "metadata": {},
   "source": [
    "### 3.2 Cholesterol cause heart disease?\n",
    "\n",
    "* **Null hypothesis: ** Cholesterol don't cause heart disease.\n",
    "* **Alternative hypothesis: ** Cholesterol cause heart disease."
   ]
  },
  {
   "cell_type": "code",
   "execution_count": 36,
   "metadata": {
    "collapsed": false
   },
   "outputs": [
    {
     "data": {
      "text/plain": [
       "Ttest_indResult(statistic=-1.4842450762526977, pvalue=0.13879032695600638)"
      ]
     },
     "execution_count": 36,
     "metadata": {},
     "output_type": "execute_result"
    }
   ],
   "source": [
    "non_heart_disease = df['cholesterol'][df['class']== 0]  # Null hypothesis\n",
    "heart_disease = df['cholesterol'][df['class']== 1]      # Alternative hypothesis\n",
    "\n",
    "ttest_ind(heart_disease, non_heart_disease)"
   ]
  },
  {
   "cell_type": "markdown",
   "metadata": {},
   "source": [
    "$pvalue \\approx 0.14 > 0.10  \\Rightarrow \\ \\ \\ $ Non-significant evidence against null hypothesis.\n",
    "\n",
    "**Conclusion: ** Non-significant evidence to conclude that Cholesterol cause heart disease."
   ]
  },
  {
   "cell_type": "markdown",
   "metadata": {},
   "source": [
    "### Compare the effect the same for male and female\n",
    "\n",
    "* ***For male:*** \n",
    "    * ***Null hypothesis:*** Cholesterol  don't cause heart disease for male.\n",
    "    * ***Alternative hypothesis:*** Cholesterol causes heart disease for male.\n",
    "    \n",
    "* ***For female:*** \n",
    "    * ***Null hypothesis:*** Cholesterol  don't cause heart disease for female.\n",
    "    * ***Alternative hypothesis:*** Cholesterol causes heart disease for female."
   ]
  },
  {
   "cell_type": "code",
   "execution_count": 37,
   "metadata": {
    "collapsed": false,
    "scrolled": true
   },
   "outputs": [
    {
     "name": "stdout",
     "output_type": "stream",
     "text": [
      "For male, cholesterol cause heart disease?\n",
      "      p-value = 0.0113481\n",
      "For female, cholesterol cause heart disease?\n",
      "      p-value = 0.2372595\n"
     ]
    }
   ],
   "source": [
    "# For male:\n",
    "male_non_heart_disease = df['cholesterol'][df['sex']==1][df['class']== 0]       # Null hypothesis\n",
    "male_heart_disease = df['cholesterol'][df['sex']==1][df['class']== 1]   # Alternative hypothesis\n",
    "\n",
    "stat, p_value = ttest_ind(male_heart_disease, male_non_heart_disease)\n",
    "print(\"For male, cholesterol cause heart disease?\")\n",
    "print('      p-value = %.7f' %(p_value))\n",
    "\n",
    "# For female:\n",
    "female_non_heart_disease = df['cholesterol'][df['sex']==0][df['class']== 0]       # Null hypothesis\n",
    "female_heart_disease = df['cholesterol'][df['sex']==0][df['class']== 1]   # Alternative hypothesis\n",
    "\n",
    "stat, p_value = ttest_ind(female_heart_disease, female_non_heart_disease)\n",
    "print(\"For female, cholesterol cause heart disease?\")\n",
    "print('      p-value = %.7f' %(p_value))"
   ]
  },
  {
   "cell_type": "markdown",
   "metadata": {},
   "source": [
    "**Remark: ** \n",
    "\n",
    "* For male, ${pvalue}_{ male} \\approx 0.0113 \\ \\ \\ \\ (0.01 < {pvalue}_{ male} \\le 0.05) \\ \\ \\ \\Rightarrow$. Significant evidence against null hypothesis.\n",
    "* For female, ${pvalue}_{ female} \\approx 0.2373  > 0.10$. Non-significant evidence against null hypothesis.\n",
    "\n",
    "**Conclusion: ** And so Cholesterol causes heart disease for male but not female."
   ]
  },
  {
   "cell_type": "markdown",
   "metadata": {},
   "source": [
    "### 3.3 Blood pressure cause heart disease?\n",
    "\n",
    "* **Null hypothesis: **  Blood pressure don't cause heart disease.\n",
    "* **Alternative hypothesis: **  Blood pressure cause heart disease."
   ]
  },
  {
   "cell_type": "code",
   "execution_count": 38,
   "metadata": {
    "collapsed": false
   },
   "outputs": [
    {
     "data": {
      "text/plain": [
       "Ttest_indResult(statistic=-2.5412927171039001, pvalue=0.011546059200233312)"
      ]
     },
     "execution_count": 38,
     "metadata": {},
     "output_type": "execute_result"
    }
   ],
   "source": [
    "non_heart_disease = df['blood pressure'][df['class']== 0]         # Null hypothesis\n",
    "heart_disease = df['blood pressure'][df['class']== 1]     # Alternative hypothesis\n",
    "\n",
    "ttest_ind(heart_disease, non_heart_disease)"
   ]
  },
  {
   "cell_type": "markdown",
   "metadata": {},
   "source": [
    "$pvalue \\approx 0.0115  \\ \\ \\ (0.01 < pvalue < 0.05) \\Rightarrow \\ \\ \\ $ Significant evidence against null hypothesis.\n",
    "\n",
    "**Conclusion:  Blood pressure cause heart disease.**"
   ]
  },
  {
   "cell_type": "markdown",
   "metadata": {},
   "source": [
    "### Compare the effect the same for male and female\n",
    "\n",
    "* ***For male:*** \n",
    "    * ***Null hypothesis:*** Blood pressure  don't cause heart disease for male.\n",
    "    * ***Alternative hypothesis:*** Blood pressure causes heart disease for male.\n",
    "    \n",
    "* ***For female:*** \n",
    "    * ***Null hypothesis:*** Blood pressure  don't cause heart disease for female.\n",
    "    * ***Alternative hypothesis:*** Blood pressure causes heart disease for female."
   ]
  },
  {
   "cell_type": "code",
   "execution_count": 39,
   "metadata": {
    "collapsed": false
   },
   "outputs": [
    {
     "name": "stdout",
     "output_type": "stream",
     "text": [
      "For male, blood pressure cause heart disease?\n",
      "      p-value = 0.3484860\n",
      "For female, blood pressure cause heart disease?\n",
      "      p-value = 0.0000784\n"
     ]
    }
   ],
   "source": [
    "# For male:\n",
    "male_non_heart_disease = df['blood pressure'][df['sex']==1][df['class']== 0]       # Null hypothesis\n",
    "male_heart_disease = df['blood pressure'][df['sex']==1][df['class']== 1]   # Alternative hypothesis\n",
    "\n",
    "stat, p_value = ttest_ind(male_heart_disease, male_non_heart_disease)\n",
    "print(\"For male, blood pressure cause heart disease?\")\n",
    "print('      p-value = %.7f' %(p_value))\n",
    "\n",
    "# For female:\n",
    "female_non_heart_disease = df['blood pressure'][df['sex']==0][df['class']== 0]       # Null hypothesis\n",
    "female_heart_disease = df['blood pressure'][df['sex']==0][df['class']== 1]   # Alternative hypothesis\n",
    "\n",
    "stat, p_value = ttest_ind(female_heart_disease, female_non_heart_disease)\n",
    "print(\"For female, blood pressure cause heart disease?\")\n",
    "print('      p-value = %.7f' %(p_value))"
   ]
  },
  {
   "cell_type": "markdown",
   "metadata": {},
   "source": [
    "**Remark: ** \n",
    "\n",
    "* For male, ${pvalue}_{ male} \\approx 0.3484860 > 0.10 \\ \\ \\ $. Non-significant evidence against null hypothesis.\n",
    "* For female, ${pvalue}_{ female} \\approx 0.0000784  < 0.01  \\ \\ \\ $. High significant evidence against null hypothesis\n",
    "\n",
    "**Conclusion: ** Finally, Blood pressure causes heart disease for female but not male."
   ]
  },
  {
   "cell_type": "markdown",
   "metadata": {},
   "source": [
    "## Conclusion"
   ]
  },
  {
   "cell_type": "markdown",
   "metadata": {},
   "source": [
    "1. Do đó ta kết luận blood pressure và cholesterol mức độ tương quan thấp.\n",
    "\n",
    "2. Men tend to have higher cholesterol than women.\n",
    "\n",
    "   Can't determine that Men tend to have higher blood pressure than women.\n",
    "   \n",
    "3. Age cause heart disease both male and female.\n",
    "\n",
    "   Cholesterol causes heart disease for male but not female.\n",
    "   \n",
    "   Blood pressure causes heart disease for female but not male."
   ]
  }
 ],
 "metadata": {
  "kernelspec": {
   "display_name": "Python 3",
   "language": "python",
   "name": "python3"
  },
  "language_info": {
   "codemirror_mode": {
    "name": "ipython",
    "version": 3
   },
   "file_extension": ".py",
   "mimetype": "text/x-python",
   "name": "python",
   "nbconvert_exporter": "python",
   "pygments_lexer": "ipython3",
   "version": "3.6.0"
  }
 },
 "nbformat": 4,
 "nbformat_minor": 2
}
