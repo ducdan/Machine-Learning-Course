{
 "cells": [
  {
   "cell_type": "markdown",
   "metadata": {
    "collapsed": true
   },
   "source": [
    "# Amazon Reviews Project"
   ]
  },
  {
   "cell_type": "code",
   "execution_count": 1,
   "metadata": {
    "collapsed": true
   },
   "outputs": [],
   "source": [
    "import pandas as pd\n",
    "import gzip\n",
    "import os\n",
    "import json\n",
    "import scipy as scipy\n",
    "import ipywidgets as widgets\n",
    "from IPython.display import display\n",
    "import statistics as stat\n",
    "import matplotlib.pyplot as plt\n",
    "import numpy as np\n",
    "from sklearn import  linear_model\n",
    "from sklearn.model_selection import cross_val_predict\n",
    "from sklearn import metrics\n",
    "\n",
    "import multiprocessing"
   ]
  },
  {
   "cell_type": "markdown",
   "metadata": {
    "collapsed": true
   },
   "source": [
    "## LOAD DATA"
   ]
  },
  {
   "cell_type": "code",
   "execution_count": 2,
   "metadata": {},
   "outputs": [
    {
     "data": {
      "application/vnd.jupyter.widget-view+json": {
       "model_id": "0635686bb7fc4a1a89c6a40a097aa967"
      }
     },
     "metadata": {},
     "output_type": "display_data"
    }
   ],
   "source": [
    "category_options={\n",
    "    'Apps for Android': 'C:/Users/LeTrongTinh/Desktop/reviews_Apps_for_Android_5.json_2.gz',\n",
    "}\n",
    "dropdown = widgets.Dropdown(options=category_options)\n",
    "display(dropdown)\n",
    "if(not(os.path.isfile(dropdown.value[:-3]))):\n",
    "    inputFile = gzip.open(dropdown.value, 'rb')\n",
    "    outputFile = open(dropdown.value[:-3], 'wb')\n",
    "    outputFile.write(inputFile.read())\n",
    "    inputFile.close()\n",
    "    outputFile.close()"
   ]
  },
  {
   "cell_type": "code",
   "execution_count": 3,
   "metadata": {
    "collapsed": true
   },
   "outputs": [],
   "source": [
    "data=[]\n",
    "filepath=dropdown.value[:-3]\n",
    "with open(filepath) as f:\n",
    "    for line in f:\n",
    "        data.append(json.loads(line))\n",
    "df=pd.DataFrame(data)"
   ]
  },
  {
   "cell_type": "code",
   "execution_count": 4,
   "metadata": {},
   "outputs": [
    {
     "name": "stdout",
     "output_type": "stream",
     "text": [
      "(752937, 9)\n"
     ]
    },
    {
     "data": {
      "text/html": [
       "<div>\n",
       "<style>\n",
       "    .dataframe thead tr:only-child th {\n",
       "        text-align: right;\n",
       "    }\n",
       "\n",
       "    .dataframe thead th {\n",
       "        text-align: left;\n",
       "    }\n",
       "\n",
       "    .dataframe tbody tr th {\n",
       "        vertical-align: top;\n",
       "    }\n",
       "</style>\n",
       "<table border=\"1\" class=\"dataframe\">\n",
       "  <thead>\n",
       "    <tr style=\"text-align: right;\">\n",
       "      <th></th>\n",
       "      <th>asin</th>\n",
       "      <th>helpful</th>\n",
       "      <th>overall</th>\n",
       "      <th>reviewText</th>\n",
       "      <th>reviewTime</th>\n",
       "      <th>reviewerID</th>\n",
       "      <th>reviewerName</th>\n",
       "      <th>summary</th>\n",
       "      <th>unixReviewTime</th>\n",
       "    </tr>\n",
       "  </thead>\n",
       "  <tbody>\n",
       "    <tr>\n",
       "      <th>0</th>\n",
       "      <td>B004A9SDD8</td>\n",
       "      <td>[1, 1]</td>\n",
       "      <td>3.0</td>\n",
       "      <td>Loves the song, so he really couldn't wait to ...</td>\n",
       "      <td>11 2, 2013</td>\n",
       "      <td>A1N4O8VOJZTDVB</td>\n",
       "      <td>Annette Yancey</td>\n",
       "      <td>Really cute</td>\n",
       "      <td>1383350400</td>\n",
       "    </tr>\n",
       "    <tr>\n",
       "      <th>1</th>\n",
       "      <td>B004A9SDD8</td>\n",
       "      <td>[0, 0]</td>\n",
       "      <td>5.0</td>\n",
       "      <td>Oh, how my little grandson loves this app. He'...</td>\n",
       "      <td>12 5, 2011</td>\n",
       "      <td>A2HQWU6HUKIEC7</td>\n",
       "      <td>Audiobook lover \"Kathy\"</td>\n",
       "      <td>2-year-old loves it</td>\n",
       "      <td>1323043200</td>\n",
       "    </tr>\n",
       "    <tr>\n",
       "      <th>2</th>\n",
       "      <td>B004A9SDD8</td>\n",
       "      <td>[0, 0]</td>\n",
       "      <td>5.0</td>\n",
       "      <td>I found this at a perfect time since my daught...</td>\n",
       "      <td>05 21, 2012</td>\n",
       "      <td>A1SXASF6GYG96I</td>\n",
       "      <td>Barbara Gibbs</td>\n",
       "      <td>Fun game</td>\n",
       "      <td>1337558400</td>\n",
       "    </tr>\n",
       "    <tr>\n",
       "      <th>3</th>\n",
       "      <td>B004A9SDD8</td>\n",
       "      <td>[3, 4]</td>\n",
       "      <td>5.0</td>\n",
       "      <td>My 1 year old goes back to this game over and ...</td>\n",
       "      <td>12 6, 2012</td>\n",
       "      <td>A2B54P9ZDYH167</td>\n",
       "      <td>Brooke Greenstreet \"Babylove\"</td>\n",
       "      <td>We love our Monkeys!</td>\n",
       "      <td>1354752000</td>\n",
       "    </tr>\n",
       "    <tr>\n",
       "      <th>4</th>\n",
       "      <td>B004A9SDD8</td>\n",
       "      <td>[1, 1]</td>\n",
       "      <td>5.0</td>\n",
       "      <td>There are three different versions of the song...</td>\n",
       "      <td>02 1, 2014</td>\n",
       "      <td>AFOFZDTX5UC6D</td>\n",
       "      <td>C. Galindo</td>\n",
       "      <td>This is my granddaughters favorite app on my K...</td>\n",
       "      <td>1391212800</td>\n",
       "    </tr>\n",
       "  </tbody>\n",
       "</table>\n",
       "</div>"
      ],
      "text/plain": [
       "         asin helpful  overall  \\\n",
       "0  B004A9SDD8  [1, 1]      3.0   \n",
       "1  B004A9SDD8  [0, 0]      5.0   \n",
       "2  B004A9SDD8  [0, 0]      5.0   \n",
       "3  B004A9SDD8  [3, 4]      5.0   \n",
       "4  B004A9SDD8  [1, 1]      5.0   \n",
       "\n",
       "                                          reviewText   reviewTime  \\\n",
       "0  Loves the song, so he really couldn't wait to ...   11 2, 2013   \n",
       "1  Oh, how my little grandson loves this app. He'...   12 5, 2011   \n",
       "2  I found this at a perfect time since my daught...  05 21, 2012   \n",
       "3  My 1 year old goes back to this game over and ...   12 6, 2012   \n",
       "4  There are three different versions of the song...   02 1, 2014   \n",
       "\n",
       "       reviewerID                   reviewerName  \\\n",
       "0  A1N4O8VOJZTDVB                 Annette Yancey   \n",
       "1  A2HQWU6HUKIEC7        Audiobook lover \"Kathy\"   \n",
       "2  A1SXASF6GYG96I                  Barbara Gibbs   \n",
       "3  A2B54P9ZDYH167  Brooke Greenstreet \"Babylove\"   \n",
       "4   AFOFZDTX5UC6D                     C. Galindo   \n",
       "\n",
       "                                             summary  unixReviewTime  \n",
       "0                                        Really cute      1383350400  \n",
       "1                                2-year-old loves it      1323043200  \n",
       "2                                           Fun game      1337558400  \n",
       "3                               We love our Monkeys!      1354752000  \n",
       "4  This is my granddaughters favorite app on my K...      1391212800  "
      ]
     },
     "execution_count": 4,
     "metadata": {},
     "output_type": "execute_result"
    }
   ],
   "source": [
    "print(df.shape)\n",
    "df.head()"
   ]
  },
  {
   "cell_type": "code",
   "execution_count": 5,
   "metadata": {},
   "outputs": [
    {
     "name": "stdout",
     "output_type": "stream",
     "text": [
      "(602350, 9) (150587, 9)\n"
     ]
    }
   ],
   "source": [
    "train = df.sample(frac=0.8,random_state=200)\n",
    "test = df.drop(train.index)\n",
    "print(train.shape, test.shape)"
   ]
  },
  {
   "cell_type": "code",
   "execution_count": 6,
   "metadata": {
    "collapsed": true
   },
   "outputs": [],
   "source": [
    "y_train = train['overall']\n",
    "X_train = train.drop('overall',axis=1)\n",
    "y_test = test['overall']\n",
    "X_test = test.drop('overall',axis=1)"
   ]
  },
  {
   "cell_type": "code",
   "execution_count": 8,
   "metadata": {},
   "outputs": [
    {
     "data": {
      "text/html": [
       "<div>\n",
       "<style>\n",
       "    .dataframe thead tr:only-child th {\n",
       "        text-align: right;\n",
       "    }\n",
       "\n",
       "    .dataframe thead th {\n",
       "        text-align: left;\n",
       "    }\n",
       "\n",
       "    .dataframe tbody tr th {\n",
       "        vertical-align: top;\n",
       "    }\n",
       "</style>\n",
       "<table border=\"1\" class=\"dataframe\">\n",
       "  <thead>\n",
       "    <tr style=\"text-align: right;\">\n",
       "      <th></th>\n",
       "      <th>asin</th>\n",
       "      <th>helpful</th>\n",
       "      <th>reviewText</th>\n",
       "      <th>reviewTime</th>\n",
       "      <th>reviewerID</th>\n",
       "      <th>reviewerName</th>\n",
       "      <th>summary</th>\n",
       "      <th>unixReviewTime</th>\n",
       "    </tr>\n",
       "  </thead>\n",
       "  <tbody>\n",
       "    <tr>\n",
       "      <th>293554</th>\n",
       "      <td>B00846F1YW</td>\n",
       "      <td>[0, 0]</td>\n",
       "      <td>This is a fun game.  Too much dialogue. Have n...</td>\n",
       "      <td>02 14, 2013</td>\n",
       "      <td>A3QZ4G18WM9LDX</td>\n",
       "      <td>Vicki Coble Tucker</td>\n",
       "      <td>fun</td>\n",
       "      <td>1360800000</td>\n",
       "    </tr>\n",
       "    <tr>\n",
       "      <th>351713</th>\n",
       "      <td>B008L0JFAW</td>\n",
       "      <td>[4, 4]</td>\n",
       "      <td>I hate this app because I play the cello for s...</td>\n",
       "      <td>10 28, 2012</td>\n",
       "      <td>A1IMKH5RBJPCJ1</td>\n",
       "      <td>sweetheart555</td>\n",
       "      <td>HORRIBLE</td>\n",
       "      <td>1351382400</td>\n",
       "    </tr>\n",
       "    <tr>\n",
       "      <th>413759</th>\n",
       "      <td>B009HKL4B8</td>\n",
       "      <td>[0, 0]</td>\n",
       "      <td>I like this version of Sims because it does no...</td>\n",
       "      <td>11 4, 2012</td>\n",
       "      <td>AH4ODNX98K3YA</td>\n",
       "      <td>IAMM3Z</td>\n",
       "      <td>Doesn't harass friends on social media</td>\n",
       "      <td>1351987200</td>\n",
       "    </tr>\n",
       "    <tr>\n",
       "      <th>124132</th>\n",
       "      <td>B005ZTFPFQ</td>\n",
       "      <td>[0, 4]</td>\n",
       "      <td>The reason why this is so crappy because you h...</td>\n",
       "      <td>12 28, 2013</td>\n",
       "      <td>A1YSTXRBY2R952</td>\n",
       "      <td>caitlin french</td>\n",
       "      <td>Big Mistake.</td>\n",
       "      <td>1388188800</td>\n",
       "    </tr>\n",
       "    <tr>\n",
       "      <th>57527</th>\n",
       "      <td>B004UBUK4Q</td>\n",
       "      <td>[0, 0]</td>\n",
       "      <td>This game is great.  Hours of fun and a unique...</td>\n",
       "      <td>08 21, 2011</td>\n",
       "      <td>AHVB7IR58XW16</td>\n",
       "      <td>J. Cook \"J Cook\"</td>\n",
       "      <td>An excellent, fun challenge! (on hard)</td>\n",
       "      <td>1313884800</td>\n",
       "    </tr>\n",
       "  </tbody>\n",
       "</table>\n",
       "</div>"
      ],
      "text/plain": [
       "              asin helpful                                         reviewText  \\\n",
       "293554  B00846F1YW  [0, 0]  This is a fun game.  Too much dialogue. Have n...   \n",
       "351713  B008L0JFAW  [4, 4]  I hate this app because I play the cello for s...   \n",
       "413759  B009HKL4B8  [0, 0]  I like this version of Sims because it does no...   \n",
       "124132  B005ZTFPFQ  [0, 4]  The reason why this is so crappy because you h...   \n",
       "57527   B004UBUK4Q  [0, 0]  This game is great.  Hours of fun and a unique...   \n",
       "\n",
       "         reviewTime      reviewerID        reviewerName  \\\n",
       "293554  02 14, 2013  A3QZ4G18WM9LDX  Vicki Coble Tucker   \n",
       "351713  10 28, 2012  A1IMKH5RBJPCJ1       sweetheart555   \n",
       "413759   11 4, 2012   AH4ODNX98K3YA              IAMM3Z   \n",
       "124132  12 28, 2013  A1YSTXRBY2R952      caitlin french   \n",
       "57527   08 21, 2011   AHVB7IR58XW16    J. Cook \"J Cook\"   \n",
       "\n",
       "                                       summary  unixReviewTime  \n",
       "293554                                     fun      1360800000  \n",
       "351713                                HORRIBLE      1351382400  \n",
       "413759  Doesn't harass friends on social media      1351987200  \n",
       "124132                            Big Mistake.      1388188800  \n",
       "57527   An excellent, fun challenge! (on hard)      1313884800  "
      ]
     },
     "execution_count": 8,
     "metadata": {},
     "output_type": "execute_result"
    }
   ],
   "source": [
    "X_train.head()"
   ]
  },
  {
   "cell_type": "code",
   "execution_count": 132,
   "metadata": {},
   "outputs": [
    {
     "data": {
      "text/plain": [
       "293554    This is a fun game.  Too much dialogue. Have n...\n",
       "351713    I hate this app because I play the cello for s...\n",
       "413759    I like this version of Sims because it does no...\n",
       "124132    The reason why this is so crappy because you h...\n",
       "57527     This game is great.  Hours of fun and a unique...\n",
       "647922    This game is easy to pick up just for a few mi...\n",
       "708472    There is no challenge involved.  Only one who ...\n",
       "15957     And here I was just talking about break out la...\n",
       "291575    I have a 7 year old step daughter who has been...\n",
       "224000    This app works better than the app on my lapto...\n",
       "65229     I have this on both my phone and kindle. I rec...\n",
       "344732    This game has a little of everything to offer....\n",
       "462523    I got this while it was free for the day and i...\n",
       "497915    This game is the best one so far for me,  espe...\n",
       "533716    No real point to this app.  Needs to have a po...\n",
       "281432    This app is a really great app for anyone that...\n",
       "26380     I've tried to read The Bible before put always...\n",
       "333091    I  like how you can play  against people on th...\n",
       "235158    This is a pretty nice spot the difference game...\n",
       "218151    It was working fine earlier, but the second ti...\n",
       "692998    Enjoyable!  Takes your mind off the stress of ...\n",
       "268802    Lots of Great slots,good payouffs  ,like the g...\n",
       "104035    this is a fun game. a true time waster! have n...\n",
       "483804    wow this is one of my favorate games that I ha...\n",
       "356091    i fond the duck on this one too!!! just go  to...\n",
       "53735     As always, MapQuest gives good directions, and...\n",
       "396843    Some parts were scary. It kept me playing for ...\n",
       "533255    Love boggle, so thought I'd try this app. It w...\n",
       "713940    It's a fun game! Children love it and it is ve...\n",
       "564639    I give this game five stars for the ease of pl...\n",
       "                                ...                        \n",
       "19555     Excellent app that I use all day.  Love that n...\n",
       "742537    After giving a 5-star review to the first vers...\n",
       "200615    This app works well with three different types...\n",
       "268457    I didn't like this game at first as I kept run...\n",
       "544823    It is a lot of  fun, very challenging for me a...\n",
       "305033    This App is just like I said. its sooooooo fun...\n",
       "37502     As a sound designer I strongly recommend this ...\n",
       "377035    Very addicting game but fun. Hint: don't spend...\n",
       "123834    this game is great for my two year old daughte...\n",
       "444671    I like the format and the content is great, fo...\n",
       "91664     game was ok. easy at first and then gets progr...\n",
       "128137    I was halfway through the game when I pressed ...\n",
       "488655    The kids enjoy this app alot. I would turn the...\n",
       "17613     This game has alot of hard words, it should co...\n",
       "155997    I play this every night---definitely keeps you...\n",
       "216339    I have played this game and I thought it was f...\n",
       "379770    it's good for what it is.  great way to kill s...\n",
       "45811     I am very addicted to angry birds! This is a g...\n",
       "7006      it's so easy to play and you can adjust the le...\n",
       "225995    Cleo is my favorite game at the local casino. ...\n",
       "622926    You should make it 3d for better gameplay add ...\n",
       "266164    Works great. I am enjoying playing with my Fac...\n",
       "119852    It is a pretty good game of hearts for a downl...\n",
       "494797    This is ok.  It's a very basic game and once y...\n",
       "280873    I love this calculator! The same size as the k...\n",
       "97600     I hate leaving negative reviews, but this dese...\n",
       "394842    At first this game worked great and was a lot ...\n",
       "459156    The game is good but does not play well on sma...\n",
       "369777    Star Trib stops on Kindle Fire.  If you have a...\n",
       "390390    It was fine, then tonight it updated on it's o...\n",
       "Name: reviewText, Length: 602350, dtype: object"
      ]
     },
     "execution_count": 132,
     "metadata": {},
     "output_type": "execute_result"
    }
   ],
   "source": [
    "X_train[\"reviewText\"].astype(str)"
   ]
  },
  {
   "cell_type": "code",
   "execution_count": 15,
   "metadata": {},
   "outputs": [
    {
     "data": {
      "text/plain": [
       "293554    4.0\n",
       "351713    1.0\n",
       "413759    5.0\n",
       "124132    1.0\n",
       "57527     5.0\n",
       "Name: overall, dtype: float64"
      ]
     },
     "execution_count": 15,
     "metadata": {},
     "output_type": "execute_result"
    }
   ],
   "source": [
    "y_train.head()"
   ]
  },
  {
   "cell_type": "code",
   "execution_count": 26,
   "metadata": {
    "collapsed": true
   },
   "outputs": [],
   "source": [
    "from sklearn.feature_extraction.text import CountVectorizer\n",
    "from sklearn.feature_extraction.text import TfidfTransformer\n",
    "from sklearn.naive_bayes import MultinomialNB\n",
    "from sklearn.pipeline import Pipeline\n",
    "text_clf = Pipeline([('vect', CountVectorizer()),\n",
    "                    ('tfidf', TfidfTransformer()),\n",
    "                     ('clf', MultinomialNB()),])"
   ]
  },
  {
   "cell_type": "code",
   "execution_count": 27,
   "metadata": {},
   "outputs": [
    {
     "data": {
      "text/plain": [
       "Pipeline(steps=[('vect', CountVectorizer(analyzer='word', binary=False, decode_error='strict',\n",
       "        dtype=<class 'numpy.int64'>, encoding='utf-8', input='content',\n",
       "        lowercase=True, max_df=1.0, max_features=None, min_df=1,\n",
       "        ngram_range=(1, 1), preprocessor=None, stop_words=None,\n",
       "        strip...inear_tf=False, use_idf=True)), ('clf', MultinomialNB(alpha=1.0, class_prior=None, fit_prior=True))])"
      ]
     },
     "execution_count": 27,
     "metadata": {},
     "output_type": "execute_result"
    }
   ],
   "source": [
    "text_clf.fit(X_train['reviewText'], y_train)  "
   ]
  },
  {
   "cell_type": "code",
   "execution_count": 28,
   "metadata": {},
   "outputs": [
    {
     "name": "stdout",
     "output_type": "stream",
     "text": [
      "             precision    recall  f1-score   support\n",
      "\n",
      "        1.0       0.79      0.17      0.29     15804\n",
      "        2.0       0.00      0.00      0.00      8891\n",
      "        3.0       0.49      0.01      0.01     16956\n",
      "        4.0       0.34      0.02      0.03     31677\n",
      "        5.0       0.53      1.00      0.69     77259\n",
      "\n",
      "avg / total       0.48      0.53      0.39    150587\n",
      "\n"
     ]
    }
   ],
   "source": [
    "from sklearn.metrics import classification_report\n",
    "predicted = text_clf.predict(X_test['reviewText'])\n",
    "print(classification_report(y_test, predicted))"
   ]
  },
  {
   "cell_type": "code",
   "execution_count": 29,
   "metadata": {},
   "outputs": [
    {
     "data": {
      "text/plain": [
       "array([[ 2757,     1,    35,   157, 12854],\n",
       "       [  419,     0,    63,   258,  8151],\n",
       "       [  171,     0,   124,   539, 16122],\n",
       "       [   71,     2,    18,   581, 31005],\n",
       "       [   88,     8,    13,   163, 76987]])"
      ]
     },
     "execution_count": 29,
     "metadata": {},
     "output_type": "execute_result"
    }
   ],
   "source": [
    "metrics.confusion_matrix(y_test, predicted)"
   ]
  },
  {
   "cell_type": "code",
   "execution_count": 31,
   "metadata": {},
   "outputs": [],
   "source": [
    "from sklearn.model_selection import GridSearchCV\n",
    "parameters = {'vect__ngram_range': [(1, 1), (1, 2)],\n",
    "               'tfidf__use_idf': (True, False),\n",
    "              'clf__alpha': (1e-2, 1e-3),}"
   ]
  },
  {
   "cell_type": "code",
   "execution_count": 32,
   "metadata": {
    "collapsed": true
   },
   "outputs": [],
   "source": [
    "gs_clf = GridSearchCV(text_clf, parameters, n_jobs=-1)"
   ]
  },
  {
   "cell_type": "code",
   "execution_count": 33,
   "metadata": {
    "collapsed": true
   },
   "outputs": [],
   "source": [
    "gs_clf = gs_clf.fit(X_train['reviewText'][:400], y_train[:400])"
   ]
  },
  {
   "cell_type": "code",
   "execution_count": 34,
   "metadata": {},
   "outputs": [
    {
     "data": {
      "text/plain": [
       "0.55500000000000005"
      ]
     },
     "execution_count": 34,
     "metadata": {},
     "output_type": "execute_result"
    }
   ],
   "source": [
    "gs_clf.best_score_ "
   ]
  },
  {
   "cell_type": "code",
   "execution_count": 35,
   "metadata": {},
   "outputs": [
    {
     "name": "stdout",
     "output_type": "stream",
     "text": [
      "clf__alpha: 0.01\n",
      "tfidf__use_idf: True\n",
      "vect__ngram_range: (1, 2)\n"
     ]
    }
   ],
   "source": [
    "for param_name in sorted(parameters.keys()):\n",
    "    print(\"%s: %r\" % (param_name, gs_clf.best_params_[param_name]))"
   ]
  },
  {
   "cell_type": "code",
   "execution_count": null,
   "metadata": {
    "collapsed": true
   },
   "outputs": [],
   "source": []
  }
 ],
 "metadata": {
  "kernelspec": {
   "display_name": "Python 3",
   "language": "python",
   "name": "python3"
  },
  "language_info": {
   "codemirror_mode": {
    "name": "ipython",
    "version": 3
   },
   "file_extension": ".py",
   "mimetype": "text/x-python",
   "name": "python",
   "nbconvert_exporter": "python",
   "pygments_lexer": "ipython3",
   "version": "3.6.1"
  }
 },
 "nbformat": 4,
 "nbformat_minor": 2
}
