{
 "cells": [
  {
   "cell_type": "markdown",
   "metadata": {},
   "source": [
    "# Analytic Report project"
   ]
  },
  {
   "cell_type": "code",
   "execution_count": 1,
   "metadata": {
    "collapsed": true
   },
   "outputs": [],
   "source": [
    "import pandas as pd\n",
    "import scipy as scipy\n",
    "from scipy.stats import ttest_ind\n",
    "import matplotlib.pyplot as plt"
   ]
  },
  {
   "cell_type": "code",
   "execution_count": 2,
   "metadata": {},
   "outputs": [
    {
     "data": {
      "text/html": [
       "<div>\n",
       "<style>\n",
       "    .dataframe thead tr:only-child th {\n",
       "        text-align: right;\n",
       "    }\n",
       "\n",
       "    .dataframe thead th {\n",
       "        text-align: left;\n",
       "    }\n",
       "\n",
       "    .dataframe tbody tr th {\n",
       "        vertical-align: top;\n",
       "    }\n",
       "</style>\n",
       "<table border=\"1\" class=\"dataframe\">\n",
       "  <thead>\n",
       "    <tr style=\"text-align: right;\">\n",
       "      <th></th>\n",
       "      <th>age</th>\n",
       "      <th>sex</th>\n",
       "      <th>chest pain type</th>\n",
       "      <th>blood pressure</th>\n",
       "      <th>cholesterol</th>\n",
       "      <th>Fasting blood sugar &lt;120</th>\n",
       "      <th>resting ecg</th>\n",
       "      <th>maximu heart rate</th>\n",
       "      <th>angina</th>\n",
       "      <th>peak</th>\n",
       "      <th>slope</th>\n",
       "      <th>#colored vessels</th>\n",
       "      <th>thal</th>\n",
       "      <th>class</th>\n",
       "    </tr>\n",
       "  </thead>\n",
       "  <tbody>\n",
       "    <tr>\n",
       "      <th>0</th>\n",
       "      <td>60</td>\n",
       "      <td>1</td>\n",
       "      <td>4</td>\n",
       "      <td>130</td>\n",
       "      <td>206</td>\n",
       "      <td>0</td>\n",
       "      <td>2</td>\n",
       "      <td>132</td>\n",
       "      <td>1</td>\n",
       "      <td>2.4</td>\n",
       "      <td>2</td>\n",
       "      <td>2</td>\n",
       "      <td>7</td>\n",
       "      <td>0</td>\n",
       "    </tr>\n",
       "    <tr>\n",
       "      <th>1</th>\n",
       "      <td>49</td>\n",
       "      <td>1</td>\n",
       "      <td>2</td>\n",
       "      <td>130</td>\n",
       "      <td>266</td>\n",
       "      <td>0</td>\n",
       "      <td>0</td>\n",
       "      <td>171</td>\n",
       "      <td>0</td>\n",
       "      <td>0.6</td>\n",
       "      <td>1</td>\n",
       "      <td>0</td>\n",
       "      <td>3</td>\n",
       "      <td>1</td>\n",
       "    </tr>\n",
       "    <tr>\n",
       "      <th>2</th>\n",
       "      <td>64</td>\n",
       "      <td>1</td>\n",
       "      <td>1</td>\n",
       "      <td>110</td>\n",
       "      <td>211</td>\n",
       "      <td>0</td>\n",
       "      <td>2</td>\n",
       "      <td>144</td>\n",
       "      <td>1</td>\n",
       "      <td>1.8</td>\n",
       "      <td>2</td>\n",
       "      <td>0</td>\n",
       "      <td>3</td>\n",
       "      <td>1</td>\n",
       "    </tr>\n",
       "    <tr>\n",
       "      <th>3</th>\n",
       "      <td>63</td>\n",
       "      <td>1</td>\n",
       "      <td>4</td>\n",
       "      <td>130</td>\n",
       "      <td>254</td>\n",
       "      <td>0</td>\n",
       "      <td>2</td>\n",
       "      <td>147</td>\n",
       "      <td>0</td>\n",
       "      <td>1.4</td>\n",
       "      <td>2</td>\n",
       "      <td>1</td>\n",
       "      <td>7</td>\n",
       "      <td>0</td>\n",
       "    </tr>\n",
       "    <tr>\n",
       "      <th>4</th>\n",
       "      <td>53</td>\n",
       "      <td>1</td>\n",
       "      <td>4</td>\n",
       "      <td>140</td>\n",
       "      <td>203</td>\n",
       "      <td>1</td>\n",
       "      <td>2</td>\n",
       "      <td>155</td>\n",
       "      <td>1</td>\n",
       "      <td>3.1</td>\n",
       "      <td>3</td>\n",
       "      <td>0</td>\n",
       "      <td>7</td>\n",
       "      <td>0</td>\n",
       "    </tr>\n",
       "    <tr>\n",
       "      <th>5</th>\n",
       "      <td>58</td>\n",
       "      <td>0</td>\n",
       "      <td>1</td>\n",
       "      <td>150</td>\n",
       "      <td>283</td>\n",
       "      <td>1</td>\n",
       "      <td>2</td>\n",
       "      <td>162</td>\n",
       "      <td>0</td>\n",
       "      <td>1.0</td>\n",
       "      <td>1</td>\n",
       "      <td>0</td>\n",
       "      <td>3</td>\n",
       "      <td>1</td>\n",
       "    </tr>\n",
       "    <tr>\n",
       "      <th>6</th>\n",
       "      <td>58</td>\n",
       "      <td>1</td>\n",
       "      <td>2</td>\n",
       "      <td>120</td>\n",
       "      <td>284</td>\n",
       "      <td>0</td>\n",
       "      <td>2</td>\n",
       "      <td>160</td>\n",
       "      <td>0</td>\n",
       "      <td>1.8</td>\n",
       "      <td>2</td>\n",
       "      <td>0</td>\n",
       "      <td>3</td>\n",
       "      <td>0</td>\n",
       "    </tr>\n",
       "    <tr>\n",
       "      <th>7</th>\n",
       "      <td>58</td>\n",
       "      <td>1</td>\n",
       "      <td>3</td>\n",
       "      <td>132</td>\n",
       "      <td>224</td>\n",
       "      <td>0</td>\n",
       "      <td>2</td>\n",
       "      <td>173</td>\n",
       "      <td>0</td>\n",
       "      <td>3.2</td>\n",
       "      <td>1</td>\n",
       "      <td>2</td>\n",
       "      <td>7</td>\n",
       "      <td>0</td>\n",
       "    </tr>\n",
       "    <tr>\n",
       "      <th>8</th>\n",
       "      <td>63</td>\n",
       "      <td>1</td>\n",
       "      <td>1</td>\n",
       "      <td>145</td>\n",
       "      <td>233</td>\n",
       "      <td>1</td>\n",
       "      <td>2</td>\n",
       "      <td>150</td>\n",
       "      <td>0</td>\n",
       "      <td>2.3</td>\n",
       "      <td>3</td>\n",
       "      <td>0</td>\n",
       "      <td>6</td>\n",
       "      <td>1</td>\n",
       "    </tr>\n",
       "    <tr>\n",
       "      <th>9</th>\n",
       "      <td>67</td>\n",
       "      <td>1</td>\n",
       "      <td>4</td>\n",
       "      <td>160</td>\n",
       "      <td>286</td>\n",
       "      <td>0</td>\n",
       "      <td>2</td>\n",
       "      <td>108</td>\n",
       "      <td>1</td>\n",
       "      <td>1.5</td>\n",
       "      <td>2</td>\n",
       "      <td>3</td>\n",
       "      <td>3</td>\n",
       "      <td>0</td>\n",
       "    </tr>\n",
       "    <tr>\n",
       "      <th>10</th>\n",
       "      <td>67</td>\n",
       "      <td>1</td>\n",
       "      <td>4</td>\n",
       "      <td>120</td>\n",
       "      <td>229</td>\n",
       "      <td>0</td>\n",
       "      <td>2</td>\n",
       "      <td>129</td>\n",
       "      <td>1</td>\n",
       "      <td>2.6</td>\n",
       "      <td>2</td>\n",
       "      <td>2</td>\n",
       "      <td>7</td>\n",
       "      <td>0</td>\n",
       "    </tr>\n",
       "    <tr>\n",
       "      <th>11</th>\n",
       "      <td>37</td>\n",
       "      <td>1</td>\n",
       "      <td>3</td>\n",
       "      <td>130</td>\n",
       "      <td>250</td>\n",
       "      <td>0</td>\n",
       "      <td>0</td>\n",
       "      <td>187</td>\n",
       "      <td>0</td>\n",
       "      <td>3.5</td>\n",
       "      <td>3</td>\n",
       "      <td>0</td>\n",
       "      <td>3</td>\n",
       "      <td>1</td>\n",
       "    </tr>\n",
       "    <tr>\n",
       "      <th>12</th>\n",
       "      <td>41</td>\n",
       "      <td>0</td>\n",
       "      <td>2</td>\n",
       "      <td>130</td>\n",
       "      <td>204</td>\n",
       "      <td>0</td>\n",
       "      <td>2</td>\n",
       "      <td>172</td>\n",
       "      <td>0</td>\n",
       "      <td>1.4</td>\n",
       "      <td>1</td>\n",
       "      <td>0</td>\n",
       "      <td>3</td>\n",
       "      <td>1</td>\n",
       "    </tr>\n",
       "    <tr>\n",
       "      <th>13</th>\n",
       "      <td>56</td>\n",
       "      <td>1</td>\n",
       "      <td>2</td>\n",
       "      <td>120</td>\n",
       "      <td>236</td>\n",
       "      <td>0</td>\n",
       "      <td>0</td>\n",
       "      <td>178</td>\n",
       "      <td>0</td>\n",
       "      <td>0.8</td>\n",
       "      <td>1</td>\n",
       "      <td>0</td>\n",
       "      <td>3</td>\n",
       "      <td>1</td>\n",
       "    </tr>\n",
       "    <tr>\n",
       "      <th>14</th>\n",
       "      <td>62</td>\n",
       "      <td>0</td>\n",
       "      <td>4</td>\n",
       "      <td>140</td>\n",
       "      <td>268</td>\n",
       "      <td>0</td>\n",
       "      <td>2</td>\n",
       "      <td>160</td>\n",
       "      <td>0</td>\n",
       "      <td>3.6</td>\n",
       "      <td>3</td>\n",
       "      <td>2</td>\n",
       "      <td>3</td>\n",
       "      <td>0</td>\n",
       "    </tr>\n",
       "    <tr>\n",
       "      <th>15</th>\n",
       "      <td>57</td>\n",
       "      <td>0</td>\n",
       "      <td>4</td>\n",
       "      <td>120</td>\n",
       "      <td>354</td>\n",
       "      <td>0</td>\n",
       "      <td>0</td>\n",
       "      <td>163</td>\n",
       "      <td>1</td>\n",
       "      <td>0.6</td>\n",
       "      <td>1</td>\n",
       "      <td>0</td>\n",
       "      <td>3</td>\n",
       "      <td>1</td>\n",
       "    </tr>\n",
       "    <tr>\n",
       "      <th>16</th>\n",
       "      <td>57</td>\n",
       "      <td>1</td>\n",
       "      <td>4</td>\n",
       "      <td>140</td>\n",
       "      <td>192</td>\n",
       "      <td>0</td>\n",
       "      <td>0</td>\n",
       "      <td>148</td>\n",
       "      <td>0</td>\n",
       "      <td>0.4</td>\n",
       "      <td>2</td>\n",
       "      <td>0</td>\n",
       "      <td>6</td>\n",
       "      <td>1</td>\n",
       "    </tr>\n",
       "    <tr>\n",
       "      <th>17</th>\n",
       "      <td>56</td>\n",
       "      <td>0</td>\n",
       "      <td>2</td>\n",
       "      <td>140</td>\n",
       "      <td>294</td>\n",
       "      <td>0</td>\n",
       "      <td>2</td>\n",
       "      <td>153</td>\n",
       "      <td>0</td>\n",
       "      <td>1.3</td>\n",
       "      <td>2</td>\n",
       "      <td>0</td>\n",
       "      <td>3</td>\n",
       "      <td>1</td>\n",
       "    </tr>\n",
       "    <tr>\n",
       "      <th>18</th>\n",
       "      <td>56</td>\n",
       "      <td>1</td>\n",
       "      <td>3</td>\n",
       "      <td>130</td>\n",
       "      <td>256</td>\n",
       "      <td>1</td>\n",
       "      <td>2</td>\n",
       "      <td>142</td>\n",
       "      <td>1</td>\n",
       "      <td>0.6</td>\n",
       "      <td>2</td>\n",
       "      <td>1</td>\n",
       "      <td>6</td>\n",
       "      <td>0</td>\n",
       "    </tr>\n",
       "    <tr>\n",
       "      <th>19</th>\n",
       "      <td>44</td>\n",
       "      <td>1</td>\n",
       "      <td>2</td>\n",
       "      <td>120</td>\n",
       "      <td>263</td>\n",
       "      <td>0</td>\n",
       "      <td>0</td>\n",
       "      <td>173</td>\n",
       "      <td>0</td>\n",
       "      <td>0.0</td>\n",
       "      <td>1</td>\n",
       "      <td>0</td>\n",
       "      <td>7</td>\n",
       "      <td>1</td>\n",
       "    </tr>\n",
       "  </tbody>\n",
       "</table>\n",
       "</div>"
      ],
      "text/plain": [
       "    age  sex  chest pain type  blood pressure  cholesterol  \\\n",
       "0    60    1                4             130          206   \n",
       "1    49    1                2             130          266   \n",
       "2    64    1                1             110          211   \n",
       "3    63    1                4             130          254   \n",
       "4    53    1                4             140          203   \n",
       "5    58    0                1             150          283   \n",
       "6    58    1                2             120          284   \n",
       "7    58    1                3             132          224   \n",
       "8    63    1                1             145          233   \n",
       "9    67    1                4             160          286   \n",
       "10   67    1                4             120          229   \n",
       "11   37    1                3             130          250   \n",
       "12   41    0                2             130          204   \n",
       "13   56    1                2             120          236   \n",
       "14   62    0                4             140          268   \n",
       "15   57    0                4             120          354   \n",
       "16   57    1                4             140          192   \n",
       "17   56    0                2             140          294   \n",
       "18   56    1                3             130          256   \n",
       "19   44    1                2             120          263   \n",
       "\n",
       "    Fasting blood sugar <120  resting ecg  maximu heart rate  angina  peak  \\\n",
       "0                          0            2                132       1   2.4   \n",
       "1                          0            0                171       0   0.6   \n",
       "2                          0            2                144       1   1.8   \n",
       "3                          0            2                147       0   1.4   \n",
       "4                          1            2                155       1   3.1   \n",
       "5                          1            2                162       0   1.0   \n",
       "6                          0            2                160       0   1.8   \n",
       "7                          0            2                173       0   3.2   \n",
       "8                          1            2                150       0   2.3   \n",
       "9                          0            2                108       1   1.5   \n",
       "10                         0            2                129       1   2.6   \n",
       "11                         0            0                187       0   3.5   \n",
       "12                         0            2                172       0   1.4   \n",
       "13                         0            0                178       0   0.8   \n",
       "14                         0            2                160       0   3.6   \n",
       "15                         0            0                163       1   0.6   \n",
       "16                         0            0                148       0   0.4   \n",
       "17                         0            2                153       0   1.3   \n",
       "18                         1            2                142       1   0.6   \n",
       "19                         0            0                173       0   0.0   \n",
       "\n",
       "    slope  #colored vessels  thal  class  \n",
       "0       2                 2     7      0  \n",
       "1       1                 0     3      1  \n",
       "2       2                 0     3      1  \n",
       "3       2                 1     7      0  \n",
       "4       3                 0     7      0  \n",
       "5       1                 0     3      1  \n",
       "6       2                 0     3      0  \n",
       "7       1                 2     7      0  \n",
       "8       3                 0     6      1  \n",
       "9       2                 3     3      0  \n",
       "10      2                 2     7      0  \n",
       "11      3                 0     3      1  \n",
       "12      1                 0     3      1  \n",
       "13      1                 0     3      1  \n",
       "14      3                 2     3      0  \n",
       "15      1                 0     3      1  \n",
       "16      2                 0     6      1  \n",
       "17      2                 0     3      1  \n",
       "18      2                 1     6      0  \n",
       "19      1                 0     7      1  "
      ]
     },
     "execution_count": 2,
     "metadata": {},
     "output_type": "execute_result"
    }
   ],
   "source": [
    "data = pd.read_excel('Cardiology.xls', sheetname='Sheet1')\n",
    "data.head(20)"
   ]
  },
  {
   "cell_type": "code",
   "execution_count": 3,
   "metadata": {},
   "outputs": [
    {
     "data": {
      "text/html": [
       "<div>\n",
       "<style>\n",
       "    .dataframe thead tr:only-child th {\n",
       "        text-align: right;\n",
       "    }\n",
       "\n",
       "    .dataframe thead th {\n",
       "        text-align: left;\n",
       "    }\n",
       "\n",
       "    .dataframe tbody tr th {\n",
       "        vertical-align: top;\n",
       "    }\n",
       "</style>\n",
       "<table border=\"1\" class=\"dataframe\">\n",
       "  <thead>\n",
       "    <tr style=\"text-align: right;\">\n",
       "      <th></th>\n",
       "      <th>age</th>\n",
       "      <th>sex</th>\n",
       "      <th>blood pressure</th>\n",
       "      <th>cholesterol</th>\n",
       "      <th>class</th>\n",
       "    </tr>\n",
       "  </thead>\n",
       "  <tbody>\n",
       "    <tr>\n",
       "      <th>count</th>\n",
       "      <td>303.000000</td>\n",
       "      <td>303.000000</td>\n",
       "      <td>303.000000</td>\n",
       "      <td>303.000000</td>\n",
       "      <td>303.000000</td>\n",
       "    </tr>\n",
       "    <tr>\n",
       "      <th>mean</th>\n",
       "      <td>54.366337</td>\n",
       "      <td>0.683168</td>\n",
       "      <td>131.623762</td>\n",
       "      <td>246.264026</td>\n",
       "      <td>0.544554</td>\n",
       "    </tr>\n",
       "    <tr>\n",
       "      <th>std</th>\n",
       "      <td>9.082101</td>\n",
       "      <td>0.466011</td>\n",
       "      <td>17.538143</td>\n",
       "      <td>51.830751</td>\n",
       "      <td>0.498835</td>\n",
       "    </tr>\n",
       "    <tr>\n",
       "      <th>min</th>\n",
       "      <td>29.000000</td>\n",
       "      <td>0.000000</td>\n",
       "      <td>94.000000</td>\n",
       "      <td>126.000000</td>\n",
       "      <td>0.000000</td>\n",
       "    </tr>\n",
       "    <tr>\n",
       "      <th>25%</th>\n",
       "      <td>47.500000</td>\n",
       "      <td>0.000000</td>\n",
       "      <td>120.000000</td>\n",
       "      <td>211.000000</td>\n",
       "      <td>0.000000</td>\n",
       "    </tr>\n",
       "    <tr>\n",
       "      <th>50%</th>\n",
       "      <td>55.000000</td>\n",
       "      <td>1.000000</td>\n",
       "      <td>130.000000</td>\n",
       "      <td>240.000000</td>\n",
       "      <td>1.000000</td>\n",
       "    </tr>\n",
       "    <tr>\n",
       "      <th>75%</th>\n",
       "      <td>61.000000</td>\n",
       "      <td>1.000000</td>\n",
       "      <td>140.000000</td>\n",
       "      <td>274.500000</td>\n",
       "      <td>1.000000</td>\n",
       "    </tr>\n",
       "    <tr>\n",
       "      <th>max</th>\n",
       "      <td>77.000000</td>\n",
       "      <td>1.000000</td>\n",
       "      <td>200.000000</td>\n",
       "      <td>564.000000</td>\n",
       "      <td>1.000000</td>\n",
       "    </tr>\n",
       "  </tbody>\n",
       "</table>\n",
       "</div>"
      ],
      "text/plain": [
       "              age         sex  blood pressure  cholesterol       class\n",
       "count  303.000000  303.000000      303.000000   303.000000  303.000000\n",
       "mean    54.366337    0.683168      131.623762   246.264026    0.544554\n",
       "std      9.082101    0.466011       17.538143    51.830751    0.498835\n",
       "min     29.000000    0.000000       94.000000   126.000000    0.000000\n",
       "25%     47.500000    0.000000      120.000000   211.000000    0.000000\n",
       "50%     55.000000    1.000000      130.000000   240.000000    1.000000\n",
       "75%     61.000000    1.000000      140.000000   274.500000    1.000000\n",
       "max     77.000000    1.000000      200.000000   564.000000    1.000000"
      ]
     },
     "execution_count": 3,
     "metadata": {},
     "output_type": "execute_result"
    }
   ],
   "source": [
    "data = data[['age', 'sex', 'blood pressure', 'cholesterol','class']]\n",
    "data.describe()"
   ]
  },
  {
   "cell_type": "markdown",
   "metadata": {},
   "source": [
    "# 1. How does blood pressure and cholesterol relate to each other?"
   ]
  },
  {
   "cell_type": "code",
   "execution_count": 9,
   "metadata": {},
   "outputs": [
    {
     "data": {
      "image/png": "[encoded data removed]",
      "text/plain": [
       "<matplotlib.figure.Figure at 0xb4d8420cc0>"
      ]
     },
     "metadata": {},
     "output_type": "display_data"
    },
    {
     "name": "stdout",
     "output_type": "stream",
     "text": [
      "Hệ số tương quan giữa blood presure và cholesterol : 0.12317420653239071\n"
     ]
    }
   ],
   "source": [
    "blood_pressure = data['blood pressure']\n",
    "cholesterol = data['cholesterol']\n",
    "plt.plot(blood_pressure, \"red\")\n",
    "plt.plot(cholesterol, \"blue\")\n",
    "plt.show()\n",
    "print('Hệ số tương quan giữa blood presure và cholesterol : {}' .format(blood_pressure.corr(cholesterol)))"
   ]
  },
  {
   "cell_type": "markdown",
   "metadata": {},
   "source": [
    "Vậy sự tương quan giữa blood presure và cholesterol là tương đối thấp"
   ]
  },
  {
   "cell_type": "markdown",
   "metadata": {},
   "source": [
    "# 2.Do men tend to have higher blood pressure than women? What about cholesterol?\n",
    "## 2.1 Blood pressure:\n",
    "- Null hypothesis: Men don't tend to have higher blood pressure than women.\n",
    "- Alternative hypothesis: Men tend to have higher blood pressure than women."
   ]
  },
  {
   "cell_type": "code",
   "execution_count": 12,
   "metadata": {},
   "outputs": [
    {
     "data": {
      "image/png": "[encoded data removed]",
      "text/plain": [
       "<matplotlib.figure.Figure at 0xb4d83a4f98>"
      ]
     },
     "metadata": {},
     "output_type": "display_data"
    },
    {
     "name": "stdout",
     "output_type": "stream",
     "text": [
      "p_value = 0.3246834797221041\n"
     ]
    }
   ],
   "source": [
    "men = data[data['sex']== 1]    \n",
    "women = data[data['sex']== 0]\n",
    "\n",
    "plt.plot(men['blood pressure'])\n",
    "plt.plot(women['blood pressure'])\n",
    "plt.show()\n",
    "\n",
    "result_bp = ttest_ind(men['blood pressure'],women['blood pressure'])\n",
    "print('p_value = {}' .format(result_bp.pvalue))"
   ]
  },
  {
   "cell_type": "markdown",
   "metadata": {},
   "source": [
    "Vì p_value > 0.1 nên không thể kết luận rằng nam giới có xu hướng blood pressure  cao hơn phụ nữ."
   ]
  },
  {
   "cell_type": "markdown",
   "metadata": {},
   "source": [
    "## 2.1 Cholesterol:\n",
    "- Null hypothesis: Men don't tend to have higher cholesterol than women.\n",
    "- Alternative hypothesis: Men tend to have higher cholesterol than women."
   ]
  },
  {
   "cell_type": "code",
   "execution_count": 14,
   "metadata": {},
   "outputs": [
    {
     "data": {
      "image/png": "[encoded data removed]",
      "text/plain": [
       "<matplotlib.figure.Figure at 0xb4d860e588>"
      ]
     },
     "metadata": {},
     "output_type": "display_data"
    },
    {
     "name": "stdout",
     "output_type": "stream",
     "text": [
      "p_value = 0.000529966610622664\n"
     ]
    }
   ],
   "source": [
    "plt.plot(men['cholesterol'])\n",
    "plt.plot(women['cholesterol'])\n",
    "plt.show()\n",
    "\n",
    "result_chol = ttest_ind(men['cholesterol'],women['cholesterol'])\n",
    "print('p_value = {}' .format(result_chol.pvalue))"
   ]
  },
  {
   "cell_type": "markdown",
   "metadata": {},
   "source": [
    "Vì p_value < 0.01 nên có thể kết luận rằng nam giới có xu hướng cholesterol cao hơn phụ nữ."
   ]
  },
  {
   "cell_type": "markdown",
   "metadata": {},
   "source": [
    "# 3.What contribute to causing heart disease (age, cholesterol, blood pressure)? Is it the effect the same for both sex (men and women)?\n",
    "## 3.1 Age:\n",
    "- Null hypothesis: Age doesn't cause heart disease.\n",
    "- Alternative hypothesis: Age causes heart disease."
   ]
  },
  {
   "cell_type": "code",
   "execution_count": 18,
   "metadata": {},
   "outputs": [
    {
     "name": "stdout",
     "output_type": "stream",
     "text": [
      "pvalue in age case of men: 2.102442577307712e-05 \n"
     ]
    }
   ],
   "source": [
    "men_age_heart_disease = ttest_ind(data['age'][data['sex'] == 1][data['class']==1], \n",
    "                                  data['age'][data['sex'] == 1][data['class']==0]).pvalue\n",
    "print('pvalue in age case of men: {} '.format(men_age_heart_disease))"
   ]
  },
  {
   "cell_type": "code",
   "execution_count": 19,
   "metadata": {},
   "outputs": [
    {
     "name": "stdout",
     "output_type": "stream",
     "text": [
      "pvalue in age case of women: 0.042469631102719105 \n"
     ]
    }
   ],
   "source": [
    "women_age_heart_disease = ttest_ind(data['age'][data['sex'] == 0][data['class']==1], \n",
    "                                    data['age'][data['sex'] == 0][data['class']==0]).pvalue\n",
    "print('pvalue in age case of women: {} '.format(women_age_heart_disease))"
   ]
  },
  {
   "cell_type": "markdown",
   "metadata": {},
   "source": [
    "Từ 2 kết quả p_value ở trên ta có thể kết luận rằng tuổi gây ra bệnh tim cho cả nam lẫn nữ."
   ]
  },
  {
   "cell_type": "markdown",
   "metadata": {},
   "source": [
    "## 3.2 Blood pressure:\n",
    "- Null hypothesis:  Blood pressure don't cause heart disease.\n",
    "- Alternative hypothesis: Blood pressure cause heart disease."
   ]
  },
  {
   "cell_type": "code",
   "execution_count": 21,
   "metadata": {},
   "outputs": [
    {
     "name": "stdout",
     "output_type": "stream",
     "text": [
      "pvalue in blood pressure case of men: 0.3484860467059646 \n",
      "pvalue in blood pressure case of women: 7.837377824823497e-05\n"
     ]
    }
   ],
   "source": [
    "men_pressure_heart_disease = ttest_ind(data['blood pressure'][data['sex'] == 1][data['class']==1], \n",
    "                                       data['blood pressure'][data['sex'] == 1][data['class']==0]).pvalue\n",
    "print('pvalue in blood pressure case of men: {} '.format(men_pressure_heart_disease))\n",
    "\n",
    "women_pressure_heart_disease = ttest_ind(data['blood pressure'][data['sex'] == 0][data['class']==1], \n",
    "                                       data['blood pressure'][data['sex'] == 0][data['class']==0]).pvalue\n",
    "print('pvalue in blood pressure case of women: {}' .format(women_pressure_heart_disease))"
   ]
  },
  {
   "cell_type": "markdown",
   "metadata": {},
   "source": [
    "Từ 2 kết quả p_value ở trên ta có thể kết luận rằng blood pressure chỉ gây ra cho nữ không ảnh hưởng tới nam."
   ]
  },
  {
   "cell_type": "markdown",
   "metadata": {},
   "source": [
    "## 3.3 Cholesterol:\n",
    "- Null hypothesis:  Cholesterol don't cause heart disease.\n",
    "- Alternative hypothesis: Cholesterol cause heart disease."
   ]
  },
  {
   "cell_type": "code",
   "execution_count": 23,
   "metadata": {},
   "outputs": [
    {
     "name": "stdout",
     "output_type": "stream",
     "text": [
      "pvalue in cholesterol case of men: 0.011348054524752035 \n",
      "pvalue in cholesterol case of women: 0.2372594614368495 \n"
     ]
    }
   ],
   "source": [
    "men_cholesterol_heart_disease = ttest_ind(data['cholesterol'][data['sex'] == 1][data['class']==1], \n",
    "                                          data['cholesterol'][data['sex'] == 1][data['class']==0]).pvalue\n",
    "print('pvalue in cholesterol case of men: {} '.format(men_cholesterol_heart_disease))\n",
    "\n",
    "women_cholesterol_heart_disease = ttest_ind(data['cholesterol'][data['sex'] == 0][data['class']==1], \n",
    "                                          data['cholesterol'][data['sex'] == 0][data['class']==0]).pvalue\n",
    "print('pvalue in cholesterol case of women: {} '.format(women_cholesterol_heart_disease))"
   ]
  },
  {
   "cell_type": "markdown",
   "metadata": {},
   "source": [
    "Từ 2 kết quả p_value ở trên ta có thể kết luận rằng cholesterol  chỉ gây ra cho nam không ảnh hưởng tới nữ."
   ]
  },
  {
   "cell_type": "markdown",
   "metadata": {},
   "source": [
    "# Kết Luận:\n",
    "## 1.\n",
    "    - sự tương quan giữa blood presure và cholesterol là tương đối thấp\n",
    "## 2. \n",
    "    - nam giới có xu hướng blood pressure  cao hơn phụ nữ.\n",
    "    - nam giới có xu hướng cholesterol cao hơn phụ nữ.\n",
    "## 3.\n",
    "    - Tuổi gây ra bệnh tim cho cả nam lẫn nữ.\n",
    "    - Blood pressure chỉ gây ra cho nữ không ảnh hưởng tới nam\n",
    "    - Cholesterol  chỉ gây ra cho nam không ảnh hưởng tới nữ"
   ]
  }
 ],
 "metadata": {
  "kernelspec": {
   "display_name": "Python 3",
   "language": "python",
   "name": "python3"
  },
  "language_info": {
   "codemirror_mode": {
    "name": "ipython",
    "version": 3
   },
   "file_extension": ".py",
   "mimetype": "text/x-python",
   "name": "python",
   "nbconvert_exporter": "python",
   "pygments_lexer": "ipython3",
   "version": "3.6.1"
  },
  "widgets": {
   "application/vnd.jupyter.widget-state+json": {
    "state": {},
    "version_major": 1,
    "version_minor": 0
   }
  }
 },
 "nbformat": 4,
 "nbformat_minor": 2
}
