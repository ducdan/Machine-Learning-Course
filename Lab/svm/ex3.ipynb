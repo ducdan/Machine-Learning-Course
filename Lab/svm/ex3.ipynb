{
 "cells": [
  {
   "cell_type": "code",
   "execution_count": 1,
   "metadata": {
    "collapsed": true
   },
   "outputs": [],
   "source": [
    "import numpy as np  \n",
    "import pandas as pd  \n",
    "import matplotlib.pyplot as plt  \n",
    "import seaborn as sb  \n",
    "from scipy.io import loadmat  \n",
    "%matplotlib inline\n",
    "from sklearn import svm  \n"
   ]
  },
  {
   "cell_type": "code",
   "execution_count": 14,
   "metadata": {
    "collapsed": false
   },
   "outputs": [
    {
     "data": {
      "text/plain": [
       "<matplotlib.legend.Legend at 0x229d8e335f8>"
      ]
     },
     "execution_count": 14,
     "metadata": {},
     "output_type": "execute_result"
    },
    {
     "data": {
      "image/png": "[encoded data removed]",
      "text/plain": [
       "<matplotlib.figure.Figure at 0x229d8c910b8>"
      ]
     },
     "metadata": {},
     "output_type": "display_data"
    }
   ],
   "source": [
    "raw_data = loadmat('data3.mat')\n",
    "\n",
    "data = pd.DataFrame(raw_data['X'], columns=['X1', 'X2'])  \n",
    "data['y'] = raw_data['y']\n",
    "\n",
    "positive = data[data['y'].isin([1])]  \n",
    "negative = data[data['y'].isin([0])]\n",
    "\n",
    "fig, ax = plt.subplots(figsize=(12,8))  \n",
    "ax.scatter(positive['X1'], positive['X2'], s=30, marker='x', label='Positive')  \n",
    "ax.scatter(negative['X1'], negative['X2'], s=30, marker='o', label='Negative')  \n",
    "ax.legend()  "
   ]
  },
  {
   "cell_type": "code",
   "execution_count": 16,
   "metadata": {
    "collapsed": false
   },
   "outputs": [
    {
     "name": "stdout",
     "output_type": "stream",
     "text": [
      "C: 0.01\n",
      "score:0.435\n",
      "--------------------------------------------------\n",
      "C: 0.03\n",
      "score:0.435\n",
      "--------------------------------------------------\n",
      "C: 0.1\n",
      "score:0.86\n",
      "--------------------------------------------------\n",
      "C: 0.3\n",
      "score:0.965\n",
      "--------------------------------------------------\n",
      "C: 1\n",
      "score:0.965\n",
      "--------------------------------------------------\n",
      "C: 3\n",
      "score:0.945\n",
      "--------------------------------------------------\n",
      "C: 10\n",
      "score:0.945\n",
      "--------------------------------------------------\n",
      "C: 30\n",
      "score:0.92\n",
      "--------------------------------------------------\n",
      "C: 100\n",
      "score:0.88\n",
      "--------------------------------------------------\n"
     ]
    },
    {
     "data": {
      "text/plain": [
       "(0.96499999999999997, {'C': 0.3, 'gamma': 100})"
      ]
     },
     "execution_count": 16,
     "metadata": {},
     "output_type": "execute_result"
    }
   ],
   "source": [
    "raw_data = loadmat('data3.mat')\n",
    "\n",
    "X = raw_data['X']  \n",
    "Xval = raw_data['Xval']  \n",
    "y = raw_data['y'].ravel()  \n",
    "yval = raw_data['yval'].ravel()\n",
    "\n",
    "C_values = [0.01, 0.03, 0.1, 0.3, 1, 3, 10, 30, 100]  \n",
    "gamma_values = [0.01, 0.03, 0.1, 0.3, 1, 3, 10, 30, 100]\n",
    "\n",
    "best_score = 0  \n",
    "best_params = {'C': None, 'gamma': None}\n",
    "\n",
    "for C in C_values:\n",
    "    current_score=0\n",
    "    for gamma in gamma_values:\n",
    "        svc = svm.SVC(C=C, gamma=gamma)\n",
    "        svc.fit(X, y)\n",
    "        score = svc.score(Xval, yval)\n",
    "        current_score=score\n",
    "        \n",
    "        if score > best_score:\n",
    "            best_score = score\n",
    "            best_params['C'] = C\n",
    "            best_params['gamma'] = gamma\n",
    "    \n",
    "    print('C: '+ str(C))\n",
    "    print('score:' + str(current_score))\n",
    "    print('--------------------------------------------------')\n",
    "\n",
    "best_score, best_params  "
   ]
  }
 ],
 "metadata": {
  "anaconda-cloud": {},
  "kernelspec": {
   "display_name": "Python [conda root]",
   "language": "python",
   "name": "conda-root-py"
  },
  "language_info": {
   "codemirror_mode": {
    "name": "ipython",
    "version": 3
   },
   "file_extension": ".py",
   "mimetype": "text/x-python",
   "name": "python",
   "nbconvert_exporter": "python",
   "pygments_lexer": "ipython3",
   "version": "3.5.2"
  }
 },
 "nbformat": 4,
 "nbformat_minor": 2
}
